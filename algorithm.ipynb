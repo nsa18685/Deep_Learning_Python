{
 "cells": [
  {
   "cell_type": "markdown",
   "metadata": {},
   "source": [
    "1. 이진 탐색 알고리즘을 프로그래밍 하시오 !\n",
    "\n",
    "   이진탐색으로 배열에서 검색할 숫자가 무엇인가요 ?  67\n",
    "\n",
    "![image.png](attachment:image.png)\n",
    "\n"
   ]
  },
  {
   "cell_type": "code",
   "execution_count": 46,
   "metadata": {
    "scrolled": true
   },
   "outputs": [
    {
     "name": "stdout",
     "output_type": "stream",
     "text": [
      "0\n",
      "14\n"
     ]
    }
   ],
   "source": [
    "data = [1, 7, 11, 12, 14, 23, 44, 47, 51, 64, 67, 77,140, 672, 871]\n",
    "\n",
    "def binary_search(data, target):\n",
    "    s = 0\n",
    "    e = len(data) -1\n",
    "\n",
    "    while s <= e:\n",
    "        m = (s + e)//2\n",
    "        if target == data[m] :\n",
    "            return m\n",
    "        elif target > data[m]:\n",
    "            s = m + 1\n",
    "        else:\n",
    "            e = m -1\n",
    "    else:\n",
    "        return '값이 없습니다'\n",
    "        \n",
    "print(binary_search(data,1))\n",
    "print(binary_search(data,871))"
   ]
  },
  {
   "cell_type": "code",
   "execution_count": 47,
   "metadata": {},
   "outputs": [
    {
     "name": "stdout",
     "output_type": "stream",
     "text": [
      "숫자 1 가 있습니다\n",
      "숫자 871 가 있습니다\n"
     ]
    }
   ],
   "source": [
    "data = [1, 7, 11, 12, 14, 23, 44, 47, 51, 64, 67, 77,140, 672, 871]\n",
    "\n",
    "def binary_search(data, target):\n",
    "    data.sort()\n",
    "    s = 0\n",
    "    e = len(data) -1\n",
    "\n",
    "    while s <= e:\n",
    "        m = (s + e)//2\n",
    "        if target == data[m] :\n",
    "            return '숫자 %d 가 있습니다' % target\n",
    "        elif target > data[m]:\n",
    "            s = m + 1\n",
    "        else:\n",
    "            e = m -1\n",
    "    else:\n",
    "        return '숫자 %d 가 없습니다' % target\n",
    "        \n",
    "print(binary_search(data,1))\n",
    "print(binary_search(data,871))"
   ]
  },
  {
   "cell_type": "code",
   "execution_count": 63,
   "metadata": {
    "scrolled": true
   },
   "outputs": [
    {
     "name": "stdout",
     "output_type": "stream",
     "text": [
      "숫자 43 없습니다\n",
      "숫자 1 있습니다\n",
      "숫자 871 있습니다\n"
     ]
    }
   ],
   "source": [
    "data = [1, 7, 11, 12, 14, 23, 44, 47, 871, 64, 67, 77, 140, 672, 51]\n",
    "\n",
    "def binary_search(inlist,x):\n",
    "    inlist.sort() \n",
    "    if len(inlist)==1:\n",
    "        print('숫자',x, '있습니다' if x==inlist[0] else '없습니다')\n",
    "    elif x < inlist[len(inlist)//2]:\n",
    "        return binary_search(inlist[:len(inlist)//2],x)\n",
    "    else:\n",
    "        return binary_search(inlist[len(inlist)//2:],x)\n",
    "    \n",
    "binary_search(data, 43)\n",
    "binary_search(data,1)\n",
    "binary_search(data,871)"
   ]
  },
  {
   "cell_type": "code",
   "execution_count": 81,
   "metadata": {},
   "outputs": [
    {
     "name": "stdout",
     "output_type": "stream",
     "text": [
      "input file name : winter.txt\n",
      "input word : elsa\n",
      "찾은 개수 329개"
     ]
    }
   ],
   "source": [
    "# 문제 206. 겨울왕국 대본에서 elsa를 검색해서 몇건이 나오는지 출력하는 아래의 코드를 클래스로 만들어서 실행되게 하시오\n",
    "\n",
    "class TextMining:\n",
    "\n",
    "    def __init__(self):\n",
    "        pass\n",
    "    \n",
    "    def findWord(self):\n",
    "        file = input('input file name : ')\n",
    "        word = input('input word : ')\n",
    "\n",
    "        file = open(file, 'r')\n",
    "        sum = 0\n",
    "        \n",
    "        for winter_list in file:\n",
    "            list_ = winter_list.split(' ')\n",
    "            for w in list_:\n",
    "                sum = sum + w.lower().count(word)\n",
    "                print('\\r찾은 개수 %d개' %sum, end='')\n",
    "                \n",
    "find_w = TextMining()\n",
    "find_w.findWord()"
   ]
  },
  {
   "cell_type": "code",
   "execution_count": 98,
   "metadata": {},
   "outputs": [
    {
     "name": "stdout",
     "output_type": "stream",
     "text": [
      "input file name : winter.txt\n",
      "찾은 개수 419개\n"
     ]
    }
   ],
   "source": [
    "# 문제207-207. 겨울왕국 대본에 긍정 단어가 몇건이 있는지 출력하는 함수를 생성하시오\n",
    "\n",
    "def positiveWords():\n",
    "        import re  # 데이터 정재시 중요한 정규식 모듈\n",
    "        \n",
    "        file = input('input file name : ')\n",
    "\n",
    "        file = open(file, 'r')\n",
    "        sum = 0\n",
    "        \n",
    "        wordlist = []\n",
    "        for f_list in file:\n",
    "            list_ = f_list.split(' ')\n",
    "            for w in list_:\n",
    "                wordlist.append(re.sub(\"\\n\",'',w).lower())   # 단어 출력 -> \"\\n\" 를 ''으로 처리해라\n",
    "            \n",
    "        file = open(\"positive-words.txt\", 'r')\n",
    "        sum = 0\n",
    "        \n",
    "        positive = []\n",
    "        for f_list in file:\n",
    "            list_ = f_list.split(' ')\n",
    "            for w in list_:\n",
    "                positive.append(re.sub(\"\\n\",'',w).lower())   # 단어 출력 -> \"\\n\" 를 ''으로 처리해라\n",
    "        \n",
    "        for i in wordlist:\n",
    "            for j in positive:\n",
    "                if i == j:\n",
    "                    sum = sum + 1\n",
    "        print('\\r찾은 개수 %d개' %sum)\n",
    "        \n",
    "positiveWords()"
   ]
  },
  {
   "cell_type": "markdown",
   "metadata": {},
   "source": [
    "2.  순차 탐색 알고리즘을 구현하려면 ? \n",
    "순차탐색으로 배열에서 검색할 숫자가 무엇인가요 ?  67\n",
    "           \n",
    "\n",
    "\n",
    "![image.png](attachment:image.png)\n"
   ]
  },
  {
   "cell_type": "code",
   "execution_count": 100,
   "metadata": {},
   "outputs": [
    {
     "name": "stdout",
     "output_type": "stream",
     "text": [
      "숫자 1가 있습니다.\n",
      "숫자 871가 있습니다.\n",
      "숫자 87가 없습니다.\n"
     ]
    }
   ],
   "source": [
    "data = [1, 7, 11, 12, 14, 23, 44, 47, 51, 64, 67, 77,140, 672, 871]\n",
    "\n",
    "def sequential_search(data, target):\n",
    "    \n",
    "    for i in data:\n",
    "        if i == target:\n",
    "            return '숫자 %d가 있습니다.' %target\n",
    "    else:\n",
    "        return '숫자 %d가 없습니다.' %target\n",
    "    \n",
    "print(sequential_search(data,1))\n",
    "print(sequential_search(data,871))\n",
    "print(sequential_search(data,87))"
   ]
  },
  {
   "cell_type": "code",
   "execution_count": 507,
   "metadata": {
    "collapsed": true
   },
   "outputs": [],
   "source": [
    "import re\n",
    "\n",
    "k = []\n",
    "\n",
    "for j in open(\"Sherlock.txt\", 'r'):  # 셜록홈즈 로딩\n",
    "\n",
    "    kq = re.sub('[^A-z ]', '', j).lower()\n",
    "\n",
    "#     print (kq)"
   ]
  },
  {
   "cell_type": "code",
   "execution_count": 123,
   "metadata": {},
   "outputs": [
    {
     "name": "stdout",
     "output_type": "stream",
     "text": [
      "input file name : Sherlock.txt\n",
      "찾은 개수 529개\n",
      "총 걸린 시간: 6.379901647567749\n"
     ]
    }
   ],
   "source": [
    "# 문제209-219. 셜록홈주 영화 대분에서 알파벳 외에 다른 데이터는 다 제외하시오\n",
    "\n",
    "def Words():\n",
    "        import re  # 데이터 정재시 중요한 정규식 모듈\n",
    "        import time\n",
    "        \n",
    "        start = time.time()\n",
    "        \n",
    "        file = input('input file name : ')\n",
    "\n",
    "        file = open(file, 'r')\n",
    "        sum = 0\n",
    "        \n",
    "        wordlist = []\n",
    "        for f_list in file:\n",
    "            list_ = f_list.split(' ')\n",
    "            for w in list_:\n",
    "                a = re.sub(\"[^A-z]\",'',w).lower()   # 단어 출력 --> 알파벳 외에 다른 데이터는 다 제외\n",
    "                if a != '':\n",
    "                    wordlist.append(a)\n",
    "#         print(wordlist)\n",
    "        \n",
    "        positive=[]\n",
    "        for j in open(\"positive-words.txt\", 'r'):  # 셜록홈즈 로딩\n",
    "\n",
    "            pq = re.sub('[^A-z ]', '', j).lower().split(' ') #알파벳 A-z가 아닌것들은 공백으로 바꿔라\n",
    "            for k in pq:\n",
    "                if k != '':\n",
    "                    if len(k) >= 2:\n",
    "                        positive.append(k)\n",
    "\n",
    "#         print(positive)\n",
    "        \n",
    "        for i in wordlist:\n",
    "            for j in positive:\n",
    "                if i == j:\n",
    "                    sum = sum + 1\n",
    "                    \n",
    "        print('\\r찾은 개수 %d개' %sum)\n",
    "        \n",
    "        end = time.time()\n",
    "        print('총 걸린 시간:',end - start) # 단위:\n",
    "        \n",
    "Words()"
   ]
  },
  {
   "cell_type": "code",
   "execution_count": 72,
   "metadata": {
    "collapsed": true
   },
   "outputs": [],
   "source": [
    "# 문제. mydata3.txt를 m_list라는 비어있는 변수에 단어별로 쪼개서 담으시오\n",
    "\n",
    "import re  # 데이터 정재시 중요한 정규식 모듈\n",
    "\n",
    "\n",
    "m_list=[]\n",
    "for j in open(\"mydata3.txt\", 'r', encoding='UTF8'):  # 셜록홈즈 로딩\n",
    "\n",
    "    pq = re.sub('[^가-힣A-z ]', '', j).split(' ') #알파벳 A-z가 아닌것들은 공백으로 바꿔라\n",
    "    for k in pq:\n",
    "        if k != '':\n",
    "            if len(k) >= 2:\n",
    "                m_list.append(k)\n",
    "                \n",
    "# print(m_list)"
   ]
  },
  {
   "cell_type": "code",
   "execution_count": null,
   "metadata": {
    "collapsed": true
   },
   "outputs": [],
   "source": [
    "# 문제. 위의 기사에서 조사를 빼고 단어만 출력될 수 있도록 하시오\n",
    "\n",
    "from konlpy.tag import Twitter\n",
    "\n",
    "str_file = input('분석할 스크립트 파일 입력: ')\n",
    "\n",
    "file = open(str_file, mode=\"r\", encoding=\"UTF-8\").read()\n",
    "\n",
    "npl = Twitter()\n",
    "\n",
    "file_word = npl.nouns(file)\n",
    "\n",
    "print(file_word)"
   ]
  },
  {
   "cell_type": "code",
   "execution_count": 131,
   "metadata": {
    "scrolled": true
   },
   "outputs": [
    {
     "name": "stdout",
     "output_type": "stream",
     "text": [
      "Requirement already satisfied: konlpy in c:\\users\\nsa18\\anaconda3\\lib\\site-packages (0.4.4)\n"
     ]
    }
   ],
   "source": [
    "# !pip install konlpy\n",
    "# !python -m pip install --upgrade pip\n",
    "# !conda install -c conda-forge jpype1"
   ]
  },
  {
   "cell_type": "markdown",
   "metadata": {},
   "source": [
    "■ 재귀알고리즘 기본 (구구단, 별)\n",
    "\n",
    "※ 재귀함수란? 함수내에서 다시 자신을 호출한 후 그 함수가 끝날때까지 함수 호출이후의 명령문이 수행되지 않는다.\n",
    "\n",
    "    \"반복문 + 스택구조\": LIFO"
   ]
  },
  {
   "cell_type": "code",
   "execution_count": 2,
   "metadata": {
    "scrolled": true
   },
   "outputs": [
    {
     "name": "stdout",
     "output_type": "stream",
     "text": [
      "(5, 6)\n"
     ]
    }
   ],
   "source": [
    "# 비교 예:\n",
    "def hap(a, b):\n",
    "    return a + b\n",
    "\n",
    "def gop(a,b):\n",
    "    return a * b\n",
    "\n",
    "def hap_gop(a,b):\n",
    "    return hap(a,b), gop(a,b)\n",
    "\n",
    "print(hap_gop(2,3))"
   ]
  },
  {
   "cell_type": "markdown",
   "metadata": {},
   "source": [
    "※ 설명: hap_gop 함수는 a와 b 값을 받아서 hap함수와 gop 함수를 호출했다."
   ]
  },
  {
   "cell_type": "code",
   "execution_count": 4,
   "metadata": {},
   "outputs": [
    {
     "name": "stdout",
     "output_type": "stream",
     "text": [
      "3\n",
      "2\n",
      "1\n",
      "발사\n"
     ]
    }
   ],
   "source": [
    "# 재귀 예제:\n",
    "def countdown(n):\n",
    "    if n == 0:\n",
    "        print('발사')\n",
    "    else:\n",
    "        print(n)\n",
    "        return countdown(n-1)\n",
    "    \n",
    "countdown(3)"
   ]
  },
  {
   "cell_type": "code",
   "execution_count": 10,
   "metadata": {},
   "outputs": [
    {
     "name": "stdout",
     "output_type": "stream",
     "text": [
      "2 x 1 = 2\n",
      "2 x 2 = 4\n",
      "2 x 3 = 6\n",
      "2 x 4 = 8\n",
      "2 x 5 = 10\n",
      "2 x 6 = 12\n",
      "2 x 7 = 14\n",
      "2 x 8 = 16\n",
      "2 x 9 = 18\n"
     ]
    }
   ],
   "source": [
    "# 재귀함수를 이용하여 구구단 2단을 출력하시오\n",
    "def gugudan(n = 1):\n",
    "    if n != 10:\n",
    "        print('2 x %d = %d' %(n, 2*n))\n",
    "        gugudan(n+1)\n",
    "    \n",
    "gugudan()"
   ]
  },
  {
   "cell_type": "markdown",
   "metadata": {},
   "source": [
    "■  90. 재귀 알고리즘 기본 ( 팩토리얼, 최대공약수 ) "
   ]
  },
  {
   "cell_type": "code",
   "execution_count": null,
   "metadata": {
    "collapsed": true
   },
   "outputs": [],
   "source": [
    "# 문제235. 팩토리얼을 재귀함수로 작성하세요.\n",
    "def factorial(n):\n",
    "    if n!=0:\n",
    "        return(n) * factorial(n-1)\n",
    "    else:\n",
    "        return 1\n",
    "\n",
    "factorial(5)\n"
   ]
  },
  {
   "cell_type": "code",
   "execution_count": null,
   "metadata": {
    "collapsed": true
   },
   "outputs": [],
   "source": [
    "# 문제236. ★ 을 재귀함수로 구현하세요.\n",
    "\n",
    "def star_print(n):\n",
    "    if n!= 0:\n",
    "        star_print(n-1)\n",
    "        print(n*'★')\n",
    "\n",
    "star_print(5)\n",
    "\n",
    "# 반대로찍기~\n",
    "def star_print2(n):\n",
    "    if n!= 0:\n",
    "        print(n*'★')\n",
    "        star_print2(n-1)\n",
    "        \n",
    "star_print2(5)"
   ]
  },
  {
   "cell_type": "code",
   "execution_count": null,
   "metadata": {
    "collapsed": true
   },
   "outputs": [],
   "source": [
    "# 문제237. loop문을 이용해서 최대공약수를 구하세요!\n",
    "def gcd(a,b):\n",
    "    i = min(a,b)\n",
    "    while True:\n",
    "        if a%i==0 and b%i ==0: #T F = F  -> if 문을 빠져나옴 , i=i-1 로 \n",
    "            return i\n",
    "        i=i-1\n",
    "print(gcd(10,4))\n",
    "\n",
    "# 재귀를 사용해서~\n",
    "def find_gcd2(a,b):\n",
    "    rs=a%b\n",
    "    if rs ==0:\n",
    "        print(b)\n",
    "    else:\n",
    "        find_gcd2(b,rs)\n",
    "find_gcd2(10,10)\n",
    "\n",
    "# 또는,\n",
    "def max_yaksu(a,b):\n",
    "   if a%b != 0:\n",
    "      return max_yaksu(b, a%b)\n",
    "   return b\n",
    "print(max_yaksu(20,16))"
   ]
  },
  {
   "cell_type": "code",
   "execution_count": null,
   "metadata": {
    "collapsed": true
   },
   "outputs": [],
   "source": [
    "#  문제238. 변수가 3개인 최대공약수를 loop문을 이용하지말고, 재귀로  구현하세요 !\n",
    "\n",
    "# loop문\n",
    "def gcd(a,b,c):\n",
    "    i = min(a,b,c)\n",
    "    while True:\n",
    "        if a%i == 0 and b%i ==0 and c%i ==0:\n",
    "            return i\n",
    "        i=i-1\n",
    "print(gcd(10,4,8))\n",
    "# 재귀문\n",
    "def gcd2(a,b,c):\n",
    "    if a%b !=0:\n",
    "        return gcd2(b,a%b, c)\n",
    "    elif b%c !=0:\n",
    "        return gcd2(a,b%c,b)\n",
    "    return b\n",
    "\n",
    "gcd2(10,10,10)\n"
   ]
  },
  {
   "cell_type": "markdown",
   "metadata": {},
   "source": [
    "■ 98. 버블 정렬"
   ]
  },
  {
   "cell_type": "code",
   "execution_count": 7,
   "metadata": {
    "scrolled": true
   },
   "outputs": [
    {
     "name": "stdout",
     "output_type": "stream",
     "text": [
      "[1, 2, 3, 4, 5, 7, 8, 10]\n"
     ]
    },
    {
     "data": {
      "text/plain": [
       "[1, 2, 3, 4, 5, 7, 8, 10]"
      ]
     },
     "execution_count": 7,
     "metadata": {},
     "output_type": "execute_result"
    }
   ],
   "source": [
    "# loop문\n",
    "def bubble(data):\n",
    "    for j in range (0,len(data)-1): \n",
    "        for i in range (0,len(data)-1):\n",
    "            if data[i] >= data[i+1]:\n",
    "                (data[i+1],data[i])=(data[i],data[i+1])\n",
    "#                 print(data) \n",
    "            else:\n",
    "                pass\n",
    "print(data)\n",
    "\n",
    "data=[5,4,3,2,1,8,7,10]\n",
    "\n",
    "bubble(data)\n",
    "\n",
    "def bubble_sort(li, n = 0 ):\n",
    "    if n == len(li):\n",
    "        return li\n",
    "    bubble_sub(li,0)\n",
    "    return bubble_sort(li, n+1)\n",
    "\n",
    "def bubble_sub(li,i):\n",
    "    if i == (len(li) -1):\n",
    "        return li\n",
    "    elif li[i] > li[i+1]:\n",
    "        li[i+1], li[i] = li[i], li[i+1]\n",
    "    return bubble_sub(li, i+1)\n",
    "\n",
    "data=[5,4,3,2,1,8,7,10]\n",
    "\n",
    "bubble_sort(data)\n"
   ]
  },
  {
   "cell_type": "markdown",
   "metadata": {},
   "source": [
    "### ** ■ 문제. 탐욕 알고리즘을 파이썬으로 구현하시오 ! ** \n",
    "\n",
    " \n",
    "\"탐욕 알고리즘이란? **매 순간마다 최선의 선택하는것 **\n",
    " 즉, 선택할때마다 가장 좋다고 생각되는 것을 선택해나가며 최종적인 해답을 \n",
    " 구하는 알고리즘 입니다. <br>\n",
    " 이 알고리즘을 설계할 때 유의할 점은 전체를 \n",
    " 고려하는게 아니라 문제를 부분적으로 나누어, 나누어진 문제에 대한 최적의  \n",
    " 해답을 구하므로 전체적인 최적의 해가 될 수 있는 경우가 존재합니다. \"\n",
    " \n",
    " \n",
    " **최단 거리 알고리즘을 구현하기 위해 필요한 알고리즘 **"
   ]
  },
  {
   "cell_type": "markdown",
   "metadata": {},
   "source": [
    "예시 :  print( greedy() )\n",
    " \n",
    "          액수를 입력하세요 ~   14\n",
    "          거스름돈의 종류를 입력하세요 ~   10 7 1\n"
   ]
  },
  {
   "cell_type": "code",
   "execution_count": 14,
   "metadata": {},
   "outputs": [
    {
     "name": "stdout",
     "output_type": "stream",
     "text": [
      "액수를 입력하세요: 14\n",
      "거스름돈의 종류를 입력하세요 ~ 7 10 1\n",
      "10원 동전은 1개, 7원 동전은 0개, 1원 동전은 4개입니다.\n"
     ]
    }
   ],
   "source": [
    "def greedy():\n",
    "    money = int(input('액수를 입력하세요: '))\n",
    "    num = [int(i) for i in input('거스름돈의 종류를 입력하세요 ~ ').split()]\n",
    "    num.sort(reverse=True)\n",
    "    result = ''\n",
    "    for j in num:\n",
    "        if money >= j:\n",
    "            m = money // j\n",
    "            money %= j\n",
    "        else:\n",
    "            m = 0\n",
    "        result += \"%d원 동전은 %d개, \" %(j, m)\n",
    "    return result[:-2] + '입니다.'\n",
    "\n",
    "\n",
    "print(greedy())"
   ]
  },
  {
   "cell_type": "markdown",
   "metadata": {
    "collapsed": true
   },
   "source": [
    "### **2017. 카카오 공채신입문제 1**\n",
    "\n",
    "1. 비밀 지도(난이도: 하)\n",
    "네오는 평소 프로도가 비상금을 숨겨놓는 장소를 알려줄 비밀지도를 손에 넣었다. 그런데 이 비밀지도는 숫자로 암호화되어 있어 위치를 확인하기 위해서는 암호를 해독해야 한다. 다행히 지도 암호를 해독할 방법을 적어놓은 메모도 함께 발견했다.\n",
    "\n",
    "\n",
    "지도는 한 변의 길이가 n인 정사각형 배열 형태로, 각 칸은 “공백”(“ “) 또는 “벽”(“#”) 두 종류로 이루어져 있다.\n",
    "\n",
    "전체 지도는 두 장의 지도를 겹쳐서 얻을 수 있다. 각각 “지도 1”과 “지도 2”라고 하자. 지도 1 또는 지도 2 중 어느 하나라도 벽인 부분은 전체 지도에서도 벽이다. 지도 1과 지도 2에서 모두 공백인 부분은 전체 지도에서도 공백이다.\n",
    "\n",
    "“지도 1”과 “지도 2”는 각각 정수 배열로 암호화되어 있다.\n",
    "\n",
    "암호화된 배열은 지도의 각 가로줄에서 벽 부분을 1, 공백 부분을 0으로 부호화했을 때 얻어지는 이진수에 해당하는 값의 배열이다.\n",
    "\n",
    "![image.png](attachment:image.png)\n",
    "\n",
    "네오가 프로도의 비상금을 손에 넣을 수 있도록, 비밀지도의 암호를 해독하는 작업을 도와줄 프로그램을 작성하라.\n",
    "\n",
    "입력 형식\n",
    "\n",
    "입력으로 지도의 한 변 크기 n 과 2개의 정수 배열 arr1, arr2가 들어온다.\n",
    "\n",
    "1 ≦ n ≦ 16\n",
    "\n",
    "arr1, arr2는 길이 n인 정수 배열로 주어진다.\n",
    "\n",
    "정수 배열의 각 원소 x를 이진수로 변환했을 때의 길이는 n 이하이다. 즉, 0 ≦ x ≦ 2^n - 1을 만족한다.\n",
    "\n",
    "\n",
    "출력 형식\n",
    "\n",
    "원래의 비밀지도를 해독하여 \"#\", 공백으로 구성된 문자열 배열로 출력하라.\n",
    "\n",
    "입출력 예제\n",
    "\n",
    "매개변수\t값\n",
    "\n",
    "n\t5\n",
    "\n",
    "arr1\t[9, 20, 28, 18, 11]\n",
    "\n",
    "arr2\t[30, 1, 21, 17, 28]\n",
    "\n",
    "출력\t[\"#####\",\"# # #\", \"### #\", \"# ##\", \"#####\"]\n",
    "\n",
    "매개변수\t값\n",
    "\n",
    "n\t6\n",
    "\n",
    "arr1\t[46, 33, 33 ,22, 31, 50]\n",
    "\n",
    "arr2\t[27 ,56, 19, 14, 14, 10]\n",
    "\n",
    "출력\t[\"######\", \"### #\", \"## ##\", \" #### \", \" #####\", \"### # \"]\n",
    "\n"
   ]
  },
  {
   "cell_type": "code",
   "execution_count": 27,
   "metadata": {
    "scrolled": true
   },
   "outputs": [
    {
     "name": "stdout",
     "output_type": "stream",
     "text": [
      "0b1001\n",
      "1001\n"
     ]
    }
   ],
   "source": [
    "# 아래의 결과를 분석하시오\n",
    "print(bin(9))\n",
    "# '0b1001'   --> '1001'\n",
    "# >> 바이너리(2진법)으로 변환하는 함수\n",
    "# Ob1001\n",
    "\n",
    "# ob1001 --> 1001로 변경하시오\n",
    "\n",
    "txt = bin(9).replace('0b', '')\n",
    "ret1 = txt.replace('0b', '')\n",
    "print(bin(9).replace('0b', ''))"
   ]
  },
  {
   "cell_type": "code",
   "execution_count": 26,
   "metadata": {
    "scrolled": true
   },
   "outputs": [
    {
     "name": "stdout",
     "output_type": "stream",
     "text": [
      "#  #\n"
     ]
    },
    {
     "data": {
      "text/plain": [
       "'#  #'"
      ]
     },
     "execution_count": 26,
     "metadata": {},
     "output_type": "execute_result"
    }
   ],
   "source": [
    "# 아래의 1001을 #  # 으로 출력하시오\n",
    "text = bin(9).replace(\"0b\", '')\n",
    "text = text.replace('1','#').replace('0',' ')\n",
    "print(text)\n"
   ]
  },
  {
   "cell_type": "markdown",
   "metadata": {},
   "source": [
    "문제. 아래의 내용을 구현하시오 ! \n",
    "\n",
    "\n",
    "번호를 넣으세요 5\n",
    "\n",
    "첫번째 배열?9 20 28 18 11\n",
    "두번째 배열?30 1 21 17 28\n",
    "\n",
    "\n",
    "['0b11111', '0b10101', '0b11101', '0b10011', '0b11111']"
   ]
  },
  {
   "cell_type": "code",
   "execution_count": 30,
   "metadata": {
    "scrolled": true
   },
   "outputs": [
    {
     "name": "stdout",
     "output_type": "stream",
     "text": [
      "5\n",
      "9 20 28 18 11\n",
      "30 1 21 17 28\n",
      "['#####', '# # #', '### #', '#  ##', '#####']\n"
     ]
    }
   ],
   "source": [
    "n = int(input(\"번호를 넣으세요\"))\n",
    "\n",
    "arr1 = [int(i) for i in input(\"첫번째 배열?\").split()]\n",
    "arr2 = [int(j) for j in input(\"두번째 배열?\").split()]\n",
    "\n",
    "re = []\n",
    "for i in range(n):\n",
    "    re.append(bin(arr1[i]|arr2[i]).replace(\"0b\", '').replace('1','#').replace('0',' '))\n",
    "    \n",
    "print(re)"
   ]
  },
  {
   "cell_type": "markdown",
   "metadata": {},
   "source": [
    "### ** 2. 다트 게임(난이도: 하) **\n",
    "\n",
    "카카오톡에 뜬 네 번째 별! 심심할 땐? 카카오톡 게임별~\n",
    "\n",
    "\n",
    "카카오톡 게임별의 하반기 신규 서비스로 다트 게임을 출시하기로 했다. 다트 게임은 다트판에 다트를 세 차례 던져 그 점수의 합계로 실력을 겨루는 게임으로, 모두가 간단히 즐길 수 있다.\n",
    "\n",
    "갓 입사한 무지는 코딩 실력을 인정받아 게임의 핵심 부분인 점수 계산 로직을 맡게 되었다. 다트 게임의 점수 계산 로직은 아래와 같다.\n",
    "\n",
    "\n",
    "다트 게임은 총 3번의 기회로 구성된다.\n",
    "\n",
    "각 기회마다 얻을 수 있는 점수는 0점에서 10점까지이다.\n",
    "\n",
    "점수와 함께 Single(S), Double(D), Triple(T) 영역이 존재하고 각 영역 당첨 시 점수에서 1제곱, 2제곱, 3제곱 (점수^1 , 점수^2 , 점수^3 )으로 계산된다.\n",
    "\n",
    "옵션으로 스타상(\\*) , 아차상(#)이 존재하며 스타상(\\*) 당첨 시 해당 점수와 바로 전에 얻은 점수를 각 2배로 만든다. 아차상(#) 당첨 시 해당 점수는 마이너스된다.\n",
    "\n",
    "** 스타상(\\*)은 첫 번째 기회에서도 나올 수 있다. 이 경우 첫 번째 스타상(\\*)의 점수만 2배가 된다. (예제 4번 참고)**\n",
    "\n",
    "스타상(\\*)의 효과는 다른 스타상(\\*)의 효과와 중첩될 수 있다. 이 경우 중첩된 스타상(\\*) 점수는 4배가 된다. (예제 4번 참고)\n",
    "\n",
    "스타상(\\*)의 효과는 아차상(#)의 효과와 중첩될 수 있다. 이 경우 중첩된 아차상(#)의 점수는 -2배가 된다. (예제 5번 참고)\n",
    "\n",
    "Single(S), Double(D), Triple(T)은 점수마다 하나씩 존재한다.\n",
    "\n",
    "스타상(\\*), 아차상(#)은 점수마다 둘 중 하나만 존재할 수 있으며, 존재하지 않을 수도 있다.\n",
    "\n",
    "0~10의 정수와 문자 S, D, T, \\*, #로 구성된 문자열이 입력될 시 총점수를 반환하는 함수를 작성하라.\n",
    "\n",
    "\n",
    "입력 형식\n",
    "\n",
    "“점수|보너스|[옵션]”으로 이루어진 문자열 3세트.\n",
    "\n",
    "예) 1S2D*3T\n",
    "\n",
    "점수는 0에서 10 사이의 정수이다.\n",
    "\n",
    "보너스는 S, D, T 중 하나이다.\n",
    "\n",
    "옵선은 \\*이나 # 중 하나이며, 없을 수도 있다.\n",
    "\n",
    "\n",
    "출력 형식\n",
    "\n",
    "3번의 기회에서 얻은 점수 합계에 해당하는 정수값을 출력한다.\n",
    "\n",
    "예) 37\n",
    "\n",
    "\n",
    "입출력 예제\n",
    "\n",
    "예제 | dartResult | answer | 설명\n",
    "\n",
    "1\t1S2D\\*3T\t37\t1^1 * 2 + 2^2 \\* 2 + 3^3\n",
    "\n",
    "2\t1D2S#10S\t9\t1^2 + 2^1 \\* (-1) + 10^1\n",
    "\n",
    "3\t1D2S0T\t3\t1^2 + 2^1 + 0^3\n",
    "\n",
    "4\t1S\\*2T\\*3S\t23\t1^1 \\* 2 * 2 + 2^3 \\* 2 + 3^1\n",
    "\n",
    "5\t1D#2S\\*3S\t5\t1^2 \\* (-1) \\* 2 + 2^1 \\* 2 + 3^1\n",
    "\n",
    "6\t1T2D3D#\t-4\t1^3 + 2^2 + 3^2 \\* (-1)\n",
    "\n",
    "7\t1D2S3T\\*\t59\t1^2 + 2^1 \\* 2 + 3^3 \\* 2\n",
    "\n",
    "\n",
    "문제 해설\n",
    "\n",
    "문자열 처리String Manipulation를 묻는 문제입니다. 앞에서부터 한 글자씩 잘라서 처리할 수 있고, 또는 간단한 컴파일러를 만들듯이 토큰화Tokenizing와 의미 분석Semantic Analysis을 통해 어렵지 않게 계산할 수 있습니다.\n",
    "\n",
    "점수 중에는 한 자리뿐만 아니라 두 자리인 10점도 포함되어 있기 때문에 한 글자씩 잘라서 처리할때는 그 부분에 유의해야겠네요. 토큰화로 처리할 때는 정규식을 사용하면 비교적 쉽게 잘라낼 수 있습니다. S, D, T는 각각 원점수, 제곱, 세제곱으로 처리하고 스타상은 두 배로 계산하면 됩니다. 참, 아차상은 마이너스 점수라는 점에 유의하세요.\n",
    "\n",
    "이 문제의 정답률은 73.47%입니다. 앞서 비밀지도 보다는 낮지만 그래도 많은 분들이 잘 풀어주셨습니다."
   ]
  },
  {
   "cell_type": "markdown",
   "metadata": {},
   "source": [
    "문제. 아래와 같이 구현하시오\n",
    "\n",
    "문자열을 입력하세요  :  1S2D\\*3T\n",
    "37\n",
    "\n",
    "\n",
    "문자열을 입력하세요  :  1D2S#10S\n",
    "9"
   ]
  },
  {
   "cell_type": "code",
   "execution_count": 15,
   "metadata": {},
   "outputs": [
    {
     "name": "stdout",
     "output_type": "stream",
     "text": [
      "문자열을 입력하세요 : 1D2S#10S\n",
      "[1, 'D', 2, 'S', '#', 1, 0, 'S']\n"
     ]
    }
   ],
   "source": [
    "# 아래와 같이 결과를 출력하시오\n",
    "\n",
    "string = [eval(i) for i in input().replace('S',' \"S\" ').replace('D',' \"D\" ').replace('T',' \"T\" ').replace('*',' \"*\" ').replace('#',' \"#\" ').split()]\n",
    "\n",
    "print(string)\n",
    "\n",
    "# dart = input('문자열을 입력하세요 : ')\n",
    "# a = []\n",
    "\n",
    "# for i in range(len(dart)):\n",
    "#     try:\n",
    "#         a.append(int(dart[i]))\n",
    "#     except:\n",
    "#         a.append(dart[i])\n",
    "\n",
    "# print(a)"
   ]
  },
  {
   "cell_type": "code",
   "execution_count": 12,
   "metadata": {},
   "outputs": [
    {
     "name": "stdout",
     "output_type": "stream",
     "text": [
      "1D2S#10S\n",
      "[1, 'D', ' ', 2, 'S', '#', 10, 'S', ' ']\n"
     ]
    }
   ],
   "source": [
    "# 총 9칸으로 만들어서 숫자, 문자, 특수 / 숫자, 문자, 특수 / 숫자, 문자, 특수/ 로 배열하기 위해 특수문자가 존재하지 않은 자리에 빈칸을 채워준다.\n",
    "\n",
    "arr = [eval(i) for i in input('문자열을 입력하세요 : ').replace('S',' \"S\" ').replace('D',' \"D\" ').replace('T',' \"T\" ').replace('*',' \"*\" ').replace('#',' \"#\" ').split()]\n",
    "\n",
    "for i in range(2,len(arr),3):\n",
    "    if arr[i] not in ('#','*'):\n",
    "        arr.insert(i,' ')\n",
    "else:\n",
    "    if arr[-1] not in ('#','*'):\n",
    "        arr.append(' ')\n",
    "\n",
    "print(arr)"
   ]
  },
  {
   "cell_type": "code",
   "execution_count": 26,
   "metadata": {},
   "outputs": [
    {
     "name": "stdout",
     "output_type": "stream",
     "text": [
      "문자열을 입력하세요 : 1D2S3T*\n",
      "[[1, 'D', ' '], [2, 'S', ' '], [3, 'T', '*']]\n"
     ]
    }
   ],
   "source": [
    "# 위의 리스트를 3개씩 묶으시오\n",
    "\n",
    "arr = [eval(i) for i in input('문자열을 입력하세요 : ').replace('S',' \"S\" ').replace('D',' \"D\" ').replace('T',' \"T\" ').replace('*',' \"*\" ').replace('#',' \"#\" ').split()]\n",
    "\n",
    "result = []\n",
    "for i in range(2,len(arr),3):\n",
    "    if arr[i] not in ('#','*'):\n",
    "        arr.insert(i,' ')\n",
    "    result.append(list(arr[i-2:i+1]))\n",
    "else:\n",
    "    if arr[-1] not in ('#','*'):\n",
    "        arr.append(' ')\n",
    "    result.append(list(arr[-3:]))\n",
    "\n",
    "# result = [list(arr[i:i+3]) for i in range(0,len(arr),3)]\n",
    "\n",
    "print(result)"
   ]
  },
  {
   "cell_type": "code",
   "execution_count": 37,
   "metadata": {},
   "outputs": [
    {
     "name": "stdout",
     "output_type": "stream",
     "text": [
      "문자열을 입력하세요 : 1D2S3T*\n",
      "[1, 2, 27]\n"
     ]
    }
   ],
   "source": [
    "# 위에서 묶은 각각의 리스트별로 계산해서 계산된 결과를 출력하시오\n",
    "\n",
    "option = {'S':'**1','D':'**2','T':'**3'}\n",
    "arr = [eval(i) for i in input('문자열을 입력하세요 : ').replace('S',' \"S\" ').replace('D',' \"D\" ').replace('T',' \"T\" ').replace('*',' \"*\" ').replace('#',' \"#\" ').split()]\n",
    "\n",
    "result = []\n",
    "for i in range(2,len(arr),3):\n",
    "    if arr[i] not in ('#','*'):\n",
    "        arr.insert(i,' ')\n",
    "    result.append(list(arr[i-2:i+1]))\n",
    "else:\n",
    "    if arr[-1] not in ('#','*'):\n",
    "        arr.append(' ')\n",
    "    result.append(list(arr[-3:]))\n",
    "\n",
    "score = []\n",
    "for num, opt, spe in result:\n",
    "    score.append(eval(str(num) + option[opt]))\n",
    "\n",
    "print(score)"
   ]
  },
  {
   "cell_type": "code",
   "execution_count": 105,
   "metadata": {},
   "outputs": [
    {
     "name": "stdout",
     "output_type": "stream",
     "text": [
      "문자열을 입력하세요 : 1D2S3T*\n",
      "59\n"
     ]
    }
   ],
   "source": [
    "# *(스타상)을 적용해서 결과를 출력하시오\n",
    "# 스타상(*) 당첨 시 해당 점수와 바로 전에 얻은 점수를 각 2배로 만든다.\n",
    "\n",
    "arr = [eval(i) for i in input('문자열을 입력하세요 : ').replace('S',' \"S\" ').replace('D',' \"D\" ').replace('T',' \"T\" ').replace('*',' \"*\" ').replace('#',' \"#\" ').split()]\n",
    "\n",
    "option = {'S':'**1','D':'**2','T':'**3'}\n",
    "\n",
    "result = []\n",
    "for i in range(2,len(arr),3):\n",
    "    if arr[i] not in ('#','*'):\n",
    "        arr.insert(i,' ')\n",
    "    result.append(list(arr[i-2:i+1]))\n",
    "\n",
    "else:\n",
    "    if arr[-1] not in ('#','*'):\n",
    "        arr.append(' ')\n",
    "    result.append(list(arr[-3:]))\n",
    "\n",
    "scores = []\n",
    "for i in range(len(result)):\n",
    "    scores.append(eval(str(result[i][0]) + option[result[i][1]]))\n",
    "    \n",
    "    if result[i][2] == '*':\n",
    "        scores[i] *= 2\n",
    "        if i != 0:\n",
    "            scores[i-1] *= 2\n",
    "\n",
    "    elif result[i][2] == '#':\n",
    "        scores[i] *= (-1)\n",
    "            \n",
    "print(sum(scores))"
   ]
  },
  {
   "cell_type": "code",
   "execution_count": 104,
   "metadata": {},
   "outputs": [
    {
     "name": "stdout",
     "output_type": "stream",
     "text": [
      "문자열을 입력하세요 : 1D2S3T*\n",
      "59\n"
     ]
    }
   ],
   "source": [
    "# arr = [eval(i) for i in input('문자열을 입력하세요 : ').replace('S',' 1 ').replace('D',' 2 ').replace('T',' 3 ').replace('*',' -2 ').replace('#',' -1 ').split()]\n",
    "# for i in [2,5,8]:\n",
    "#     if i <= len(arr)-1:\n",
    "#         if arr[i] not in (-1,-2):\n",
    "#             arr.insert(i, 1 )\n",
    "#         elif arr[i] == -2:\n",
    "#             arr[i] =2\n",
    "#     else:\n",
    "#         arr.insert(i+1, 1 )\n",
    "# total=0\n",
    "# for i in range(3):\n",
    "#     last=arr[i*3+2] * abs(arr[(i+1)*3+2]) if i<2 else arr[i*3+2]\n",
    "#     total += arr[i*3]**arr[i*3+1]*last\n",
    "# print(total)"
   ]
  },
  {
   "cell_type": "markdown",
   "metadata": {},
   "source": [
    "### ** ■ 2017년 카카오 블라인드 코딩 시험 3번째(LRU 알고리즘) **\n",
    "\n",
    "\n",
    "\n",
    "3. 캐시(난이도: 하)\n",
    "\n",
    "지도개발팀에서 근무하는 제이지는 지도에서 도시 이름을 검색하면 해당 도시와 관련된 맛집 게시물들을 데이터베이스에서 읽어 보여주는 서비스를 개발하고 있다.\n",
    "\n",
    "이 프로그램의 테스팅 업무를 담당하고 있는 어피치는 서비스를 오픈하기 전 각 로직에 대한 성능 측정을 수행하였는데, 제이지가 작성한 부분 중 데이터베이스에서 게시물을 가져오는 부분의 실행시간이 너무 오래 걸린다는 것을 알게 되었다.\n",
    "\n",
    "어피치는 제이지에게 해당 로직을 개선하라고 닦달하기 시작하였고, 제이지는 DB 캐시를 적용하여 성능 개선을 시도하고 있지만 캐시 크기를 얼마로 해야 효율적인지 몰라 난감한 상황이다.\n",
    "\n",
    "\n",
    "\n",
    "어피치에게 시달리는 제이지를 도와, DB 캐시를 적용할 때 캐시 크기에 따른 실행시간 측정 프로그램을 작성하시오.\n",
    "\n",
    "\n",
    "\n",
    "입력 형식\n",
    "\n",
    "캐시 크기(cacheSize)와 도시이름 배열(cities)을 입력받는다.\n",
    "\n",
    "cacheSize는 정수이며, 범위는 0 ≦ cacheSize ≦ 30 이다.\n",
    "\n",
    "cities는 도시 이름으로 이뤄진 문자열 배열로, 최대 도시 수는 100,000개이다.\n",
    "\n",
    "각 도시 이름은 공백, 숫자, 특수문자 등이 없는 영문자로 구성되며, 대소문자 구분을 하지 않는다. 도시 이름은 최대 20자로 이루어져 있다.\n",
    "\n",
    "\n",
    "\n",
    "출력 형식\n",
    "\n",
    "입력된 도시이름 배열을 순서대로 처리할 때, “총 실행시간”을 출력한다.\n",
    "\n",
    "\n",
    "\n",
    "조건\n",
    "\n",
    "캐시 교체 알고리즘은 LRU(Least Recently Used)를 사용한다.\n",
    "\n",
    "cache hit일 경우 실행시간은 1이다.\n",
    "\n",
    "cache miss일 경우 실행시간은 5이다.\n",
    "\n",
    "\n",
    "\n",
    "입출력 예제\n",
    "\n",
    "캐시크기(cacheSize)\t도시이름(cities)\t실행시간\n",
    "\n",
    "3\t[“Jeju”, “Pangyo”, “Seoul”, “NewYork”, “LA”, “Jeju”, “Pangyo”, “Seoul”, “NewYork”, “LA”]\t50\n",
    "\n",
    "3\t[“Jeju”, “Pangyo”, “Seoul”, “Jeju”, “Pangyo”, “Seoul”, “Jeju”, “Pangyo”, “Seoul”]\t21\n",
    "\n",
    "2\t[“Jeju”, “Pangyo”, “Seoul”, “NewYork”, “LA”, “SanFrancisco”, “Seoul”, “Rome”, “Paris”, “Jeju”, “NewYork”, “Rome”]\t60\n",
    "\n",
    "5\t[“Jeju”, “Pangyo”, “Seoul”, “NewYork”, “LA”, “SanFrancisco”, “Seoul”, “Rome”, “Paris”, “Jeju”, “NewYork”, “Rome”]\t52\n",
    "\n",
    "2\t[“Jeju”, “Pangyo”, “NewYork”, “newyork”]\t16\n",
    "\n",
    "0\t[“Jeju”, “Pangyo”, “Seoul”, “NewYork”, “LA”]\t25"
   ]
  },
  {
   "cell_type": "markdown",
   "metadata": {},
   "source": [
    "#### 아래와 같이 구현하시오\n",
    "\n",
    "크기를 입력하세요 3\n",
    "\n",
    "도시이름을 입력하세요  Jeju, Pangyo, Seoul, NewYork, LA, Jeju, Pangyo, Seoul, NewYork, LA\n",
    "\n",
    "50\n",
    "\n",
    "※ my idea: que 사용"
   ]
  },
  {
   "cell_type": "code",
   "execution_count": 19,
   "metadata": {
    "scrolled": false
   },
   "outputs": [
    {
     "name": "stdout",
     "output_type": "stream",
     "text": [
      "도시이름을 입력하세요 Jeju, Pangyo, Seoul, NewYork, LA, Jeju, Pangyo, Seoul, NewYork, LA\n"
     ]
    },
    {
     "data": {
      "text/plain": [
       "['Jeju',\n",
       " 'Pangyo',\n",
       " 'Seoul',\n",
       " 'NewYork',\n",
       " 'LA',\n",
       " 'Jeju',\n",
       " 'Pangyo',\n",
       " 'Seoul',\n",
       " 'NewYork',\n",
       " 'LA']"
      ]
     },
     "execution_count": 19,
     "metadata": {},
     "output_type": "execute_result"
    }
   ],
   "source": [
    "cities = [s.strip() for s in input('도시이름을 입력하세요 ').split(',')]\n",
    "\n",
    "cities"
   ]
  },
  {
   "cell_type": "code",
   "execution_count": 8,
   "metadata": {
    "scrolled": true
   },
   "outputs": [
    {
     "name": "stdout",
     "output_type": "stream",
     "text": [
      "['Jeju']\n",
      "['Jeju', 'Pangyo']\n",
      "['Jeju', 'Pangyo', 'Seoul']\n",
      "['Jeju', 'Pangyo', 'Seoul', 'NewYork']\n",
      "['Jeju', 'Pangyo', 'Seoul', 'NewYork', 'LA']\n",
      "['Jeju', 'Pangyo', 'Seoul', 'NewYork', 'LA', 'Jeju']\n",
      "['Jeju', 'Pangyo', 'Seoul', 'NewYork', 'LA', 'Jeju', 'Pangyo']\n",
      "['Jeju', 'Pangyo', 'Seoul', 'NewYork', 'LA', 'Jeju', 'Pangyo', 'Seoul']\n",
      "['Jeju', 'Pangyo', 'Seoul', 'NewYork', 'LA', 'Jeju', 'Pangyo', 'Seoul', 'NewYork']\n",
      "['Jeju', 'Pangyo', 'Seoul', 'NewYork', 'LA', 'Jeju', 'Pangyo', 'Seoul', 'NewYork', 'LA']\n"
     ]
    }
   ],
   "source": [
    "# cities데이터를 cache라는 리스트에 하나씩 추가되게 하시오\n",
    "\n",
    "cache = []\n",
    "\n",
    "for city in cities:\n",
    "    cache.append(city)\n",
    "    print(cache)"
   ]
  },
  {
   "cell_type": "code",
   "execution_count": 9,
   "metadata": {
    "scrolled": true
   },
   "outputs": [
    {
     "name": "stdout",
     "output_type": "stream",
     "text": [
      "['Jeju']\n",
      "5\n",
      "['Jeju', 'Pangyo']\n",
      "10\n",
      "['Jeju', 'Pangyo', 'Seoul']\n",
      "15\n",
      "['Jeju', 'Pangyo', 'Seoul', 'NewYork']\n",
      "20\n",
      "['Jeju', 'Pangyo', 'Seoul', 'NewYork', 'LA']\n",
      "25\n",
      "['Jeju', 'Pangyo', 'Seoul', 'NewYork', 'LA', 'Jeju']\n",
      "30\n",
      "['Jeju', 'Pangyo', 'Seoul', 'NewYork', 'LA', 'Jeju', 'Pangyo']\n",
      "35\n",
      "['Jeju', 'Pangyo', 'Seoul', 'NewYork', 'LA', 'Jeju', 'Pangyo', 'Seoul']\n",
      "40\n",
      "['Jeju', 'Pangyo', 'Seoul', 'NewYork', 'LA', 'Jeju', 'Pangyo', 'Seoul', 'NewYork']\n",
      "45\n",
      "['Jeju', 'Pangyo', 'Seoul', 'NewYork', 'LA', 'Jeju', 'Pangyo', 'Seoul', 'NewYork', 'LA']\n",
      "50\n"
     ]
    }
   ],
   "source": [
    "#chach에 데이터가 들어갈때마다 cnt 라는 변수에 5가 더해지게 하시오\n",
    "\n",
    "cache = []\n",
    "cnt = 0\n",
    "for city in cities:\n",
    "    cache.append(city)\n",
    "    cnt += 5\n",
    "    print(cache, cnt, sep = \"\\n\")"
   ]
  },
  {
   "cell_type": "code",
   "execution_count": 12,
   "metadata": {
    "scrolled": true
   },
   "outputs": [
    {
     "name": "stdout",
     "output_type": "stream",
     "text": [
      "['Jeju']\n",
      "5\n",
      "['Jeju', 'Pangyo']\n",
      "10\n",
      "['Jeju', 'Pangyo', 'Seoul']\n",
      "15\n",
      "['Jeju', 'Pangyo', 'Seoul', 'NewYork']\n",
      "20\n",
      "['Jeju', 'Pangyo', 'Seoul', 'NewYork', 'LA']\n",
      "25\n",
      "['Jeju', 'Pangyo', 'Seoul', 'NewYork', 'LA', 'Jeju']\n",
      "26\n",
      "['Jeju', 'Pangyo', 'Seoul', 'NewYork', 'LA', 'Jeju', 'Pangyo']\n",
      "27\n",
      "['Jeju', 'Pangyo', 'Seoul', 'NewYork', 'LA', 'Jeju', 'Pangyo', 'Seoul']\n",
      "28\n",
      "['Jeju', 'Pangyo', 'Seoul', 'NewYork', 'LA', 'Jeju', 'Pangyo', 'Seoul', 'NewYork']\n",
      "29\n",
      "['Jeju', 'Pangyo', 'Seoul', 'NewYork', 'LA', 'Jeju', 'Pangyo', 'Seoul', 'NewYork', 'LA']\n",
      "30\n"
     ]
    }
   ],
   "source": [
    "# forloop 문에 if 문을 추가해서 입력하려는 데이터가 cache에 있는지 확인해서 있으면 1초를 없으면 cnt에 5초를 더하게 하시오\n",
    "\n",
    "cache = []\n",
    "cnt = 0\n",
    "for city in cities:\n",
    "    cnt += 1 if city in cache else 5\n",
    "    cache.append(city)\n",
    "    print(cache, cnt, sep = \"\\n\")"
   ]
  },
  {
   "cell_type": "code",
   "execution_count": 18,
   "metadata": {},
   "outputs": [
    {
     "name": "stdout",
     "output_type": "stream",
     "text": [
      "4\n"
     ]
    },
    {
     "data": {
      "text/plain": [
       "['Pangyo', 'Seoul', 'NewYork']"
      ]
     },
     "execution_count": 18,
     "metadata": {},
     "output_type": "execute_result"
    }
   ],
   "source": [
    "# 리스트 안의 요소 지우기\n",
    "a = ['Jeju', 'Pangyo', 'Seoul', 'NewYork']\n",
    "print(len(a))\n",
    "# del a\n",
    "a.pop(0)\n",
    "a"
   ]
  },
  {
   "cell_type": "code",
   "execution_count": 24,
   "metadata": {
    "scrolled": true
   },
   "outputs": [
    {
     "name": "stdout",
     "output_type": "stream",
     "text": [
      "캐시 사이즈를 입력하세요 3\n",
      "도시이름을 입력하세요 Jeju, Pangyo, Seoul, NewYork, LA, Jeju, Pangyo, Seoul, NewYork, LA\n",
      "['Jeju']\n",
      "5\n",
      "['Jeju', 'Pangyo']\n",
      "10\n",
      "['Jeju', 'Pangyo', 'Seoul']\n",
      "15\n",
      "['Pangyo', 'Seoul', 'NewYork']\n",
      "20\n",
      "['Seoul', 'NewYork', 'LA']\n",
      "25\n",
      "['NewYork', 'LA', 'Jeju']\n",
      "30\n",
      "['LA', 'Jeju', 'Pangyo']\n",
      "35\n",
      "['Jeju', 'Pangyo', 'Seoul']\n",
      "40\n",
      "['Pangyo', 'Seoul', 'NewYork']\n",
      "45\n",
      "['Seoul', 'NewYork', 'LA']\n",
      "50\n"
     ]
    }
   ],
   "source": [
    "# 캐쉬사이즈만큼의 도시의 요소들이 들어오게 코드를 작성하시오\n",
    "# 리스트의 요소의 갯수를 항상 캐쉬 사이즈만큼 유지시키시오\n",
    "\n",
    "cache_size = int(input('캐시 사이즈를 입력하세요 '))\n",
    "cities = [s.strip() for s in input('도시이름을 입력하세요 ').split(',')]\n",
    "\n",
    "cache = []\n",
    "cnt = 0\n",
    "for city in cities:\n",
    "    cnt += 1 if city in cache else 5\n",
    "    if len(cache) >= cache_size:\n",
    "        cache.pop(0)\n",
    "    cache.append(city)\n",
    "    print(cache, cnt, sep = \"\\n\")"
   ]
  },
  {
   "cell_type": "code",
   "execution_count": 31,
   "metadata": {},
   "outputs": [
    {
     "name": "stdout",
     "output_type": "stream",
     "text": [
      "캐시 사이즈를 입력하세요 3\n",
      "도시이름을 입력하세요 “Jeju”, “Pangyo”, “Seoul”, “Jeju”, “Pangyo”, “Seoul”, “Jeju”, “Pangyo”, “Seoul”\n",
      "21\n"
     ]
    }
   ],
   "source": [
    "# 단 0일경우의 예외처리하기\n",
    "\n",
    "cache_size = int(input('캐시 사이즈를 입력하세요 '))\n",
    "cities = [s.strip().upper() for s in input('도시이름을 입력하세요 ').split(',')]\n",
    "\n",
    "if cache_size == 0:\n",
    "    print(len(cities) * 5)\n",
    "else:\n",
    "    cache = []\n",
    "    cnt = 0\n",
    "    for city in cities:\n",
    "        cnt += 1 if city in cache else 5\n",
    "        if len(cache) >= cache_size:\n",
    "            cache.pop(0)\n",
    "        cache.append(city)\n",
    "    print(cnt)\n",
    "\n",
    "# mycache=int(input('please enter cache size'))\n",
    "# mylist=list(map(str,input('please enter put cities').lower().split(',')))\n",
    "\n",
    "# mymem=[None]*mycache\n",
    "# mytime=0\n",
    "\n",
    "# if mycache==0:\n",
    "#     mytime=len(mylist)*5\n",
    "# else:\n",
    "#     for ele in mylist: \n",
    "#         mytime+=1 if ele in mymem else 5\n",
    "#         mymem.pop(0)\n",
    "#         mymem.append(ele)\n",
    "# print(mytime)"
   ]
  }
 ],
 "metadata": {
  "kernelspec": {
   "display_name": "Python 3",
   "language": "python",
   "name": "python3"
  },
  "language_info": {
   "codemirror_mode": {
    "name": "ipython",
    "version": 3
   },
   "file_extension": ".py",
   "mimetype": "text/x-python",
   "name": "python",
   "nbconvert_exporter": "python",
   "pygments_lexer": "ipython3",
   "version": "3.6.3"
  }
 },
 "nbformat": 4,
 "nbformat_minor": 2
}
