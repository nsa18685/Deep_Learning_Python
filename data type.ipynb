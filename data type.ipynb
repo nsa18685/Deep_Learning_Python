{
 "cells": [
  {
   "cell_type": "markdown",
   "metadata": {},
   "source": [
    "■ 문자열에서 특정 위치의 문자 얻기"
   ]
  },
  {
   "cell_type": "code",
   "execution_count": null,
   "metadata": {
    "collapsed": true
   },
   "outputs": [],
   "source": [
    "# 예:\n",
    "txt1 = 'A tale that was not right'\n",
    "\n",
    "txt2 = '이 또한 지나가리라.'\n",
    "\n",
    "print(txt1[5])      # ‘e’가 출력됨\n",
    "\n",
    "print(txt2[-2])     # ‘다’가 출력됨"
   ]
  },
  {
   "cell_type": "markdown",
   "metadata": {},
   "source": [
    "■ 문자열에서 지정한 구간의 문자열 얻기"
   ]
  },
  {
   "cell_type": "code",
   "execution_count": null,
   "metadata": {
    "collapsed": true
   },
   "outputs": [],
   "source": [
    "# 예:\n",
    "txt1 = 'A tale that was not right'\n",
    "\n",
    "txt2 = '이 또한 지나가리라.'\n",
    "\n",
    "print(txt1[3:7])      # ‘ale ’이 출력됨\n",
    "\n",
    "print(txt1[:6])       # ‘A tale’ 이 출력됨\n",
    "\n",
    "print(txt2[-4:])      # ‘가리라.’가 출력됨"
   ]
  },
  {
   "cell_type": "code",
   "execution_count": 21,
   "metadata": {
    "scrolled": true
   },
   "outputs": [
    {
     "name": "stdout",
     "output_type": "stream",
     "text": [
      "[5, 6, 7, 8]\n",
      "[1, 2, 3, 4, 5]\n",
      "[5, 6]\n"
     ]
    }
   ],
   "source": [
    "# 문제. 리스트로 위의 코드를 구현하시오\n",
    "\n",
    "a = [1,2,3,4,5,6,7,8]\n",
    "\n",
    "# 숫자 5 이후는 다 출력되게 하시오\n",
    "print(a[4:])\n",
    "\n",
    "# 숫자 6 이전까지 출력하시오\n",
    "print(a[:5])\n",
    "\n",
    "# 중간 숫자를 출력하시오\n",
    "m = len(a) // 2\n",
    "if len(a) % 2 == 0:\n",
    "    print(a[m:m+2])\n",
    "else:\n",
    "    print(a[m])"
   ]
  },
  {
   "cell_type": "markdown",
   "metadata": {},
   "source": [
    "■ 문자열에서 홀 수 번째 문자만 추출하기"
   ]
  },
  {
   "cell_type": "code",
   "execution_count": 26,
   "metadata": {},
   "outputs": [
    {
     "name": "stdout",
     "output_type": "stream",
     "text": [
      "abcdefghijk\n"
     ]
    }
   ],
   "source": [
    "# 예)\n",
    "txt = 'aAbBcCdDeEfFgGhHiIjJkK'\n",
    "ret = txt[::2]\n",
    "print(ret)"
   ]
  },
  {
   "cell_type": "code",
   "execution_count": 27,
   "metadata": {
    "scrolled": false
   },
   "outputs": [
    {
     "name": "stdout",
     "output_type": "stream",
     "text": [
      "ABCDEFGHIJK\n"
     ]
    }
   ],
   "source": [
    "# 문제. 위의 문자열에서 짝수번째만 출력하세요\n",
    "txt = 'aAbBcCdDeEfFgGhHiIjJkK'\n",
    "ret = txt[1::2]\n",
    "print(ret)"
   ]
  },
  {
   "cell_type": "code",
   "execution_count": null,
   "metadata": {
    "collapsed": true
   },
   "outputs": [],
   "source": []
  },
  {
   "cell_type": "markdown",
   "metadata": {},
   "source": [
    "■ 문자열을 거꾸로 만들기"
   ]
  },
  {
   "cell_type": "code",
   "execution_count": 28,
   "metadata": {
    "scrolled": true
   },
   "outputs": [
    {
     "name": "stdout",
     "output_type": "stream",
     "text": [
      "KkJjIiHhGgFfEeDdCcBbAa\n"
     ]
    }
   ],
   "source": [
    "# 예:\n",
    "txt = 'aAbBcCdDeEfFgGhHiIjJkK'\n",
    "ret = txt[::-1]\n",
    "print(ret)\n",
    "# stack 에서 많이 사용함: LIFO"
   ]
  },
  {
   "cell_type": "markdown",
   "metadata": {},
   "source": [
    "stack (LIFO)\n",
    "\"Python 의 리스트가 스텍구조를 가지고 있다\""
   ]
  },
  {
   "cell_type": "code",
   "execution_count": null,
   "metadata": {
    "collapsed": true
   },
   "outputs": [],
   "source": [
    "# 문제204. 파이썬의 리스트가 스택구조임을 확인하시오\n",
    "\n",
    "a = []\n",
    "a.append(1)\n",
    "a.append(2)\n",
    "print(a)\n",
    "a.append(3)\n",
    "print(a)"
   ]
  },
  {
   "cell_type": "code",
   "execution_count": 69,
   "metadata": {},
   "outputs": [
    {
     "name": "stdout",
     "output_type": "stream",
     "text": [
      "[1, 2, 3]\n",
      "[1, 2]\n",
      "[1]\n"
     ]
    }
   ],
   "source": [
    "# 문제205. 다시 숫자를 빼내시오! (LIFO)\n",
    "a = []\n",
    "a.append(1)\n",
    "a.append(2)\n",
    "a.append(3)\n",
    "\n",
    "print(a)\n",
    "for i in a:\n",
    "    a.pop()\n",
    "    print(a)"
   ]
  },
  {
   "cell_type": "markdown",
   "metadata": {},
   "source": [
    "■ 두개의 문자열 합치기 (+)"
   ]
  },
  {
   "cell_type": "code",
   "execution_count": 70,
   "metadata": {},
   "outputs": [
    {
     "name": "stdout",
     "output_type": "stream",
     "text": [
      "저장할 파일 이름을 입력하세요: 5\n",
      "당신이 저장한 파일은 <5.jpg> 입니다.\n"
     ]
    }
   ],
   "source": [
    "# 예:\n",
    "filename = input('저장할 파일 이름을 입력하세요: ')\n",
    "\n",
    "filename = filename + '.jpg'\n",
    "\n",
    "display_msg = '당신이 저장한 파일은 <' + filename + '> 입니다.'\n",
    "\n",
    "print(display_msg)"
   ]
  },
  {
   "cell_type": "markdown",
   "metadata": {},
   "source": [
    "■ 문자열을 반복해서 새로운 문자열로 만들기"
   ]
  },
  {
   "cell_type": "code",
   "execution_count": 71,
   "metadata": {},
   "outputs": [
    {
     "name": "stdout",
     "output_type": "stream",
     "text": [
      "여러분, 파이팅!파이팅!파이팅!~!\n"
     ]
    }
   ],
   "source": [
    "# 예:\n",
    "msg1 = '여러분'\n",
    "\n",
    "msg2 = '파이팅!'\n",
    "\n",
    "display_msg = msg1 + ', ' + msg2*3 + '~!'\n",
    "\n",
    "print(display_msg)"
   ]
  },
  {
   "cell_type": "markdown",
   "metadata": {},
   "source": [
    "■ 문자열에서 특정 문자가 있는지 확인하기 (in)"
   ]
  },
  {
   "cell_type": "code",
   "execution_count": 72,
   "metadata": {},
   "outputs": [
    {
     "name": "stdout",
     "output_type": "stream",
     "text": [
      "임의의 문장을 입력하세요: today is hollyday\n",
      "당신이 입력한 문장에는 a가 있습니다.\n"
     ]
    }
   ],
   "source": [
    "# 예:\n",
    "msg = input('임의의 문장을 입력하세요: ')\n",
    "\n",
    "if 'a' in msg:\n",
    "\n",
    "       print('당신이 입력한 문장에는 a가 있습니다.')\n",
    "\n",
    "else:\n",
    "\n",
    "       print('당신이 입력한 문장에는 a가 없습니다.')"
   ]
  },
  {
   "cell_type": "code",
   "execution_count": null,
   "metadata": {
    "collapsed": true
   },
   "outputs": [],
   "source": []
  },
  {
   "cell_type": "markdown",
   "metadata": {},
   "source": [
    "■ 91. 문자열에 있는 문자(열) 개수 구하기 count "
   ]
  },
  {
   "cell_type": "code",
   "execution_count": null,
   "metadata": {
    "collapsed": true
   },
   "outputs": [],
   "source": [
    "# 예제 :\n",
    "txt = 'A lot of things occur each day, every day.'\n",
    "word_count1 = txt.count('o')\n",
    "word_count2 = txt.count('day')\n",
    "word_count3 = txt.count(' ')\n",
    "print(word_count1)  # 3이 출력됨\n",
    "print(word_count2)  # 2가 출력됨\n",
    "print(word_count3)  # 8이 출력됨"
   ]
  },
  {
   "cell_type": "code",
   "execution_count": null,
   "metadata": {
    "collapsed": true
   },
   "outputs": [],
   "source": [
    "■ 92. 문자열에 있는 문자(열) 위치 찾기 find  "
   ]
  },
  {
   "cell_type": "code",
   "execution_count": null,
   "metadata": {
    "collapsed": true
   },
   "outputs": [],
   "source": [
    "# 예제:\n",
    "txt = 'A lot of things occur each day, every day.'\n",
    "offset1 = txt.find('e')\n",
    "offset2 = txt.find('day')\n",
    "offset3 = txt.find('day', 30)\n",
    "print(offset1)   # 22가 출력됨\n",
    "print(offset2)   # 27이 출력됨\n",
    "print(offset3)   # 38이 출력됨"
   ]
  },
  {
   "cell_type": "markdown",
   "metadata": {},
   "source": [
    "■ 93. 문자열에 있는 문자(열) 분리하기 split "
   ]
  },
  {
   "cell_type": "code",
   "execution_count": null,
   "metadata": {
    "collapsed": true
   },
   "outputs": [],
   "source": [
    "# 예제:\n",
    "url = 'http://www.naver.com/news/today=20160831'\n",
    "log = 'name:홍길동 age:17 sex:남자 nation:조선'\n",
    "\n",
    "ret1 = url.split('/')\n",
    "print(ret1)\n",
    "\n",
    "ret2 = log.split()\n",
    "for data in ret2:\n",
    "   d1, d2 = data.split(':')\n",
    "   print('%s -> %s' %(d1, d2))\n",
    "\n",
    "# 결과>\n",
    "# ['http:', '', 'www.naver.com', 'news', 'today=20160831']\n",
    "# name -> 홍길동\n",
    "# age -> 17\n",
    "# sex -> 남자\n",
    "# nation -> 조선\n"
   ]
  },
  {
   "cell_type": "markdown",
   "metadata": {},
   "source": [
    "■ 94. 문자열을 특정 문자(열) 결합하기 join "
   ]
  },
  {
   "cell_type": "code",
   "execution_count": null,
   "metadata": {
    "collapsed": true
   },
   "outputs": [],
   "source": [
    "# 예제\n",
    "loglist = ['2016/08/26 10:12:11', '200', 'OK', '이 또한 지나가리라']\n",
    "bond = ';'\n",
    "log = bond.join(loglist)\n",
    "print(log)\n",
    "\n",
    "# 결과>\n",
    "# 2016/08/26 10:12:11;200;OK;이 또한 지나가리라"
   ]
  },
  {
   "cell_type": "markdown",
   "metadata": {},
   "source": [
    "■ 95. 문자열에서 특정 문자(열)를 다른 문자(열)로 바꾸기 replace"
   ]
  },
  {
   "cell_type": "code",
   "execution_count": null,
   "metadata": {
    "collapsed": true
   },
   "outputs": [],
   "source": [
    "# 예제\n",
    "txt = 'My password is 1234'\n",
    "ret1 = txt.replace('1', '0')\n",
    "ret2 = txt.replace('1', 'python')\n",
    "print(ret1)   # ‘My Password is 0234’가 출력됨\n",
    "print(ret2)   # ‘My Password is python234’가 출력됨\n",
    "txt = '매일 많은 일들이 일어납니다.'\n",
    "ret3 = txt.replace('매일', '항상')  \n",
    "ret4 = ret3.replace('일', '사건')\n",
    "print(ret3)   # ‘항상 많은 일들이 일어납니다.’가 출력됨\n",
    "print(ret4)   # ‘항상 많은 사건들이 사건어납니다.’가 출력됨"
   ]
  },
  {
   "cell_type": "markdown",
   "metadata": {},
   "source": [
    "■ 96. 문자열을 바이트 객체로 바꾸기 encode "
   ]
  },
  {
   "cell_type": "code",
   "execution_count": null,
   "metadata": {
    "collapsed": true
   },
   "outputs": [],
   "source": [
    "f=open('ladybug3.txt','w','encoding='UTF')\n",
    "# 예제:\n",
    "u_txt='A'\n",
    "b_txt=u_txt.encode()\n",
    "print(u_txt) # A력\n",
    "print(b_txt[0]) # 65\n"
   ]
  },
  {
   "cell_type": "markdown",
   "metadata": {},
   "source": [
    "인코딩이란?\n",
    "\" 사람이 인지할 수 있는 형태의 데이터를 약속된 규칙에 의해 컴퓨터가 사용하는 0과 1로 변환하는 과정을 말한다. \"\n",
    "\n",
    "ASCII(미국 정보 교환 표준 부호) 는 1960년 대에 제정된 문자집합으로 이후 개발된 문자집합의 토대로 이루고있다.\n",
    "ASCII는 7비트만을 이용해서 음이 아닌수 (  0 ~ 127 )에 문자 집합 내에 문자를 할당을 한 약속이다.\n",
    "\n",
    "예 ) 숫자 65는 'A' , 97은 'a'를 할당했다.\n"
   ]
  },
  {
   "cell_type": "markdown",
   "metadata": {},
   "source": [
    "■ 97.바이트 객체를 문자열로 바꾸기 decode"
   ]
  },
  {
   "cell_type": "code",
   "execution_count": null,
   "metadata": {
    "collapsed": true
   },
   "outputs": [],
   "source": [
    "# 예제:\n",
    "u_txt='A'\n",
    "b_txt=u_txt.encode()\n",
    "print(u_txt) # A\n",
    "print(b_txt[0]) # 65\n",
    "c_txt=b_txt.decode()  # decode 로 다시 A로~\n",
    "print(c_txt) # A\n"
   ]
  },
  {
   "cell_type": "code",
   "execution_count": null,
   "metadata": {
    "collapsed": true
   },
   "outputs": [],
   "source": []
  },
  {
   "cell_type": "markdown",
   "metadata": {},
   "source": [
    "■ 순차적인 정수 리스트 만들기 (range)"
   ]
  },
  {
   "cell_type": "code",
   "execution_count": 9,
   "metadata": {
    "scrolled": true
   },
   "outputs": [
    {
     "name": "stdout",
     "output_type": "stream",
     "text": [
      "[0, 1, 2, 3, 4, 5, 6, 7, 8, 9]\n",
      "[10, 11, 12, 13, 14, 15, 16, 17, 18, 19]\n"
     ]
    }
   ],
   "source": [
    "# 문제: 아래와 같은 결과를 출력하는 코드를 작성하시오\n",
    "print([i for i in range(10)])\n",
    "print([i for i in range(10,20)])"
   ]
  },
  {
   "cell_type": "code",
   "execution_count": 25,
   "metadata": {},
   "outputs": [
    {
     "name": "stdout",
     "output_type": "stream",
     "text": [
      "10\t11\t12\t13\t14\t15\t16\t17\t18\t19\t"
     ]
    }
   ],
   "source": [
    "li = [i for i in range(10,20)]\n",
    "\n",
    "for i in li:\n",
    "    print(i, end = '\\t')"
   ]
  },
  {
   "cell_type": "code",
   "execution_count": 29,
   "metadata": {},
   "outputs": [
    {
     "name": "stdout",
     "output_type": "stream",
     "text": [
      "Yesterday\tLet it be\tGee(지)\t소원을 말해봐\t다시 만난 세계\n",
      "['Yesterday', 'Let it be', 'Gee(지)', '소원을 말해봐', '다시 만난 세계']\n"
     ]
    }
   ],
   "source": [
    "# 문제\n",
    "song = 'Yesterday\\tLet it be\\tGee(지)\\t소원을 말해봐\\t다시 만난 세계'\n",
    "print(song)\n",
    "\n",
    "k_pop = song.split('\\t')\n",
    "\n",
    "print(k_pop)"
   ]
  },
  {
   "cell_type": "markdown",
   "metadata": {},
   "source": [
    "■ 100. 리스트에서 특정 위치의 요소 얻기"
   ]
  },
  {
   "cell_type": "code",
   "execution_count": 36,
   "metadata": {},
   "outputs": [
    {
     "name": "stdout",
     "output_type": "stream",
     "text": [
      "3 1\n",
      "2\n",
      "b\n",
      "5\n"
     ]
    }
   ],
   "source": [
    "# 문제: 아래의 리스트에서 숫자 2와 알파벳 b와 숫자 5를 출력하시오\n",
    "listdata = [1,2,'a','b','c',[4,5,6]]\n",
    "\n",
    "print(listdata.index('b'), listdata.index(2))\n",
    "\n",
    "print(listdata[1])\n",
    "print(listdata[3])\n",
    "print(listdata[-1][1])\n"
   ]
  },
  {
   "cell_type": "markdown",
   "metadata": {},
   "source": [
    "■ copy와 deepcopy 모듈의 차이"
   ]
  },
  {
   "cell_type": "code",
   "execution_count": 39,
   "metadata": {},
   "outputs": [
    {
     "name": "stdout",
     "output_type": "stream",
     "text": [
      "[1, 2, 3]\n",
      "2\n",
      "[1, 4, 3]\n",
      "[1, 4, 3]\n"
     ]
    }
   ],
   "source": [
    "# 1. 리스트 변수의 값을 복사하는 방법\n",
    "a = [1,2,3]\n",
    "b = a\n",
    "print(b)\n",
    "\n",
    "print(a[1])\n",
    "\n",
    "a[1] = 4\n",
    "\n",
    "print(a)\n",
    "print(b)\n"
   ]
  },
  {
   "cell_type": "markdown",
   "metadata": {},
   "source": [
    "※ 설명: b = a 이 뜻은 a가 가리키는 리스트 객체를 b 도 가리키겠다."
   ]
  },
  {
   "cell_type": "code",
   "execution_count": 51,
   "metadata": {},
   "outputs": [
    {
     "name": "stdout",
     "output_type": "stream",
     "text": [
      "[1, 2, 3]\n",
      "[1, 4, 3]\n",
      "[1, 2, 3]\n",
      "[1, 2, 3]\n",
      "[1, 4, 3]\n",
      "[1, 2, 3]\n",
      "[1, 2, [4, 5, 6]]\n",
      "[1, 4, [4, 4, 6]]\n",
      "[1, 2, [4, 4, 6]]\n",
      "[1, 2, [4, 5, 6]]\n",
      "[1, 4, [4, 4, 6]]\n",
      "[1, 2, [4, 5, 6]]\n"
     ]
    }
   ],
   "source": [
    "# a 가 가지고 있는 값으로 b 변수를 생성할 데 같은 값을 복사하는 방법은?\n",
    "\n",
    "# 1. [:]를 이용한다\n",
    "a = [1,2,3]\n",
    "b = a[:]\n",
    "print(b)\n",
    "\n",
    "a[1] = 4\n",
    "print(a)\n",
    "print(b)\n",
    "\n",
    "# 2. copy 모듈을 이용한다.\n",
    "import copy\n",
    "\n",
    "a = [1,2,3]\n",
    "b = a.copy()\n",
    "\n",
    "print(b)\n",
    "\n",
    "a[1] = 4\n",
    "print(a)\n",
    "print(b)\n",
    "\n",
    "# 3. deepcopy\n",
    "import copy\n",
    "a = [1,2,[4,5,6]]\n",
    "b = a.copy()\n",
    "print(b)\n",
    "\n",
    "a[1] = 4\n",
    "a[-1][1] = 4\n",
    "print(a)\n",
    "print(b)\n",
    "\n",
    "from copy import deepcopy\n",
    "a = [1,2,[4,5,6]]\n",
    "b = deepcopy(a)\n",
    "print(b)\n",
    "\n",
    "a[1] = 4\n",
    "a[-1][1] = 4\n",
    "print(a)\n",
    "print(b)"
   ]
  },
  {
   "cell_type": "markdown",
   "metadata": {},
   "source": [
    "■ 리스트에서 특정 요소 구하기 (index)"
   ]
  },
  {
   "cell_type": "code",
   "execution_count": 59,
   "metadata": {},
   "outputs": [
    {
     "name": "stdout",
     "output_type": "stream",
     "text": [
      "지구은 태양계에서 3번째에 위치하고 있습니다.\n",
      "지구은 태양계에서 9번째에 위치하고 있습니다.\n"
     ]
    }
   ],
   "source": [
    "a= ['태양', '수성', '금성', '지구', '화성', '목성', '토성', '천왕성', '해왕성', '지구']\n",
    "planet = '지구'\n",
    "\n",
    "print(planet, '은 태양계에서 ', a.index(planet),'번째에 위치하고 있습니다.', sep ='')\n",
    "print(planet, '은 태양계에서 ', a.index(planet,a.index(planet)+1),'번째에 위치하고 있습니다.', sep ='')"
   ]
  },
  {
   "cell_type": "markdown",
   "metadata": {},
   "source": [
    "■ 리스트에서 특정 위치의 요소를 변경하기"
   ]
  },
  {
   "cell_type": "code",
   "execution_count": 64,
   "metadata": {},
   "outputs": [
    {
     "name": "stdout",
     "output_type": "stream",
     "text": [
      "['태양', '수성', '금성', '지구', 'Mars', '목성', '토성', '천왕성', '해왕성', '지구']\n"
     ]
    }
   ],
   "source": [
    "# 문제: 아래의 리스트에서 화성을 영어로 Mars라고 변경하시오\n",
    "a= ['태양', '수성', '금성', '지구', '화성', '목성', '토성', '천왕성', '해왕성', '지구']\n",
    "\n",
    "a[a.index('화성')] = 'Mars'\n",
    "\n",
    "print(a)"
   ]
  },
  {
   "cell_type": "markdown",
   "metadata": {},
   "source": [
    "■ 리스트에서 특정 구간에 있는 요소 추출하기"
   ]
  },
  {
   "cell_type": "code",
   "execution_count": 66,
   "metadata": {},
   "outputs": [
    {
     "name": "stdout",
     "output_type": "stream",
     "text": [
      "태양계의 암석형 행성: ['수성', '금성', '지구']\n",
      "태양계의 암석형 행성: ['수성', '금성', '지구']\n",
      "태양계의 가스형 행성: ['화성', '목성', '토성', '천왕성', '해왕성']\n"
     ]
    }
   ],
   "source": [
    "a= ['태양', '수성', '금성', '지구', '화성', '목성', '토성', '천왕성', '해왕성']\n",
    "\n",
    "print(\"태양계의 암석형 행성:\",a[a.index('수성'):a.index('지구')+1])\n",
    "print(\"태양계의 암석형 행성: \", end ='') ; print(a[a.index('수성'):a.index('지구')+1])  # ; 이어서 쓰겠다!\n",
    "print(\"태양계의 가스형 행성:\",a[a.index('화성'):])"
   ]
  },
  {
   "cell_type": "markdown",
   "metadata": {},
   "source": [
    "■ 리스트에서 짝수번째 요소만 추출하기"
   ]
  },
  {
   "cell_type": "code",
   "execution_count": 71,
   "metadata": {},
   "outputs": [
    {
     "name": "stdout",
     "output_type": "stream",
     "text": [
      "['수성', '지구', '목성', '천왕성']\n"
     ]
    }
   ],
   "source": [
    "# 짝수번째 요소만 출력하기\n",
    "a= ['태양', '수성', '금성', '지구', '화성', '목성', '토성', '천왕성', '해왕성']\n",
    "\n",
    "# print(a[::2])\n",
    "print(a[1::2])"
   ]
  },
  {
   "cell_type": "markdown",
   "metadata": {},
   "source": [
    "■ 리스트 요소 순서를 역순으로 만드시오 (reverse)"
   ]
  },
  {
   "cell_type": "code",
   "execution_count": 78,
   "metadata": {},
   "outputs": [
    {
     "name": "stdout",
     "output_type": "stream",
     "text": [
      "['해왕성', '천왕성', '토성', '목성', '화성', '지구', '금성', '수성', '태양']\n",
      "['해왕성', '천왕성', '토성', '목성', '화성', '지구', '금성', '수성', '태양']\n"
     ]
    }
   ],
   "source": [
    "a= ['태양', '수성', '금성', '지구', '화성', '목성', '토성', '천왕성', '해왕성']\n",
    "\n",
    "print(a[::-1])\n",
    "\n",
    "a.reverse()\n",
    "print(a)"
   ]
  },
  {
   "cell_type": "markdown",
   "metadata": {},
   "source": [
    "■ 리스트 요소 순서를 역순으로 만들기 (reversed)"
   ]
  },
  {
   "cell_type": "code",
   "execution_count": 88,
   "metadata": {},
   "outputs": [
    {
     "name": "stdout",
     "output_type": "stream",
     "text": [
      "['해왕성', '천왕성', '토성', '목성', '화성', '지구', '금성', '수성', '태양']\n"
     ]
    }
   ],
   "source": [
    "a= ['태양', '수성', '금성', '지구', '화성', '목성', '토성', '천왕성', '해왕성']\n",
    "\n",
    "b = reversed(a)\n",
    "print(list(b))  # b: a가 가르키는 객체를 역순으로 한 메로리 주소만 갖고 있음\n"
   ]
  },
  {
   "cell_type": "code",
   "execution_count": 136,
   "metadata": {},
   "outputs": [
    {
     "name": "stdout",
     "output_type": "stream",
     "text": [
      "[1, 2, 3, 4, 5, 7, 8, 10]\n"
     ]
    }
   ],
   "source": [
    "# 삽입정렬 알고리즘을 파이썬으로 구현하시오\n",
    "a = [5,4,3,2,1,8,7,10]\n",
    "\n",
    "def insert_sort(li):\n",
    "    for j in range(len(li)-1):\n",
    "        for i in range(j+1,len(li)):\n",
    "            if li[j] > li[i]:\n",
    "                li[j],li[j+1:] = li[i],li[j:i] + li[i+1:]\n",
    "#             print(li)\n",
    "    return li\n",
    "    \n",
    "print(insert_sort(a))"
   ]
  },
  {
   "cell_type": "markdown",
   "metadata": {},
   "source": [
    "■ 리스트 합치기 (+)"
   ]
  },
  {
   "cell_type": "code",
   "execution_count": 137,
   "metadata": {
    "scrolled": true
   },
   "outputs": [
    {
     "name": "stdout",
     "output_type": "stream",
     "text": [
      "['a', 'b', 'c', 'd', 'e', 'f', 'g', 'h', 'i', 'j']\n"
     ]
    }
   ],
   "source": [
    "# 아래의 두개의 리스트를 하나로 합쳐서 출력하시오\n",
    "li1 = ['a', 'b', 'c', 'd', 'e']\n",
    "li2 = ['f', 'g', 'h', 'i', 'j']\n",
    "\n",
    "print(li1 + li2)"
   ]
  },
  {
   "cell_type": "markdown",
   "metadata": {},
   "source": [
    "■ 리스트 반복하기 (***)"
   ]
  },
  {
   "cell_type": "code",
   "execution_count": 138,
   "metadata": {
    "scrolled": true
   },
   "outputs": [
    {
     "name": "stdout",
     "output_type": "stream",
     "text": [
      "[0, 1, 2, 0, 1, 2, 0, 1, 2]\n"
     ]
    }
   ],
   "source": [
    "# 아래의 결과를 출력하시오\n",
    "\n",
    "print([0,1,2] * 3)"
   ]
  },
  {
   "cell_type": "code",
   "execution_count": 145,
   "metadata": {},
   "outputs": [
    {
     "name": "stdout",
     "output_type": "stream",
     "text": [
      "리스트에 추가할 값을 입력하세요a\n",
      "['a']\n",
      "리스트에 추가할 값을 입력하세요b\n",
      "['a', 'b']\n",
      "리스트에 추가할 값을 입력하세요c\n",
      "['a', 'b', 'c']\n",
      "None\n"
     ]
    }
   ],
   "source": [
    "# 리스트에 추가할 값을 물어보게 하고 입력하면 리스트의 내용이 출력되게 하시오\n",
    "\n",
    "def add_list():\n",
    "    li = []\n",
    "    for s in range(3):\n",
    "        li.append(input('리스트에 추가할 값을 입력하세요'))\n",
    "        print(li)\n",
    "#     li = [input('리스트에 추가할 값을 입력하세요: ') for s in range(3)]\n",
    "#     return li\n",
    "\n",
    "print(add_list())"
   ]
  },
  {
   "cell_type": "markdown",
   "metadata": {},
   "source": [
    "■ 리스트의 특정 위치에 요소에 삽입하기 (insert)"
   ]
  },
  {
   "cell_type": "code",
   "execution_count": 150,
   "metadata": {},
   "outputs": [
    {
     "name": "stdout",
     "output_type": "stream",
     "text": [
      "['태양', '수성', '금성', '지구', '화성', '소행성', '목성', '토성', '천왕성', '해왕성']\n"
     ]
    }
   ],
   "source": [
    "# 목성 앞에 소행성을 입력하시오\n",
    "a= ['태양', '수성', '금성', '지구', '화성', '목성', '토성', '천왕성', '해왕성']\n",
    "\n",
    "a.insert(a.index('목성'),'소행성')\n",
    "print(a)"
   ]
  },
  {
   "cell_type": "markdown",
   "metadata": {},
   "source": [
    "■ 리스트의 특정 위치의 요소 제거하기 (del)"
   ]
  },
  {
   "cell_type": "code",
   "execution_count": 152,
   "metadata": {},
   "outputs": [
    {
     "name": "stdout",
     "output_type": "stream",
     "text": [
      "['태양', '수성', '금성', '지구', '화성', '목성', '천왕성', '해왕성']\n"
     ]
    }
   ],
   "source": [
    "# 아래의 리스트에서 토성을 지우시오\n",
    "a= ['태양', '수성', '금성', '지구', '화성', '목성', '토성', '천왕성', '해왕성']\n",
    "\n",
    "del a[a.index('토성')]\n",
    "print(a)"
   ]
  },
  {
   "cell_type": "code",
   "execution_count": 154,
   "metadata": {},
   "outputs": [
    {
     "name": "stdout",
     "output_type": "stream",
     "text": [
      "['태양', '수성', '금성', '지구', '화성', '목성']\n"
     ]
    }
   ],
   "source": [
    "# 목성이후의 요소를 다 지우시오\n",
    "a= ['태양', '수성', '금성', '지구', '화성', '목성', '토성', '천왕성', '해왕성']\n",
    "\n",
    "del a[a.index('목성')+1:]\n",
    "print(a)"
   ]
  },
  {
   "cell_type": "code",
   "execution_count": 164,
   "metadata": {},
   "outputs": [
    {
     "name": "stdout",
     "output_type": "stream",
     "text": [
      "[]\n"
     ]
    }
   ],
   "source": [
    "# 아래의 리스트의 모든 요소를 다 삭젝하시오\n",
    "a= ['태양', '수성', '금성', '지구', '화성', '목성', '토성', '천왕성', '해왕성']\n",
    "\n",
    "del a[:]\n",
    "print(a)"
   ]
  },
  {
   "cell_type": "markdown",
   "metadata": {},
   "source": [
    "■ 리스트에서 특정요소 제거하기"
   ]
  },
  {
   "cell_type": "code",
   "execution_count": 165,
   "metadata": {},
   "outputs": [
    {
     "name": "stdout",
     "output_type": "stream",
     "text": [
      "['수성', '금성', '지구', '화성', '목성', '토성', '천왕성', '해왕성']\n"
     ]
    }
   ],
   "source": [
    "a= ['태양', '수성', '금성', '지구', '화성', '목성', '토성', '천왕성', '해왕성']\n",
    "\n",
    "a.remove('태양')\n",
    "print(a)"
   ]
  },
  {
   "cell_type": "markdown",
   "metadata": {},
   "source": [
    "■ 리스트에 있는 요소의 갯수 구하기"
   ]
  },
  {
   "cell_type": "code",
   "execution_count": 168,
   "metadata": {
    "scrolled": true
   },
   "outputs": [
    {
     "name": "stdout",
     "output_type": "stream",
     "text": [
      "9\n",
      "1\n"
     ]
    }
   ],
   "source": [
    "a= ['태양', '수성', '금성', '지구', '화성', '목성', '토성', '천왕성', '해왕성']\n",
    "\n",
    "print(len(a))\n",
    "print(a.count('지구'))"
   ]
  },
  {
   "cell_type": "markdown",
   "metadata": {},
   "source": [
    "■ 리스트에 있는 요소 정렬하기 (sort)"
   ]
  },
  {
   "cell_type": "code",
   "execution_count": 174,
   "metadata": {},
   "outputs": [
    {
     "name": "stdout",
     "output_type": "stream",
     "text": [
      "['Aimy', 'Bob', 'Kelly', 'Mary', 'Michale', 'Sams', 'Tom']\n"
     ]
    }
   ],
   "source": [
    "# 아래의 리스트를 ABCD 순으로 정렬하시오\n",
    "namelist = ['Mary', 'Sams', 'Aimy', 'Tom', 'Michale', 'Bob', 'Kelly']\n",
    "\n",
    "namelist.sort()\n",
    "# namelist.sort(reverse = True)\n",
    "# sorted(namelist)\n",
    "print(namelist)"
   ]
  },
  {
   "cell_type": "markdown",
   "metadata": {},
   "source": [
    "■ 리스트 요소 정렬하기 (sorted)"
   ]
  },
  {
   "cell_type": "code",
   "execution_count": 175,
   "metadata": {},
   "outputs": [
    {
     "name": "stdout",
     "output_type": "stream",
     "text": [
      "['Aimy', 'Bob', 'Kelly', 'Mary', 'Michale', 'Sams', 'Tom']\n"
     ]
    }
   ],
   "source": [
    "# 아래의 리스트를 abcd 순으로 정렬해서 b라는 변수에 담고 출력하시오\n",
    "\n",
    "namelist = ['Mary', 'Sams', 'Aimy', 'Tom', 'Michale', 'Bob', 'Kelly']\n",
    "\n",
    "b = sorted(namelist)\n",
    "print(b)"
   ]
  },
  {
   "cell_type": "markdown",
   "metadata": {},
   "source": [
    "**■ 리스트 요소 무작위로 섞기(shuffle)**\n",
    "\n",
    "    \" 순서용 자료를 뒤죽박죽 섞어 놓는 함수 \""
   ]
  },
  {
   "cell_type": "code",
   "execution_count": 176,
   "metadata": {},
   "outputs": [
    {
     "name": "stdout",
     "output_type": "stream",
     "text": [
      "[9, 1, 4, 2, 5, 3, 7, 8, 10, 6]\n",
      "[2, 4, 5, 6, 7, 8, 3, 1, 10, 9]\n",
      "[2, 1, 6, 3, 8, 7, 5, 10, 4, 9]\n"
     ]
    }
   ],
   "source": [
    "from random import shuffle\n",
    "\n",
    "li = list(range(1,11))\n",
    "for i in range(3):\n",
    "    shuffle(li)\n",
    "    print(li)"
   ]
  },
  {
   "cell_type": "code",
   "execution_count": 177,
   "metadata": {},
   "outputs": [
    {
     "name": "stdout",
     "output_type": "stream",
     "text": [
      "['Gee', '다만세', 'Yesterday', 'let it be', '소원을 말해봐']\n",
      "['소원을 말해봐', 'let it be', 'Gee', '다만세', 'Yesterday']\n",
      "['let it be', 'Gee', '소원을 말해봐', 'Yesterday', '다만세']\n"
     ]
    }
   ],
   "source": [
    "# 아래의 리스트를 무작위로 섞어서 3번 출력하시오\n",
    "music = ['Yesterday', 'let it be', '소원을 말해봐', 'Gee', '다만세']\n",
    "\n",
    "for i in range(3):\n",
    "    shuffle(music)\n",
    "    print(music)"
   ]
  },
  {
   "cell_type": "markdown",
   "metadata": {},
   "source": [
    "■ 리스트의 모든 요소를 인덱스와 쌍으로 추출하기(enumerate)\n",
    "\n",
    "    \" 열거하다라는 뜻으로 이 함수는 순서가 있는 자료형(리스트, 튜플, 문자형)을 입력받아 인덱스 값을 포함하는 enumerate 객체를 리턴한다 \""
   ]
  },
  {
   "cell_type": "code",
   "execution_count": 178,
   "metadata": {
    "scrolled": true
   },
   "outputs": [
    {
     "name": "stdout",
     "output_type": "stream",
     "text": [
      "0 body\n",
      "1 foo\n",
      "2 bar\n"
     ]
    }
   ],
   "source": [
    "for i, name in enumerate(['body','foo','bar']):\n",
    "    print(i, name)"
   ]
  },
  {
   "cell_type": "code",
   "execution_count": 179,
   "metadata": {},
   "outputs": [
    {
     "name": "stdout",
     "output_type": "stream",
     "text": [
      "[(0, '태양'), (1, '수성'), (2, '금성'), (3, '지구'), (4, '화성'), (5, '목성'), (6, '토성'), (7, '천왕성'), (8, '해왕성')]\n"
     ]
    }
   ],
   "source": [
    "# \n",
    "a= ['태양', '수성', '금성', '지구', '화성', '목성', '토성', '천왕성', '해왕성']\n",
    "\n",
    "li = []\n",
    "for i, gal in enumerate(a):\n",
    "    li.append((i,gal))\n",
    "    \n",
    "print(li)"
   ]
  },
  {
   "cell_type": "markdown",
   "metadata": {},
   "source": [
    "■ 리스트 요소가 모두 참인지 확인하기 (all,any)"
   ]
  },
  {
   "cell_type": "code",
   "execution_count": 181,
   "metadata": {},
   "outputs": [
    {
     "name": "stdout",
     "output_type": "stream",
     "text": [
      "True\n",
      "False\n"
     ]
    }
   ],
   "source": [
    "# 아래의 리스트 요소 중에 하나라도 True가 있으면 True를 출력하시오\n",
    "a = [True, False, True, True]\n",
    "\n",
    "print(any(a))\n",
    "print(all(a))"
   ]
  },
  {
   "cell_type": "markdown",
   "metadata": {},
   "source": [
    "**※ 파이썬에서 _(언더바) 를 사용하는 경우**\n",
    "\n",
    "   1. 인터프리터에서 마지막 값을 저장할 때\n",
    "   2. 값을 무시하고 싶을 때\n",
    "   3. 변수나 함수명에 특별한 의미를 부여하고 싶을 때\n",
    "   \n",
    "숫자, 문자값의 자릿수 구분을 위한 구분자로써 사용할 때"
   ]
  },
  {
   "cell_type": "code",
   "execution_count": 197,
   "metadata": {},
   "outputs": [
    {
     "data": {
      "text/plain": [
       "180"
      ]
     },
     "execution_count": 197,
     "metadata": {},
     "output_type": "execute_result"
    }
   ],
   "source": [
    "# 1. 마지막 값을 저장할 때: 인터프리터에서만 가능\n",
    "10\n",
    "_    # why 9?\n",
    "_*3    # 30\n",
    "_*20"
   ]
  },
  {
   "cell_type": "code",
   "execution_count": 185,
   "metadata": {},
   "outputs": [
    {
     "name": "stdout",
     "output_type": "stream",
     "text": [
      "1 2\n",
      "1 3\n"
     ]
    }
   ],
   "source": [
    "# 2. 값을 무시하고 싶을 때\n",
    "x, y = (1,2)\n",
    "\n",
    "print(x,y)\n",
    "\n",
    "x,_,y = (1,2,3)\n",
    "print(x, y)"
   ]
  },
  {
   "cell_type": "code",
   "execution_count": 184,
   "metadata": {
    "scrolled": true
   },
   "outputs": [
    {
     "name": "stdout",
     "output_type": "stream",
     "text": [
      "1 5\n"
     ]
    }
   ],
   "source": [
    "# 3. 여러값을 무시하고 싶을 때 \n",
    "\n",
    "x, *_,y = (1,2,3,4,5)\n",
    "print(x,y)"
   ]
  },
  {
   "cell_type": "code",
   "execution_count": 186,
   "metadata": {
    "scrolled": true
   },
   "outputs": [
    {
     "name": "stdout",
     "output_type": "stream",
     "text": [
      "a\n",
      "a\n",
      "a\n",
      "a\n",
      "a\n",
      "a\n",
      "a\n",
      "a\n",
      "a\n",
      "a\n"
     ]
    }
   ],
   "source": [
    "# 4. for loop 문 사용시 index를 무시하고 싶을 때\n",
    "for _ in range(10):\n",
    "    print('a')"
   ]
  },
  {
   "cell_type": "markdown",
   "metadata": {},
   "source": [
    "5. 변수나 함수명에 특별한 의미를 부여하고 싶을 때\n",
    "\n",
    "__init__ : 클래스가 객체화 될 대 반드시 실행되는 메소드\n",
    "    \n",
    "__init__.py  : 폴더 안에 있어야 패키지가 될 수 있다."
   ]
  },
  {
   "cell_type": "code",
   "execution_count": 198,
   "metadata": {},
   "outputs": [
    {
     "name": "stdout",
     "output_type": "stream",
     "text": [
      "1000000000000000\n"
     ]
    }
   ],
   "source": [
    "# 6. 숫자 또는 문자값의 자릿수를 구분하기위한 구분자로써 사용할 때 \n",
    "dec_base = 1_000_000_000_000_000\n",
    "\n",
    "print(dec_base)"
   ]
  },
  {
   "cell_type": "code",
   "execution_count": null,
   "metadata": {
    "collapsed": true
   },
   "outputs": [],
   "source": []
  },
  {
   "cell_type": "markdown",
   "metadata": {},
   "source": [
    "■ 사전에 요소 추가하기"
   ]
  },
  {
   "cell_type": "code",
   "execution_count": 199,
   "metadata": {},
   "outputs": [
    {
     "name": "stdout",
     "output_type": "stream",
     "text": [
      "{'태양': 'sum'}\n"
     ]
    }
   ],
   "source": [
    "# 예:\n",
    "sol = {}\n",
    "sol['태양'] = 'sum'\n",
    "\n",
    "print(sol)"
   ]
  },
  {
   "cell_type": "code",
   "execution_count": 214,
   "metadata": {},
   "outputs": [
    {
     "name": "stdout",
     "output_type": "stream",
     "text": [
      "{'태양': 'Sun', '수성': 'Mercury', '금성': 'Venus', '지구': 'Earth', '화성': 'Mars', '목성': 'Jupiter', '토성': 'Saturn', '천왕성': 'Uranus', '해왕성': 'Neptune'}\n",
      "{'태양': 'Sun', '수성': 'Mercury', '금성': 'Venus', '지구': 'Earth', '화성': 'Mars', '목성': 'Jupiter', '토성': 'Saturn', '천왕성': 'Uranus', '해왕성': 'Neptune'}\n"
     ]
    }
   ],
   "source": [
    "# 아래의 두개의 리스트를 이용해서 아래의 딕셔너릴 생성하시오\n",
    "\n",
    "solar1 = ['태양', '수성', '금성', '지구', '화성', '목성', '토성', '천왕성', '해왕성']\n",
    "solar2 = ['Sun', 'Mercury', 'Venus', 'Earth', 'Mars', 'Jupiter', 'Saturn', 'Uranus', 'Neptune']\n",
    "\n",
    "gal = {solar1[i] : solar2[i] for i in range(len(solar1))}\n",
    "    \n",
    "print(gal)\n",
    "\n",
    "gal2 = {}\n",
    "for i, g in enumerate(solar1):\n",
    "    val = solar2[i]\n",
    "    gal2[g] = val\n",
    "\n",
    "print(gal2)"
   ]
  },
  {
   "cell_type": "code",
   "execution_count": 222,
   "metadata": {},
   "outputs": [
    {
     "name": "stdout",
     "output_type": "stream",
     "text": [
      "{'Beatles': 'let it be', '소녀시대': '다만세'}\n",
      "{'Beatles': 'let it be', '소녀시대': '다만세'}\n"
     ]
    }
   ],
   "source": [
    "# 문제 268. 아래의 두개의 리스트를 아래의 딕셔너리로 출력하시오\n",
    "\n",
    "artist = ['Beatles','소녀시대']\n",
    "\n",
    "music = ['Yesterday','소원을 말해봐']\n",
    "ar = {artist[i] : mu for i,mu in enumerate(music)}\n",
    "\n",
    "print(ar)\n",
    "\n",
    "\n",
    "ar3 = {ar : mu for ar,mu in zip(artist,music)}\n",
    "\n",
    "print(ar2)"
   ]
  },
  {
   "cell_type": "markdown",
   "metadata": {},
   "source": [
    "■ default 딕셔너리를 구성하는 방법"
   ]
  },
  {
   "cell_type": "code",
   "execution_count": 276,
   "metadata": {},
   "outputs": [
    {
     "name": "stdout",
     "output_type": "stream",
     "text": [
      "{'key1': ['value1', 'value2'], 'key2': ['value3', 'value4', 'value5']}\n",
      "{'Beatles': 2, '소녀시대': 3}\n",
      "[('a', 2), ('b', 2), ('c', 2), ('d', 1)]\n",
      "one\n",
      "two\n",
      "{'one': [], 'two': []}\n"
     ]
    }
   ],
   "source": [
    "# 1. sedefault\n",
    "artist = ['Beatles', 'Beatles', '소녀시대', '소녀시대', '소녀시대']\n",
    "box = {}\n",
    "for k in artist:\n",
    "    box.setdefault(k, 0)\n",
    "    box[k]+=1\n",
    "print(box)\n",
    "\n",
    "DATA_SOURCE = (('key1', 'value1'),\n",
    "               ('key1', 'value2'),\n",
    "               ('key2', 'value3'),\n",
    "               ('key2', 'value4'),\n",
    "               ('key2', 'value5'),)\n",
    "\n",
    "newdata = {}\n",
    "for k, v in DATA_SOURCE:\n",
    "    newdata.setdefault(k, []).append(v)\n",
    "print(newdata)\n",
    "\n",
    "\n",
    "# 2.Counter\n",
    "\n",
    "from collections import Counter\n",
    "s = ['a','b','c','d','a','b','c']\n",
    "c = Counter(s)\n",
    "\n",
    "print(list(c.items()))\n",
    "\n",
    "\n",
    "# 3. defaultdic\n",
    "\n",
    "from collections import defaultdict\n",
    "d = defaultdict(list)\n",
    "d['one']\n",
    "d['two']\n",
    "for item in d:\n",
    "    print(item)\n",
    "print(dict(d))"
   ]
  },
  {
   "cell_type": "code",
   "execution_count": 280,
   "metadata": {},
   "outputs": [
    {
     "name": "stdout",
     "output_type": "stream",
     "text": [
      "{'Beatles': ['Yesterday', 'let it be'], '소녀시대': ['소원을 말해봐', 'Gee', '다만세']}\n",
      "{'Beatles': ['Yesterday', 'let it be'], '소녀시대': ['소원을 말해봐', 'Gee', '다만세']}\n"
     ]
    }
   ],
   "source": [
    "# 두개의 리스트로 아래의 딕셔너리를 생성하시오\n",
    "artist = ['Beatles', 'Beatles', '소녀시대', '소녀시대', '소녀시대']\n",
    "\n",
    "music = ['Yesterday', 'let it be', '소원을 말해봐', 'Gee', '다만세']\n",
    "\n",
    "#  1. sedefault\n",
    "box = {}\n",
    "for v, k in enumerate(artist):\n",
    "    box.setdefault(k, []).append(music[v])    #setdefault(key, value)\n",
    "print(box)\n",
    "\n",
    "# 3. defaultdic\n",
    "\n",
    "from collections import defaultdict\n",
    "\n",
    "box2 = defaultdict(list)  # 값이 없어도 되고 key가 중복될 경우 value를 list로 받겠다 -> 단, sort 하기!\n",
    "\n",
    "for i, ar in enumerate(artist):\n",
    "    box2[ar].append(music[i])\n",
    "#     print(box)\n",
    "\n",
    "print(dict(box2))"
   ]
  },
  {
   "cell_type": "code",
   "execution_count": 290,
   "metadata": {},
   "outputs": [
    {
     "name": "stdout",
     "output_type": "stream",
     "text": [
      "{'Beatles': ['Yesterday', 'let it be'], '소녀시대': ['소원을 말해봐', 'Gee', '다만세', '소녀시대']}\n",
      "{'Beatles': ['Yesterday', 'let it be'], '소녀시대': ['소원을 말해봐', 'Gee', '다만세', '소녀시대']}\n"
     ]
    }
   ],
   "source": [
    "# 아래의 곡을 더 추가해서 결과가 출력되게 하시오\n",
    "artist = ['Beatles', 'Beatles','소녀시대', '소녀시대', '소녀시대', '소녀시대']\n",
    "\n",
    "music = ['Yesterday', 'let it be', '소원을 말해봐', 'Gee', '다만세', '소녀시대']\n",
    "\n",
    "#  1. sedefault\n",
    "box = {}\n",
    "for v, k in enumerate(artist):\n",
    "    box.setdefault(k, []).append(music[v])    #setdefault(key, value)\n",
    "print(box)\n",
    "\n",
    "# 3. defaultdic\n",
    "\n",
    "from collections import defaultdict\n",
    "\n",
    "box2 = defaultdict(list)  # 값이 없어도 되고 key가 중복될 경우 value를 list로 받겠다 -> 단, sort 하기!\n",
    "\n",
    "for i, ar in enumerate(artist):\n",
    "    box2[ar].append(music[i])\n",
    "\n",
    "print(dict(box2))"
   ]
  },
  {
   "cell_type": "markdown",
   "metadata": {},
   "source": [
    "■ 사전의 특정 요소 값 변경하시"
   ]
  },
  {
   "cell_type": "code",
   "execution_count": 286,
   "metadata": {},
   "outputs": [
    {
     "name": "stdout",
     "output_type": "stream",
     "text": [
      "{'Beatles': ['Yesterday', 'let it be'], '소녀시대': ['소원을 말해봐', 'Gee', '다만세', '소녀시대']}\n",
      "{'Beatles': ['Yesterday', 'Hey jude'], '소녀시대': ['소원을 말해봐', 'Gee', '다만세', '소녀시대']}\n"
     ]
    }
   ],
   "source": [
    "# 아래의 딕셔너리의 값 중에 let it be를 Women으로 변경하시오\n",
    "print(box)\n",
    "\n",
    "box['Beatles'][1] = 'Hey jude'\n",
    "\n",
    "print(box)"
   ]
  },
  {
   "cell_type": "code",
   "execution_count": 287,
   "metadata": {},
   "outputs": [
    {
     "name": "stdout",
     "output_type": "stream",
     "text": [
      "{'Beatles': ['Yesterday', 'Hey jude']}\n"
     ]
    }
   ],
   "source": [
    "# 아래의 딕셔너리에서 소녀시대를 전부 지우시오\n",
    "del box['소녀시대']\n",
    "\n",
    "print(box)"
   ]
  },
  {
   "cell_type": "markdown",
   "metadata": {},
   "source": [
    "■ 사전의 모든 요소 제거하기(clear)"
   ]
  },
  {
   "cell_type": "code",
   "execution_count": 289,
   "metadata": {},
   "outputs": [
    {
     "name": "stdout",
     "output_type": "stream",
     "text": [
      "{'Beatles': ['Yesterday', 'let it be'], '소녀시대': ['소원을 말해봐', 'Gee', '다만세', '소녀시대']}\n",
      "{}\n"
     ]
    }
   ],
   "source": [
    "# 아래의 리스트의 모든 요소를 다 삭제하시오\n",
    "\n",
    "print(box)\n",
    "\n",
    "box.clear()\n",
    "\n",
    "print(box)"
   ]
  },
  {
   "cell_type": "markdown",
   "metadata": {},
   "source": [
    "■ 사전에서 키만 추출하기 (keys)"
   ]
  },
  {
   "cell_type": "code",
   "execution_count": 295,
   "metadata": {
    "scrolled": true
   },
   "outputs": [
    {
     "data": {
      "text/plain": [
       "dict_keys(['Beatles', '소녀시대'])"
      ]
     },
     "execution_count": 295,
     "metadata": {},
     "output_type": "execute_result"
    }
   ],
   "source": [
    "box.keys()"
   ]
  },
  {
   "cell_type": "markdown",
   "metadata": {},
   "source": [
    "■ 사전에서 값만 추출하기 (values)"
   ]
  },
  {
   "cell_type": "code",
   "execution_count": 296,
   "metadata": {},
   "outputs": [
    {
     "data": {
      "text/plain": [
       "dict_values([['Yesterday', 'let it be'], ['소원을 말해봐', 'Gee', '다만세', '소녀시대']])"
      ]
     },
     "execution_count": 296,
     "metadata": {},
     "output_type": "execute_result"
    }
   ],
   "source": [
    "box.values()"
   ]
  },
  {
   "cell_type": "code",
   "execution_count": 318,
   "metadata": {},
   "outputs": [
    {
     "name": "stdout",
     "output_type": "stream",
     "text": [
      "{'Beatles': ['Yesterday', 'let it be'], '소녀시대': ['소원을 말해봐', 'Gee', '다만세', '소녀시대']}\n",
      "let it be 소원을 말해봐\n"
     ]
    }
   ],
   "source": [
    "# 아래의 딕셔너리에서 아래의 노래만 추출하시오\n",
    "print(box)\n",
    "\n",
    "# for i in range(len(box.values())):\n",
    "#     print(list(box.values())[i][0], end=' ')\n",
    "\n",
    "box_v= list(box.values())\n",
    "print(box_v[0][1],box_v[1][0])"
   ]
  },
  {
   "cell_type": "code",
   "execution_count": 359,
   "metadata": {},
   "outputs": [
    {
     "name": "stdout",
     "output_type": "stream",
     "text": [
      "{'Beatles': ['Yesterday', 'let it be', 'Hey jude'], '소녀시대': ['소원을 말해봐', 'Gee', '다만세']}\n",
      "Yesterday 소원을 말해봐 let it be Gee Hey jude 다만세 "
     ]
    }
   ],
   "source": [
    "# 아래의 리스트의 값들을 아래와 같이 출력하시오\n",
    "artist = ['Beatles', 'Beatles', 'Beatles', '소녀시대', '소녀시대', '소녀시대']\n",
    "\n",
    "music = ['Yesterday', 'let it be', 'Hey jude', '소원을 말해봐', 'Gee', '다만세']\n",
    "\n",
    "#  1. sedefault\n",
    "box = {}\n",
    "for v, k in enumerate(artist):\n",
    "    box.setdefault(k, []).append(music[v])    #setdefault(key, value)\n",
    "print(box)\n",
    "\n",
    "box = list(box.values())\n",
    "\n",
    "for x in range(3):\n",
    "    for j in range(len(box)):\n",
    "        print(box[j][x], end = ' ')"
   ]
  },
  {
   "cell_type": "code",
   "execution_count": 394,
   "metadata": {},
   "outputs": [
    {
     "name": "stdout",
     "output_type": "stream",
     "text": [
      "{'Beatles': ['let it be', 'Hey jude', 'Yesterday'], '소녀시대': ['다만세', 'Gee', '소원을 말해봐']}\n",
      "Yesterday 소원을 말해봐 "
     ]
    },
    {
     "ename": "IndexError",
     "evalue": "list index out of range",
     "output_type": "error",
     "traceback": [
      "\u001b[1;31m---------------------------------------------------------------------------\u001b[0m",
      "\u001b[1;31mIndexError\u001b[0m                                Traceback (most recent call last)",
      "\u001b[1;32m<ipython-input-394-2cd9f3a4bd61>\u001b[0m in \u001b[0;36m<module>\u001b[1;34m()\u001b[0m\n\u001b[0;32m     23\u001b[0m     \u001b[0mprint\u001b[0m\u001b[1;33m(\u001b[0m\u001b[0mbox\u001b[0m\u001b[1;33m[\u001b[0m\u001b[0mj\u001b[0m\u001b[1;33m]\u001b[0m\u001b[1;33m.\u001b[0m\u001b[0mpop\u001b[0m\u001b[1;33m(\u001b[0m\u001b[1;33m)\u001b[0m\u001b[1;33m,\u001b[0m \u001b[0mend\u001b[0m\u001b[1;33m=\u001b[0m\u001b[1;34m\" \"\u001b[0m\u001b[1;33m)\u001b[0m\u001b[1;33m\u001b[0m\u001b[0m\n\u001b[0;32m     24\u001b[0m     \u001b[0mj\u001b[0m \u001b[1;33m+=\u001b[0m \u001b[1;36m1\u001b[0m\u001b[1;33m\u001b[0m\u001b[0m\n\u001b[1;32m---> 25\u001b[1;33m     \u001b[1;32mif\u001b[0m \u001b[0mlen\u001b[0m\u001b[1;33m(\u001b[0m\u001b[0mbox\u001b[0m\u001b[1;33m[\u001b[0m\u001b[0mj\u001b[0m\u001b[1;33m]\u001b[0m\u001b[1;33m)\u001b[0m \u001b[1;33m==\u001b[0m \u001b[1;36m0\u001b[0m\u001b[1;33m:\u001b[0m\u001b[1;33m\u001b[0m\u001b[0m\n\u001b[0m\u001b[0;32m     26\u001b[0m         \u001b[0mprint\u001b[0m\u001b[1;33m(\u001b[0m\u001b[0mbox\u001b[0m\u001b[1;33m.\u001b[0m\u001b[0mpop\u001b[0m\u001b[1;33m(\u001b[0m\u001b[1;33m)\u001b[0m\u001b[1;33m)\u001b[0m\u001b[1;33m\u001b[0m\u001b[0m\n",
      "\u001b[1;31mIndexError\u001b[0m: list index out of range"
     ]
    }
   ],
   "source": [
    "# shuffle 기능을 추가해서 코드가 수행될 때 마다 곡이 섞여서 출력되게 하시오\n",
    "from random import shuffle\n",
    "\n",
    "artist = ['Beatles', 'Beatles', 'Beatles', '소녀시대', '소녀시대', '소녀시대']\n",
    "\n",
    "music = ['Yesterday', 'let it be', 'Hey jude', '소원을 말해봐', 'Gee', '다만세']\n",
    "\n",
    "#  1. sedefault\n",
    "box = {}\n",
    "for v, k in enumerate(artist):\n",
    "    box.setdefault(k, []).append(music[v])    #setdefault(key, value)\n",
    "    shuffle(box[k])\n",
    "print(box)\n",
    "\n",
    "box = list(box.values())\n",
    "\n",
    "# c = len([y for x in box for y in x])\n",
    "\n",
    "# print(c)\n",
    "\n",
    "\n",
    "for x in range(3):\n",
    "    for j in range(len(box)):\n",
    "        print(box[j][x], end = ' ')"
   ]
  },
  {
   "cell_type": "code",
   "execution_count": 468,
   "metadata": {},
   "outputs": [
    {
     "name": "stdout",
     "output_type": "stream",
     "text": [
      "소녀시대 Yesterday 다만세 let it be Gee Hey jude 소원을 말해봐\n"
     ]
    }
   ],
   "source": [
    "# 소녀시대가 한 곡이 더 있는 상태에서 구현하시오\n",
    "from random import shuffle\n",
    "\n",
    "artist = ['Beatles', 'Beatles', 'Beatles', '소녀시대', '소녀시대', '소녀시대', '소녀시대']\n",
    "music = ['Yesterday', 'let it be', 'Hey jude', '소원을 말해봐', 'Gee', '다만세', '소녀시대']\n",
    "\n",
    "# artist= ['Beatles', 'Beatles', '소녀시대', '소녀시대', '소녀시대','테스트','테스트','은희','은희','은희','은희']\n",
    "# music = ['Yesterday', 'let it be', '소원을 말해봐', 'Gee', '다만세','아아아','오오오','눈의꽃','바람기억','첫눈처럼 너에게 가겠다.','My way']\n",
    "\n",
    "box = {}\n",
    "for v, k in enumerate(artist):\n",
    "    box.setdefault(k, []).append(music[v])    #setdefault(key, value)\n",
    "    shuffle(box[k])\n",
    "# print(box)\n",
    "\n",
    "box = list(box.values())\n",
    "\n",
    "# print(box)\n",
    "\n",
    "box.sort(reverse=True,key=lambda x: len(x))\n",
    "\n",
    "# print(box)\n",
    "\n",
    "for x in range(len(box[-1])):\n",
    "    for j in range(len(box)):\n",
    "        print(box[j].pop(), end = ' ')\n",
    "while True:\n",
    "    if len(box) != 0:\n",
    "        break\n",
    "    print(box[0].pop())\n",
    "        \n",
    "# for x in range(c):\n",
    "#     for j in range(len(box)):\n",
    "#         print(box[j][x], end = ' ')\n",
    "# print(box[0][-1])"
   ]
  },
  {
   "cell_type": "markdown",
   "metadata": {},
   "source": [
    "■ 사전 요소를 모두 추출하기 (items)\n",
    "    \n",
    "    ※ 딕셔너리 자료형에서 데이터를 추출하는 방법\n",
    "        \n",
    "        1. key 추출 : dic.keys()\n",
    "        2. value 추출 : dic.values()\n",
    "        3. 둘 다 추출 : dic.items()"
   ]
  },
  {
   "cell_type": "code",
   "execution_count": 496,
   "metadata": {},
   "outputs": [
    {
     "data": {
      "text/plain": [
       "dict_items([('Beatles', ['Yesterday', 'Hey jude', 'let it be']), ('소녀시대', ['Gee', '소녀시대', '소원을 말해봐', '다만세'])])"
      ]
     },
     "execution_count": 496,
     "metadata": {},
     "output_type": "execute_result"
    }
   ],
   "source": [
    "# 아래의 딕셔너리의 모든 아이템을 다 추출하시오\n",
    "\n",
    "artist = ['Beatles', 'Beatles', 'Beatles', '소녀시대', '소녀시대', '소녀시대', '소녀시대']\n",
    "music = ['Yesterday', 'let it be', 'Hey jude', '소원을 말해봐', 'Gee', '다만세', '소녀시대']\n",
    "\n",
    "# artist= ['Beatles', 'Beatles', '소녀시대', '소녀시대', '소녀시대','테스트','테스트','은희','은희','은희','은희']\n",
    "# music = ['Yesterday', 'let it be', '소원을 말해봐', 'Gee', '다만세','아아아','오오오','눈의꽃','바람기억','첫눈처럼 너에게 가겠다.','My way']\n",
    "\n",
    "box = {}\n",
    "for v, k in enumerate(artist):\n",
    "    box.setdefault(k, []).append(music[v])    #setdefault(key, value)\n",
    "    shuffle(box[k])\n",
    "    \n",
    "box.items()"
   ]
  },
  {
   "cell_type": "markdown",
   "metadata": {},
   "source": [
    "■ 사전 정렬하기 (sorted)"
   ]
  },
  {
   "cell_type": "code",
   "execution_count": 504,
   "metadata": {},
   "outputs": [
    {
     "name": "stdout",
     "output_type": "stream",
     "text": [
      "['Aimy', 'Bob', 'Kelly', 'Mary', 'Michale', 'Sams', 'Tom']\n"
     ]
    }
   ],
   "source": [
    "# 아래의 딕셔너리 데이터의 키값을 ABCD 순으로 정렬해서 출력하시오\n",
    "\n",
    "names = {'Mary':10999, 'Sams':2111, 'Aimy':9778, 'Tom':20245, 'Michale':27115, 'Bob':5887, 'Kelly':7855}\n",
    "\n",
    "print(sorted(list(names.keys())))"
   ]
  },
  {
   "cell_type": "code",
   "execution_count": 506,
   "metadata": {
    "scrolled": false
   },
   "outputs": [
    {
     "data": {
      "text/plain": [
       "[('Aimy', 9778),\n",
       " ('Bob', 5887),\n",
       " ('Kelly', 7855),\n",
       " ('Mary', 10999),\n",
       " ('Michale', 27115),\n",
       " ('Sams', 2111),\n",
       " ('Tom', 20245)]"
      ]
     },
     "execution_count": 506,
     "metadata": {},
     "output_type": "execute_result"
    }
   ],
   "source": [
    "# 위의 dictionary 의 key를 정렬할 때 키도 같이 정렬되게 하시오\n",
    "\n",
    "sorted(list(names.items()))"
   ]
  }
 ],
 "metadata": {
  "kernelspec": {
   "display_name": "Python 3",
   "language": "python",
   "name": "python3"
  },
  "language_info": {
   "codemirror_mode": {
    "name": "ipython",
    "version": 3
   },
   "file_extension": ".py",
   "mimetype": "text/x-python",
   "name": "python",
   "nbconvert_exporter": "python",
   "pygments_lexer": "ipython3",
   "version": "3.6.3"
  }
 },
 "nbformat": 4,
 "nbformat_minor": 2
}
