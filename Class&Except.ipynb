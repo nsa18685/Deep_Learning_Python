{
 "cells": [
  {
   "cell_type": "markdown",
   "metadata": {},
   "source": [
    "■ 45. 파이썬 모듈 임포트 이해하기 (1. import)\n",
    "\n",
    "    설명: import 문을 만나면 파이썬 모듈을 찾는 순서\n",
    "    \n",
    "          1. 파이썬 내장 모듈\n",
    "          2. sys.path에 정의되어있는 디렐토리\n",
    "         "
   ]
  },
  {
   "cell_type": "code",
   "execution_count": 197,
   "metadata": {
    "scrolled": true
   },
   "outputs": [
    {
     "name": "stdout",
     "output_type": "stream",
     "text": [
      "('_ast', '_bisect', '_blake2', '_codecs', '_codecs_cn', '_codecs_hk', '_codecs_iso2022', '_codecs_jp', '_codecs_kr', '_codecs_tw', '_collections', '_csv', '_datetime', '_findvs', '_functools', '_heapq', '_imp', '_io', '_json', '_locale', '_lsprof', '_md5', '_multibytecodec', '_opcode', '_operator', '_pickle', '_random', '_sha1', '_sha256', '_sha3', '_sha512', '_signal', '_sre', '_stat', '_string', '_struct', '_symtable', '_thread', '_tracemalloc', '_warnings', '_weakref', '_winapi', 'array', 'atexit', 'audioop', 'binascii', 'builtins', 'cmath', 'errno', 'faulthandler', 'gc', 'itertools', 'marshal', 'math', 'mmap', 'msvcrt', 'nt', 'parser', 'sys', 'time', 'winreg', 'xxsubtype', 'zipimport', 'zlib')\n"
     ]
    }
   ],
   "source": [
    "# 파이썬에 내장 모듈이 무엇이 있는지 출력하시오\n",
    "\n",
    "import sys\n",
    "print(sys.builtin_module_names)"
   ]
  },
  {
   "cell_type": "code",
   "execution_count": 198,
   "metadata": {
    "scrolled": true
   },
   "outputs": [
    {
     "name": "stdout",
     "output_type": "stream",
     "text": [
      "\n",
      "C:\\Users\\nsa18\\Anaconda3\\python36.zip\n",
      "C:\\Users\\nsa18\\Anaconda3\\DLLs\n",
      "C:\\Users\\nsa18\\Anaconda3\\lib\n",
      "C:\\Users\\nsa18\\Anaconda3\n",
      "C:\\Users\\nsa18\\Anaconda3\\lib\\site-packages\n",
      "C:\\Users\\nsa18\\Anaconda3\\lib\\site-packages\\Babel-2.5.0-py3.6.egg\n",
      "C:\\Users\\nsa18\\Anaconda3\\lib\\site-packages\\win32\n",
      "C:\\Users\\nsa18\\Anaconda3\\lib\\site-packages\\win32\\lib\n",
      "C:\\Users\\nsa18\\Anaconda3\\lib\\site-packages\\Pythonwin\n",
      "C:\\Users\\nsa18\\Anaconda3\\lib\\site-packages\\IPython\\extensions\n",
      "C:\\Users\\nsa18\\.ipython\n"
     ]
    }
   ],
   "source": [
    "# 문제133. sys.path의 내용을 프린트 하시오\n",
    "\n",
    "import sys\n",
    "\n",
    "for path in sys.path:\n",
    "    print(path)"
   ]
  },
  {
   "cell_type": "markdown",
   "metadata": {},
   "source": [
    "※ site-packages가 무엇인가?\n",
    "    \n",
    "    site-packages란 파이썬의 기본 라이브러리 패키지 외에 추가적인 패키지를 설치하는 디렉토리이다.\n",
    "    \n",
    "    site-packages 디렉토리에 여러가지 소프트웨어가 사용할 공통 모듈을 넣어두면 물리적인 장소에 구애받지 않고 모듈에 접근하여 반입할 수 있다.\n",
    "    "
   ]
  },
  {
   "cell_type": "code",
   "execution_count": 205,
   "metadata": {},
   "outputs": [
    {
     "name": "stdout",
     "output_type": "stream",
     "text": [
      "2018-07-06 \n"
     ]
    }
   ],
   "source": [
    "# 예: site-package가 없으면 같은 디렉토리에 위치하여야 import 가능\n",
    "\n",
    "from my_loc import oracle_func\n",
    "\n",
    "print(oracle_func.next_day('2018-07-01','금요일'))"
   ]
  },
  {
   "cell_type": "code",
   "execution_count": 206,
   "metadata": {},
   "outputs": [
    {
     "name": "stdout",
     "output_type": "stream",
     "text": [
      "2018-07-06 \n"
     ]
    }
   ],
   "source": [
    "# 문제134. oracle_func.py를 site-packages 디렉토리 밑데 넣어두고 실행해보시오\n",
    "\n",
    "import oracle_func  # 현재 동일선상에 위치하지 않음\n",
    "\n",
    "print(oracle_func.next_day('2018-07-01','금요일'))"
   ]
  },
  {
   "cell_type": "markdown",
   "metadata": {},
   "source": [
    "■ 46. 파이썬 모듈 임포트 이해하기 (2. from ~ import)\n",
    "\n",
    "    /my_loc/oracle_fun.py\n",
    "\n",
    "       ↑        ↑\n",
    "     패키지     모듈 : add_months, next_day, months_between, ... (메소드)\n",
    " "
   ]
  },
  {
   "cell_type": "code",
   "execution_count": 212,
   "metadata": {
    "scrolled": true
   },
   "outputs": [
    {
     "name": "stdout",
     "output_type": "stream",
     "text": [
      "2018-07-06 \n",
      "2018-10-01 00:00:00\n",
      "2018-07-06 \n",
      "2018-10-01 00:00:00\n",
      "2018-07-06 \n",
      "2018-10-01 00:00:00\n",
      "2018-07-06 \n",
      "2018-10-01 00:00:00\n",
      "2018-07-06 \n",
      "2018-10-01 00:00:00\n"
     ]
    }
   ],
   "source": [
    "#  /Chapter1.Basic.ipynb 에서 my_loc 패키지 내의 oracle_func 모듈안에 next_day 함수를 사용하고 싶다면?\n",
    "# 방법1\n",
    "import my_loc.oracle_func\n",
    "\n",
    "print(my_loc.oracle_func.next_day('2018-07-01','금요일'))\n",
    "print(my_loc.oracle_func.add_months('2018-07-01',100))\n",
    "\n",
    "# 방법2\n",
    "import my_loc.oracle_func as of\n",
    "\n",
    "print(of.next_day('2018-07-01','금요일'))\n",
    "print(of.add_months('2018-07-01',100))\n",
    "\n",
    "# 방법3\n",
    "from my_loc import oracle_func\n",
    "\n",
    "print(oracle_func.next_day('2018-07-01','금요일'))\n",
    "print(oracle_func.add_months('2018-07-01',100))\n",
    "# print(oracle_func.last_day('2018-07-01'))\n",
    "\n",
    "# 방법4\n",
    "from my_loc.oracle_func import next_day\n",
    "from my_loc.oracle_func import add_months\n",
    "\n",
    "print(next_day('2018-07-01','금요일'))\n",
    "print(add_months('2018-07-01',100))\n",
    "\n",
    "# 방법5\n",
    "from my_loc.oracle_func import *\n",
    "\n",
    "print(next_day('2018-07-01','금요일'))\n",
    "print(add_months('2018-07-01',100))\n"
   ]
  },
  {
   "cell_type": "code",
   "execution_count": 10,
   "metadata": {
    "scrolled": true
   },
   "outputs": [
    {
     "name": "stdout",
     "output_type": "stream",
     "text": [
      "2018-07-20 \n",
      "2018-10-20 00:00:00\n",
      "2018-07-31\n"
     ]
    }
   ],
   "source": [
    "# 문제135. 아래와 같이 코딩해서 수행되게 하시오\n",
    "\n",
    "from my_loc.oracle_func import *\n",
    "\n",
    "print(next_day('2018-07-20','금요일'))\n",
    "print(add_months('2018-07-20',100))\n",
    "print(last_day('2018-07-20'))"
   ]
  },
  {
   "cell_type": "markdown",
   "metadata": {},
   "source": [
    "■ 47. 파이썬 모듈 임포트 이해하기 (3. import ~ as)\n"
   ]
  },
  {
   "cell_type": "code",
   "execution_count": null,
   "metadata": {
    "collapsed": true
   },
   "outputs": [],
   "source": [
    "# 예:\n",
    "import my_loc.oracle_func as of\n",
    "\n",
    "print(of.next_day('2018-07-01','금요일'))\n",
    "print(of.add_months('2018-07-01',100))"
   ]
  },
  {
   "cell_type": "markdown",
   "metadata": {},
   "source": [
    "■ 48. 파일 열고 닫기 (open ~ close)\n"
   ]
  },
  {
   "cell_type": "code",
   "execution_count": 4,
   "metadata": {
    "scrolled": true
   },
   "outputs": [
    {
     "data": {
      "image/png": "[encoded data removed]",
      "text/plain": [
       "<matplotlib.figure.Figure at 0x231992d4278>"
      ]
     },
     "metadata": {},
     "output_type": "display_data"
    }
   ],
   "source": [
    "# 예: 이미지파일을 파이썬에서 여는 방법\n",
    "\n",
    "#! pip install pillow\n",
    "import  PIL.Image as pilimg \n",
    "import  numpy  as  np\n",
    "import  matplotlib.pyplot  as  plt \n",
    "\n",
    "im = pilimg.open('ka.png')\n",
    "pix = np.array(im)\n",
    "\n",
    "plt.imshow(pix)\n",
    "plt.show()"
   ]
  },
  {
   "cell_type": "markdown",
   "metadata": {},
   "source": [
    "< 49. 클래스 이해하기 ( class ) >\n",
    "\n",
    "    클래스 ( 자료형 ) ------------------> 객체\n",
    "    클래스는 자료형이고, 아직 객체가 되지않았다.\n",
    "           붕어빵 틀         붕어빵\n"
   ]
  },
  {
   "cell_type": "code",
   "execution_count": 9,
   "metadata": {
    "scrolled": true
   },
   "outputs": [
    {
     "name": "stdout",
     "output_type": "stream",
     "text": [
      "탕!\n",
      "탕!\n",
      "탕!\n",
      "탕!\n",
      "탕!\n",
      "탕!\n",
      "탕!\n",
      "탕!\n",
      "탕!\n",
      "탕!\n",
      "총알이 없습니다.\n",
      "0 발 남았습니다. \n"
     ]
    }
   ],
   "source": [
    "# 예: 총 클래스를 생성하고 객체화 시키시오\n",
    "\n",
    "class Gun():\n",
    "    def __init__(self):\n",
    "        self.bullet = 0\n",
    "        \n",
    "    def charge(self, num):\n",
    "        self.bullet = num\n",
    "        \n",
    "    def shoot(self, num):\n",
    "        for i in range(num):\n",
    "            if self.bullet > 0:\n",
    "                print('탕!')\n",
    "                self.bullet -= 1\n",
    "            elif self.bullet == 0:\n",
    "                print('총알이 없습니다.')\n",
    "                break;\n",
    "    \n",
    "    def print(self):\n",
    "        print('{} 발 남았습니다. '.format(self.bullet))\n",
    "        \n",
    "# step1. 총을 실체화 시킨다.\n",
    "gun = Gun()\n",
    "\n",
    "# step2. 총알 충전\n",
    "gun.charge(10)\n",
    "\n",
    "# step3. 총 쏜다.\n",
    "gun.shoot(10)\n",
    "\n",
    "gun.shoot(1)\n",
    "\n",
    "# step4. 남은 총알 갯수를 확인한다.\n",
    "gun.print()"
   ]
  },
  {
   "cell_type": "code",
   "execution_count": 15,
   "metadata": {},
   "outputs": [
    {
     "name": "stdout",
     "output_type": "stream",
     "text": [
      "바나나가 없으면 앞으로 걸어갈 수 없습니다.\n",
      "바나나가 없으면 소리를 지를 수 없습니다.\n",
      "banna 0 개 남았습니다. \n",
      "banna 10 개 남았습니다. \n",
      "앞으로 걸어갑니다.\n",
      "앞으로 걸어갑니다.\n",
      "앞으로 걸어갑니다.\n",
      "앞으로 걸어갑니다.\n",
      "앞으로 걸어갑니다.\n",
      "banna 5 개 남았습니다. \n",
      "우와 ~~~~\n",
      "우와 ~~~~\n",
      "우와 ~~~~\n",
      "우와 ~~~~\n",
      "우와 ~~~~\n",
      "banna 0 개 남았습니다. \n",
      "banna 10 개 남았습니다. \n"
     ]
    }
   ],
   "source": [
    "# 문제137. 고릴라클래스를 구현하여 고릴라 객체를 만드시오\n",
    "# 기능 1 : 소리지르는 기능: shout -> 우와 ~~~\n",
    "# 기능 2 : 걷는 기능 : walk -> 앞으로 걸어갑니다.\n",
    "# 기능 3 : 바나나를 먹는 기능 : eat\n",
    "#         -> 바나나 10개 먹었으면 소리를 10번 지를 수 있다.\n",
    "#         -> 바나나를 10개 먹었으면 앞으로 10번 갈 수 있다.\n",
    "# 바나나가 없으면 소리를 지를 수 없습니다.\n",
    "# 바나나가 없으면 앞으로 걸어갈 수 없습니다.\n",
    "\n",
    "class Go():\n",
    "    def __init__(self):\n",
    "        self.banna = 0\n",
    "        \n",
    "    def eat(self, num):\n",
    "        self.banna = num\n",
    "        \n",
    "    def walk(self, num):\n",
    "        for i in range(num):\n",
    "            if self.banna > 0:\n",
    "                print('뚜벅뚜벅')\n",
    "                self.banna -= 1\n",
    "            elif self.banna == 0:\n",
    "                print('바나나가 없으면 걸어갈 수 없습니다.')\n",
    "                break;\n",
    "                \n",
    "    def shout(self, num):\n",
    "        for i in range(num):\n",
    "            if self.banna > 0:\n",
    "                print('우아 ~~~~')\n",
    "                self.banna -= 1\n",
    "            elif self.banna == 0:\n",
    "                print('바나나가 없으면 소리를 지를 수 없습니다.')\n",
    "                break;\n",
    "    \n",
    "    def print(self):\n",
    "        print('banna {} 개 남았습니다. '.format(self.banna))\n",
    "        \n",
    "# step1.\n",
    "rila = Go()\n",
    "\n",
    "rila.walk(5)\n",
    "rila.shout(5)\n",
    "rila.print()\n",
    "\n",
    "# step2. \n",
    "rila.eat(10)\n",
    "rila.print()\n",
    "\n",
    "# step3. \n",
    "rila.walk(5)\n",
    "rila.print()\n",
    "\n",
    "rila.shout(5)\n",
    "rila.print()\n",
    "\n",
    "\n",
    "rila.eat(10)\n",
    "rila.print()"
   ]
  },
  {
   "cell_type": "code",
   "execution_count": 6,
   "metadata": {},
   "outputs": [
    {
     "name": "stdout",
     "output_type": "stream",
     "text": [
      "banna 10 개 남았습니다. \n"
     ]
    }
   ],
   "source": [
    "# 문제138. 위의 고릴라 클래스를 gorilla.py 모듈로 생성하고 test20.py에 아래의 스크립트를 작성해서 잘 수행되는지 확인하시오\n",
    "\n",
    "from my_loc import gorilla\n",
    "        \n",
    "go1 = gorilla.Go()\n",
    "go2 = gorilla.Go()\n",
    "go3 = gorilla.Go()\n",
    "\n",
    "go1.eat(10)\n",
    "go1.print()"
   ]
  },
  {
   "cell_type": "markdown",
   "metadata": {},
   "source": [
    "■ 50. 클래스 멤버와 인스턴스 멤버 이해하기\n",
    "\n",
    "※ 클래스 용어 설명\n",
    "1. 인스턴스 변수?\n",
    "    사람의 이름과 같이 각각 인스턴스마다 가지고 있는 고유한 데이터\n",
    "    \n",
    "2. 클래스 변수?\n",
    "    단체의 단체명과 같이 클래스로 만들어진 모든 인스턴스가 공유하는 데이터\n",
    "   \n",
    "예: 인스턴스 = 클래스()\n",
    "\n",
    "3. self란 무엇인가?\n",
    "    self는 클래스에서 사용하는 최초의 매개변수, 자기 자신을 가르킨다.\n",
    "    "
   ]
  },
  {
   "cell_type": "code",
   "execution_count": 7,
   "metadata": {},
   "outputs": [
    {
     "name": "stdout",
     "output_type": "stream",
     "text": [
      "eunijang 's 기존 월급:  10000\n",
      "eunijang 's 인상된 월급:  11000\n"
     ]
    }
   ],
   "source": [
    "# 예: \n",
    "# 클래스명을 코딩할 때는 앞의 철자를 대문자로 작성(약속)\n",
    "\n",
    "class Employees(object):\n",
    "    raise_amount = 1.1  # class 변수\n",
    "    \n",
    "    def __init__(self, first, last, pay):\n",
    "        self.first = first\n",
    "        self.last = last\n",
    "        self.pay = pay\n",
    "        self.email = first.lower() + '.' + last.lower() + '@gmail.com'\n",
    "        \n",
    "    def full_name(self):\n",
    "        return '{}{}'.format(self.first, self.last)\n",
    "    \n",
    "    def apply_raise(self):   # 월급인상\n",
    "        self.pay = int(self.pay * self.raise_amount)\n",
    "        \n",
    "        \n",
    "emp_1 = Employees('euni','jang',10000)\n",
    "emp_2 = Employees('duck','seo',10000)\n",
    "\n",
    "print(emp_1.full_name(),\"'s 기존 월급: \",emp_1.pay)\n",
    "emp_1.apply_raise()\n",
    "print(emp_1.full_name(), \"'s 인상된 월급: \",emp_1.pay)"
   ]
  },
  {
   "cell_type": "markdown",
   "metadata": {},
   "source": [
    "※ 1.1을 하드코딩하지 않고 클래스 변수로 raise_amount 를 사용하는 이유는 1.1이 클래스 내에 여러 함수에서 사용되고 있다면\n",
    "   나중에 연봉 인상률이 1.1에서 1.5로 변경되었을 때 클래스 변수만 하드코딩된 1.1을 1.5로 일일이 변경해줘야하는데,\n",
    "   클래스를 사용하면 클래스 변수만 수정하면 되기 때문에 클래스 변수를 사용한다."
   ]
  },
  {
   "cell_type": "markdown",
   "metadata": {},
   "source": [
    "※ 인스턴스 변수의 사용 예:\n",
    "\n",
    "emp_1 = Employees('euni','jang',10000)\n",
    "emp_2 = Employees('duck','seo',10000)\n",
    "\n",
    "duck이와는 틀리게 euni에게는 더 높은 연봉을 주고 싶다면 10%가 아니라 20%를 인상해주고 싶다면?\n",
    "\n",
    "    \" 인스턴스 변수를 사용해서 특별 인상 적용 \"\n"
   ]
  },
  {
   "cell_type": "code",
   "execution_count": 9,
   "metadata": {},
   "outputs": [
    {
     "name": "stdout",
     "output_type": "stream",
     "text": [
      "10000\n",
      "12000\n",
      "10000\n",
      "11000\n"
     ]
    }
   ],
   "source": [
    "# 예:\n",
    "emp_1 = Employees('euni','jang',10000)\n",
    "emp_2 = Employees('duck','seo',10000)\n",
    "\n",
    "emp_1.raise_amount = 1.2 # instance 변수\n",
    "print(emp_1.pay)\n",
    "\n",
    "emp_1.apply_raise()\n",
    "print(emp_1.pay)\n",
    "\n",
    "print(emp_2.pay)\n",
    "\n",
    "emp_2.apply_raise()\n",
    "print(emp_2.pay)"
   ]
  },
  {
   "cell_type": "code",
   "execution_count": 12,
   "metadata": {
    "scrolled": true
   },
   "outputs": [
    {
     "name": "stdout",
     "output_type": "stream",
     "text": [
      "banna 0 개 남았습니다. \n",
      "banna 0 개 남았습니다. \n"
     ]
    }
   ],
   "source": [
    "# 문제139. 위에서 만들었던 고릴라 클래스를 가지고 두명의 고릴라를 만드시오\n",
    "\n",
    "from my_loc import gorilla\n",
    "\n",
    "haechan_rilla = gorilla.Go()\n",
    "hyunsoo_rilla = gorilla.Go()\n",
    "\n",
    "haechan_rilla.print()\n",
    "hyunsoo_rilla.print()"
   ]
  },
  {
   "cell_type": "code",
   "execution_count": 16,
   "metadata": {},
   "outputs": [
    {
     "name": "stdout",
     "output_type": "stream",
     "text": [
      "banna 10 개 남았습니다. \n",
      "banna 10 개 남았습니다. \n",
      "banna 15 개 남았습니다. \n",
      "banna 15 개 남았습니다. \n"
     ]
    }
   ],
   "source": [
    "# 문제140. 해찬 고릴라와 현수 고릴라가 태어날 때 바나나를 배속에 넣고 태어날 수 있게 하시오\n",
    "\n",
    "class Go():\n",
    "    def __init__(self,banna=0):\n",
    "        self.banna = banna\n",
    "        \n",
    "    def eat(self, num):\n",
    "        self.banna += num\n",
    "        \n",
    "    def walk(self, num):\n",
    "        for i in range(num):\n",
    "            if self.banna > 0:\n",
    "                print('뚜벅뚜벅')\n",
    "                self.banna -= 1\n",
    "            elif self.banna == 0:\n",
    "                print('바나나가 없으면 걸어갈 수 없습니다.')\n",
    "                break;\n",
    "                \n",
    "    def shout(self, num):\n",
    "        for i in range(num):\n",
    "            if self.banna > 0:\n",
    "                print('우아 ~~~~')\n",
    "                self.banna -= 1\n",
    "            elif self.banna == 0:\n",
    "                print('바나나가 없으면 소리를 지를 수 없습니다.')\n",
    "                break;\n",
    "    \n",
    "    def print(self):\n",
    "        print('banna {} 개 남았습니다. '.format(self.banna))\n",
    "\n",
    "        \n",
    "haechan_rilla = Go(10)\n",
    "hyunsoo_rilla = Go(10)\n",
    "\n",
    "haechan_rilla.print()\n",
    "hyunsoo_rilla.print()\n",
    "\n",
    "haechan_rilla.eat(5)\n",
    "hyunsoo_rilla.eat(5)\n",
    "\n",
    "haechan_rilla.print()\n",
    "hyunsoo_rilla.print()"
   ]
  },
  {
   "cell_type": "code",
   "execution_count": 18,
   "metadata": {},
   "outputs": [
    {
     "name": "stdout",
     "output_type": "stream",
     "text": [
      "banna 10 개 남았습니다. \n",
      "banna 10 개 남았습니다. \n",
      "banna 15 개 남았습니다. \n",
      "banna 20 개 남았습니다. \n"
     ]
    }
   ],
   "source": [
    "# 문제141. 인스턴스 변수를 설정해서 현수 고릴라와는 틀리게 해찬 고릴라는 바나나를 몇개를 먹든 것은 것의 두배로 뱃속에 채워지게 하시오\n",
    "\n",
    "class Go():\n",
    "    mul = 1\n",
    "    def __init__(self,banna=0):\n",
    "        self.banna = banna\n",
    "        \n",
    "    def eat(self, num):\n",
    "        self.banna += num * self.mul\n",
    "        \n",
    "    def walk(self, num):\n",
    "        for i in range(num):\n",
    "            if self.banna > 0:\n",
    "                print('뚜벅뚜벅')\n",
    "                self.banna -= 1\n",
    "            elif self.banna == 0:\n",
    "                print('바나나가 없으면 걸어갈 수 없습니다.')\n",
    "                break;\n",
    "                \n",
    "    def shout(self, num):\n",
    "        for i in range(num):\n",
    "            if self.banna > 0:\n",
    "                print('우아 ~~~~')\n",
    "                self.banna -= 1\n",
    "            elif self.banna == 0:\n",
    "                print('바나나가 없으면 소리를 지를 수 없습니다.')\n",
    "                break;\n",
    "    \n",
    "    def print(self):\n",
    "        print('banna {} 개 남았습니다. '.format(self.banna))\n",
    "\n",
    "        \n",
    "haechan_rilla = Go(10)\n",
    "hyunsoo_rilla = Go(10)\n",
    "\n",
    "haechan_rilla.print()\n",
    "hyunsoo_rilla.print()\n",
    "\n",
    "haechan_rilla.eat(5)\n",
    "\n",
    "hyunsoo_rilla.mul = 2   # 인스턴스변수\n",
    "hyunsoo_rilla.eat(5)\n",
    "\n",
    "haechan_rilla.print()\n",
    "hyunsoo_rilla.print()\n"
   ]
  },
  {
   "cell_type": "markdown",
   "metadata": {},
   "source": [
    "※ 클래스 내의 코드에는 해찬 고릴라와 현수 고릴라를 다룰 수 있는 코드가 없다. 그래서 해찬 고릴라와 현수 고릴라를 다룰 수 있도록 self를 사용해서 해찬과 현수 객체를 담는다."
   ]
  },
  {
   "cell_type": "code",
   "execution_count": 26,
   "metadata": {
    "scrolled": true
   },
   "outputs": [
    {
     "name": "stdout",
     "output_type": "stream",
     "text": [
      "banna 0 개 남았습니다. \n",
      "banna 0 개 남았습니다. \n",
      "banna 5 개 남았습니다. \n",
      "banna 10 개 남았습니다. \n",
      "쿵쾅쿵쾅\n",
      "쿵쾅쿵쾅\n",
      "쿵쾅쿵쾅\n",
      "쿵쾅쿵쾅\n",
      "쿵쾅쿵쾅\n",
      "바나나가 없으면 쿵쾅쿵쾅 할 수 없습니다.\n",
      "banna 0 개 남았습니다. \n",
      "쿵쾅쿵쾅\n",
      "쿵쾅쿵쾅\n",
      "쿵쾅쿵쾅\n",
      "쿵쾅쿵쾅\n",
      "쿵쾅쿵쾅\n",
      "쿵쾅쿵쾅\n",
      "쿵쾅쿵쾅\n",
      "쿵쾅쿵쾅\n",
      "쿵쾅쿵쾅\n",
      "쿵쾅쿵쾅\n",
      "banna 0 개 남았습니다. \n"
     ]
    }
   ],
   "source": [
    "# 문제142. 고릴라 클래스에 기능을 하나더 추가하시오!\n",
    "# 기능: 가슴을 쿵쾅쿵쾅 --> 바나나 1개씩 소진\n",
    "\n",
    "class Go():\n",
    "    mul = 1\n",
    "    def __init__(self,banna=0):\n",
    "        self.banna = banna\n",
    "        \n",
    "    def eat(self, num):\n",
    "        self.banna += num * self.mul\n",
    "        \n",
    "    def walk(self, num):\n",
    "        return self.banbock(num, '뚜벅뚜벅')\n",
    "                \n",
    "    def shout(self, num):\n",
    "        return self.banbock(num, '우아')\n",
    "                \n",
    "    def dodo(self,num):\n",
    "        return self.banbock(num, '쿵쾅쿵쾅')\n",
    "                \n",
    "    def banbock(self,num,act):\n",
    "        for i in range(num):\n",
    "            if self.banna > 0:\n",
    "                print(act)\n",
    "                self.banna -= 1\n",
    "            elif self.banna == 0:\n",
    "                print('바나나가 없으면',act, '할 수 없습니다.')\n",
    "                break;\n",
    "    \n",
    "    def print(self):\n",
    "        print('banna {} 개 남았습니다. '.format(self.banna))\n",
    "\n",
    "        \n",
    "haechan_rilla = Go()\n",
    "hyunsoo_rilla = Go()\n",
    "\n",
    "haechan_rilla.print()\n",
    "hyunsoo_rilla.print()\n",
    "\n",
    "haechan_rilla.eat(5)\n",
    "\n",
    "hyunsoo_rilla.mul = 2   # 인스턴스변수\n",
    "hyunsoo_rilla.eat(5)\n",
    "\n",
    "haechan_rilla.print()\n",
    "hyunsoo_rilla.print()\n",
    "\n",
    "haechan_rilla.dodo(10)\n",
    "haechan_rilla.print()\n",
    "hyunsoo_rilla.dodo(10)\n",
    "hyunsoo_rilla.print()"
   ]
  },
  {
   "cell_type": "markdown",
   "metadata": {},
   "source": [
    "■ 51. 클래스 메소드 이해하기"
   ]
  },
  {
   "cell_type": "code",
   "execution_count": null,
   "metadata": {
    "collapsed": true
   },
   "outputs": [],
   "source": [
    "class MyClass:   # CamelCase    \n",
    "\n",
    "    def sayHello(self):\n",
    "\n",
    "       print('안녕하세요')\n",
    "\n",
    "\n",
    "\n",
    "    def sayBye(self, name):\n",
    "\n",
    "      print('%s! 다음에 보자!' %name)\n",
    "\n",
    "      \n",
    "\n",
    "obj = MyClass()\n",
    "\n",
    "obj.sayHello()        # ‘안녕하세요’가 출력됨\n",
    "\n",
    "obj.sayBye('철수')    # ‘철수! 다음에 보자!’가 출력됨\n",
    "\n"
   ]
  },
  {
   "cell_type": "markdown",
   "metadata": {},
   "source": [
    "※ 함수를 모아놓은 모듈과 클래스의 차이는 무엇일까?\n",
    "\n",
    "1. __init__\n",
    "2. 인스턴스 변수\n",
    "3. 모듈의 함수들을 완전히 독립적인데 클래스의 메소드는 서로 독립적이지 않고 서로 연관되게 할 수 있다.\n"
   ]
  },
  {
   "cell_type": "markdown",
   "metadata": {},
   "source": [
    "<p style=\"color:red\">※ static 메소드</p>\n",
    "   - self 를 매개변수로 받지않는 메소드\n",
    "   - 여러 인스턴스가 공유해서 사용하는 메소드\n"
   ]
  },
  {
   "cell_type": "code",
   "execution_count": 28,
   "metadata": {
    "scrolled": true
   },
   "outputs": [
    {
     "name": "stdout",
     "output_type": "stream",
     "text": [
      "탕!\n",
      "탕!\n",
      "탕!\n",
      "7 발 남았습니다. \n",
      "탕!\n",
      "탕!\n",
      "탕!\n",
      "탕!\n",
      "탕!\n",
      "탕!\n",
      "4 발 남았습니다. \n"
     ]
    }
   ],
   "source": [
    "# 예:\n",
    "class Gun():\n",
    "    def __init__(self):\n",
    "        self.bullet = 0\n",
    "        \n",
    "    def charge(self, num):\n",
    "        self.bullet = num\n",
    "        \n",
    "    def shoot(self, num):\n",
    "        for i in range(num):\n",
    "            if self.bullet > 0:\n",
    "                print('탕!')\n",
    "                self.bullet -= 1\n",
    "            elif self.bullet == 0:\n",
    "                print('총알이 없습니다.')\n",
    "                break;\n",
    "    \n",
    "    def print(self):\n",
    "        print('{} 발 남았습니다. '.format(self.bullet))\n",
    "        \n",
    "gun_1 = Gun()\n",
    "gun_2 = Gun()\n",
    "\n",
    "gun_1.charge(10)\n",
    "gun_1.shoot(3)\n",
    "gun_1.print()\n",
    "\n",
    "gun_2.charge(10)\n",
    "gun_2.shoot(6)\n",
    "gun_2.print()\n",
    "\n",
    "# 설명: gun_1과 gun_2는 별개의 총이다."
   ]
  },
  {
   "cell_type": "code",
   "execution_count": 29,
   "metadata": {
    "scrolled": true
   },
   "outputs": [
    {
     "name": "stdout",
     "output_type": "stream",
     "text": [
      "<__main__.Gun object at 0x000001651E3AB9E8>\n",
      "<__main__.Gun object at 0x000001651E3ABB38>\n"
     ]
    }
   ],
   "source": [
    "# 문제143. gun_1과 gun_2가 서로 별개의 총이 맞는지 확인하시오\n",
    "print(gun_1)\n",
    "print(gun_2)"
   ]
  },
  {
   "cell_type": "code",
   "execution_count": 30,
   "metadata": {
    "scrolled": true
   },
   "outputs": [
    {
     "name": "stdout",
     "output_type": "stream",
     "text": [
      "<class '__main__.Gun'>\n",
      "<class '__main__.Gun'>\n"
     ]
    }
   ],
   "source": [
    "# 문제144. 총은 별개의 총이지만 설계도는 같은 설계도를 사용했는지 확인하시오\n",
    "print(gun_1.__class__)\n",
    "print(gun_2.__class__)"
   ]
  },
  {
   "cell_type": "code",
   "execution_count": 42,
   "metadata": {
    "scrolled": true
   },
   "outputs": [
    {
     "name": "stdout",
     "output_type": "stream",
     "text": [
      "탕!\n",
      "탕!\n",
      "탕!\n",
      "7 발 남았습니다. \n",
      "탕!\n",
      "탕!\n",
      "탕!\n",
      "탕!\n",
      "탕!\n",
      "탕!\n",
      "1 발 남았습니다. \n"
     ]
    }
   ],
   "source": [
    "# 문제145. Gun 클래스의 charge, shoot, print 메소드를 클래스 메소드가 아니라 static 메소드로 생성하고 다시 총 2개를 만들어서 아까처럼 쏴보시오\n",
    "\n",
    "class Gun():\n",
    "    bullet = 0\n",
    "    \n",
    "    @staticmethod\n",
    "    def charge(num):\n",
    "        Gun.bullet += num\n",
    "    \n",
    "    @staticmethod\n",
    "    def shoot(num):\n",
    "        for i in range(num):\n",
    "            if Gun.bullet > 0:\n",
    "                print('탕!')\n",
    "                Gun.bullet -= 1\n",
    "            elif Gun.bullet == 0:\n",
    "                print('총알이 없습니다.')\n",
    "                break;\n",
    "                \n",
    "    @staticmethod\n",
    "    def print():\n",
    "        print('{} 발 남았습니다. '.format(Gun.bullet))\n",
    "        \n",
    "gun_1 = Gun()\n",
    "gun_2 = Gun()\n",
    "\n",
    "gun_1.charge(10)\n",
    "gun_1.shoot(3)\n",
    "gun_1.print()\n",
    "\n",
    "# gun_2.charge(10)\n",
    "gun_2.shoot(6)\n",
    "gun_2.print()"
   ]
  },
  {
   "cell_type": "markdown",
   "metadata": {},
   "source": [
    "■ 52. 클래스 생성자와 소멸자 이해하기\n",
    "\n",
    "- 객체가 만들어질때 호출되는 함수를 생성자 (_init_)라고 한다.\n",
    "- 객체가 사라질때 호출되는 함수를 소멸자 (_del_) 라고 한다.\n",
    "- 생성자는 객체를 초기화 할 때 자주 사용한다."
   ]
  },
  {
   "cell_type": "code",
   "execution_count": null,
   "metadata": {
    "collapsed": true
   },
   "outputs": [],
   "source": [
    "# 예:\n",
    "class MyClass:    \n",
    "\n",
    "    def __init__(self):\n",
    "\n",
    "       self.var = '안녕하세요!'\n",
    "\n",
    "       print('MyClass 인스턴스 객체가 생성되었습니다')\n",
    "\n",
    "\n",
    "\n",
    "obj = MyClass()   # ‘MyClass 인스턴스 객체가 생성되었습니다’가 출력됨\n",
    "\n",
    "print(obj.var)      # ‘안녕하세요’가 출력됨"
   ]
  },
  {
   "cell_type": "code",
   "execution_count": 65,
   "metadata": {
    "scrolled": true
   },
   "outputs": [
    {
     "name": "stdout",
     "output_type": "stream",
     "text": [
      "바나나 10개를 뱃속에 둔 hyen 고릴라가 생성되었습니다.\n"
     ]
    }
   ],
   "source": [
    "# 문제146. 고릴라 객체를 아래와 같이 생성하면 바로 고릴라가 생성되었습니다. 라는 메세지가 출력되게 하시오\n",
    "\n",
    "class Go():\n",
    "    mul = 1\n",
    "    def __init__(self,banna=0,name=None):\n",
    "        self.banna = banna\n",
    "        self.name = name\n",
    "        print('바나나 {}개를 뱃속에 둔'.format(self.banna),self.name,'고릴라가 생성되었습니다.')\n",
    "        \n",
    "    def eat(self, num):\n",
    "        self.banna += num * self.mul\n",
    "        \n",
    "    def walk(self, num):\n",
    "        return self.banbock(num, '뚜벅뚜벅')\n",
    "                \n",
    "    def shout(self, num):\n",
    "        return self.banbock(num, '우아')\n",
    "                \n",
    "    def dodo(self,num):\n",
    "        return self.banbock(num, '쿵쾅쿵쾅')\n",
    "                \n",
    "    def banbock(self,num,act):\n",
    "        for i in range(num):\n",
    "            if self.banna > 0:\n",
    "                print(act)\n",
    "                self.banna -= 1\n",
    "            elif self.banna == 0:\n",
    "                print('바나나가 없으면',act, '할 수 없습니다.')\n",
    "                break;\n",
    "    \n",
    "    def print(self):\n",
    "        print('banna {} 개 남았습니다. '.format(self.banna))\n",
    "        \n",
    "hyen = Go(10,'hyen')"
   ]
  },
  {
   "cell_type": "markdown",
   "metadata": {},
   "source": [
    "■ 53. 소멸자 예제:"
   ]
  },
  {
   "cell_type": "code",
   "execution_count": null,
   "metadata": {
    "collapsed": true
   },
   "outputs": [],
   "source": [
    "class MyClass:    \n",
    "\n",
    "    def __del__(self):\n",
    "\n",
    "       print('MyClass 인스턴스 객체가 메모리에서 제거됩니다')\n",
    "\n",
    "\n",
    "\n",
    "obj = MyClass()\n",
    "\n",
    "del obj         # ‘MyClass 인스턴스 객체가 메모리에서 제거됩니다’가 출력됨\n",
    "\n"
   ]
  },
  {
   "cell_type": "code",
   "execution_count": 90,
   "metadata": {},
   "outputs": [
    {
     "name": "stdout",
     "output_type": "stream",
     "text": [
      "10000원이 충전되었습니다.\n",
      "1400원이 사용되었습니다.\n",
      "8600원이 남았습니다.\n"
     ]
    }
   ],
   "source": [
    "# 문제147. Card 클래스를 생성해서 Card 발급을 하시오\n",
    "# Card 클래스 안에 있어야할 메소드\n",
    "# 1. 충전: charge --> 충전되었습니다.\n",
    "# 2. 소비: comsume --> 사용되었습니다. --> 잔액이 없습니다.\n",
    "\n",
    "class Card:\n",
    "    \n",
    "    def __init__(self):\n",
    "        self.money = 0\n",
    "    \n",
    "    def charge(self, num):\n",
    "        self.money += num\n",
    "        print('{}원이 충전되었습니다.'.format(self.money))\n",
    "    \n",
    "    def consume(self, num):\n",
    "        if self.money < num:\n",
    "            return '잔액이 없습니다.'\n",
    "        else:\n",
    "            self.money -= num\n",
    "            print('{}원이 사용되었습니다.'.format(num),'{}원이 남았습니다.'.format(self.money), sep='\\n')\n",
    "\n",
    "\n",
    "card1 = Card()\n",
    "        \n",
    "card1.charge(10000)\n",
    "\n",
    "card1.consume(1400)"
   ]
  },
  {
   "cell_type": "markdown",
   "metadata": {},
   "source": [
    "■ 54. 클래스 상속 이해하기\n",
    "\n",
    "상속이란?\n",
    "\n",
    "클래스들끼리 기능을 물려주는 것\n",
    "\n",
    "--> 상속을 받게 되면 부모의 기능을 자식에 코딩을 하지 않아도 된다.\n"
   ]
  },
  {
   "cell_type": "code",
   "execution_count": 89,
   "metadata": {
    "scrolled": false
   },
   "outputs": [
    {
     "name": "stdout",
     "output_type": "stream",
     "text": [
      "Hello~\n",
      "Hello~\n"
     ]
    }
   ],
   "source": [
    "# 예1.\n",
    "\n",
    "class Father:\n",
    "    def base_method(self):\n",
    "        print(\"Hello~\")\n",
    "\n",
    "class Child(Father):\n",
    "    pass\n",
    "\n",
    "\n",
    "f =Father()\n",
    "f.base_method()\n",
    "\n",
    "c = Child()\n",
    "c.base_method()"
   ]
  },
  {
   "cell_type": "code",
   "execution_count": 111,
   "metadata": {},
   "outputs": [
    {
     "name": "stdout",
     "output_type": "stream",
     "text": [
      "Good Morning\n",
      "hello~ I am a child\n",
      "Good Morning\n"
     ]
    }
   ],
   "source": [
    "# 예2.\n",
    "\n",
    "class Father:\n",
    "    \n",
    "    def __init__(self):\n",
    "        self.message = 'Good Morning'\n",
    "    \n",
    "    message = 'Good Morning'\n",
    "    \n",
    "    def base_method(self):\n",
    "        print(\"Hello~\")\n",
    "\n",
    "\n",
    "class Child(Father):\n",
    "    def __init__(self):\n",
    "        print(\"hello~ I am a child\")\n",
    "#         Father.__init__(self) # 2. 부모 변수(생성자) 상속받기\n",
    "        super().__init__()     # 위와 같은 기능\n",
    "    pass\n",
    "\n",
    "\n",
    "f =Father()\n",
    "print(f.message)\n",
    "\n",
    "c = Child()\n",
    "\n",
    "print(c.message)   # 1. error 발생!: 파이썬은 암묵적인걸 싫어하고 명시적인것을 좋아한다.\n",
    "                    # 3. --> 가능 \n"
   ]
  },
  {
   "cell_type": "markdown",
   "metadata": {},
   "source": [
    "※ 부모 변수 상속받기\n",
    "\n",
    "1. Father.__init__(self)\n",
    "2. super().__init__()  # better ! --> 다중 상속 문제 죽음의 다이아몬드 해결가능"
   ]
  },
  {
   "cell_type": "markdown",
   "metadata": {},
   "source": [
    "■ 55. 다중상속\n",
    "\n",
    "다중상속이란 두개 이상의 클래스를 상속받는 것을 말한다.\n",
    "이 경우에는 두 클래스의 모든 속성을 물려받게 된다.\n",
    "이는 하나의 자식 클래스가 두개 이상의 부모클래스를 가지는 것이라고 할 수 있다.\n"
   ]
  },
  {
   "cell_type": "code",
   "execution_count": 115,
   "metadata": {},
   "outputs": [
    {
     "name": "stdout",
     "output_type": "stream",
     "text": [
      "지식\n",
      "돈\n"
     ]
    }
   ],
   "source": [
    "# 예:\n",
    "\n",
    "class Father:\n",
    "    def func(self):\n",
    "        print(\"지식\")\n",
    "        \n",
    "class Mother:\n",
    "    def func(self):\n",
    "        print(\"돈\")\n",
    "        \n",
    "class Child(Father, Mother):\n",
    "    def childFunc(self):\n",
    "        Father.func(self)\n",
    "        Mother.func(self)\n",
    "        \n",
    "c_obj = Child()\n",
    "c_obj.childFunc()"
   ]
  },
  {
   "attachments": {
    "image.png": {
     "image/png": "[encoded data removed]"
    }
   },
   "cell_type": "markdown",
   "metadata": {},
   "source": [
    "※ 다중상속시 주의할 점: \"죽음의 다이아 몬드 상속\"\n",
    "    \n",
    "![image.png](attachment:image.png)"
   ]
  },
  {
   "cell_type": "code",
   "execution_count": 124,
   "metadata": {
    "scrolled": false
   },
   "outputs": [
    {
     "name": "stdout",
     "output_type": "stream",
     "text": [
      "튼튼한 두팔\n",
      "지식\n",
      "튼튼한 두팔\n",
      "돈\n",
      "자기만족도\n"
     ]
    }
   ],
   "source": [
    "# 예:\n",
    "class Grandfather:\n",
    "    def __init__(self):\n",
    "        print('튼튼한 두팔')\n",
    "        \n",
    "class Father(Grandfather):\n",
    "    def __init__(self):\n",
    "        Grandfather.__init__(self)\n",
    "        print(\"지식\")\n",
    "        \n",
    "class Mother(Grandfather):\n",
    "    def __init__(self):\n",
    "        Grandfather.__init__(self)\n",
    "        print(\"돈\")\n",
    "        \n",
    "class GrandChild(Father, Mother):\n",
    "    def __init__(self):\n",
    "        Father.__init__(self)\n",
    "        Mother.__init__(self)\n",
    "        print('자기만족도')\n",
    "        \n",
    "c_obj = GrandChild()\n"
   ]
  },
  {
   "cell_type": "code",
   "execution_count": 128,
   "metadata": {
    "scrolled": true
   },
   "outputs": [
    {
     "name": "stdout",
     "output_type": "stream",
     "text": [
      "튼튼한 두팔\n",
      "돈\n",
      "지식\n",
      "자기만족도\n"
     ]
    }
   ],
   "source": [
    "# 문제148. 다시 팔이 2개가 되게 하시오\n",
    "\n",
    "class Grandfather:\n",
    "    def __init__(self):\n",
    "        print('튼튼한 두팔')\n",
    "        \n",
    "class Father(Grandfather):\n",
    "    def __init__(self):\n",
    "        super().__init__()\n",
    "        print(\"지식\")\n",
    "        \n",
    "class Mother(Grandfather):\n",
    "    def __init__(self):\n",
    "        super().__init__()\n",
    "        print(\"돈\")\n",
    "        \n",
    "class GrandChild(Father, Mother):\n",
    "    def __init__(self):\n",
    "        super().__init__()\n",
    "        print('자기만족도')\n",
    "        \n",
    "c_obj = GrandChild()"
   ]
  },
  {
   "cell_type": "code",
   "execution_count": 145,
   "metadata": {},
   "outputs": [
    {
     "name": "stdout",
     "output_type": "stream",
     "text": [
      "영화카드가 발급되었습니다.\n",
      "50000원이 충전되었습니다.\n",
      "20000원이 사용되었습니다.\n",
      "30000원이 남았습니다.\n",
      "12000원이 사용되었습니다.\n",
      "18000원이 남았습니다.\n",
      "1200 포인트 충전\n",
      "18000원이 남았습니다.\n",
      "1200 포인트가 있습니다.\n"
     ]
    }
   ],
   "source": [
    "# 문제149. 위에서 만든 card 클래스를 상속받는 클래스를 생성하는데 영화포인트카드, 주유할인 카드 등 클래스를 생성하시오\n",
    "# 영화관람료의 10% 를 포인트로 충전해주는 메소드를 추가해서 만드시오\n",
    "\n",
    "class Card:\n",
    "    \n",
    "    def __init__(self):\n",
    "        self.money = 0\n",
    "    \n",
    "    def charge(self, num):\n",
    "        self.money += num\n",
    "        print('{}원이 충전되었습니다.'.format(self.money))\n",
    "    \n",
    "    def consume(self, category,num):\n",
    "        if self.money < num:\n",
    "            return '잔액이 없습니다.'.\n",
    "        else:\n",
    "            self.money -= num\n",
    "            print('{}원이 사용되었습니다.'.format(num),'{}원이 남았습니다.'.format(self.money), sep='\\n')\n",
    "    \n",
    "    def findre(self):\n",
    "        print('{}원이 남았습니다.'.format(self.money))\n",
    "    \n",
    "class MovieCard(Card):\n",
    "    \n",
    "    def __init__(self):\n",
    "        super().__init__()\n",
    "        print('영화카드가 발급되었습니다.')\n",
    "        self.point = 0\n",
    "        \n",
    "    def consume(self, category, num):\n",
    "        if category == '영화':\n",
    "            if self.money < num:\n",
    "                return '잔액이 없습니다.'\n",
    "            else:\n",
    "                self.money -= num\n",
    "                self.point += num//10\n",
    "\n",
    "                print('{}원이 사용되었습니다.'.format(num),'{}원이 남았습니다.'.format(self.money),\\\n",
    "                        '{} 포인트 충전'.format(self.point), sep='\\n')\n",
    "        else:\n",
    "            super().consume(category, num)\n",
    "            \n",
    "    def findPoint(self):\n",
    "        print('{} 포인트가 있습니다.'.format(self.point))\n",
    "\n",
    "movie_card = MovieCard()\n",
    "\n",
    "movie_card.charge(50000)\n",
    "movie_card.consume('주유',20000)\n",
    "movie_card.consume('영화',12000)\n",
    "\n",
    "movie_card.findre()\n",
    "movie_card.findPoint()"
   ]
  },
  {
   "cell_type": "code",
   "execution_count": 157,
   "metadata": {},
   "outputs": [
    {
     "name": "stdout",
     "output_type": "stream",
     "text": [
      "1.1377777777777782e-05\n"
     ]
    }
   ],
   "source": [
    "# 문제150. 평균, 분산, 표준편차 함수를 가지고 stats라는 클래스를 생성하시오\n",
    "\n",
    "class MyStats:\n",
    "    \n",
    "    def __init__(self):\n",
    "        pass\n",
    "\n",
    "    def mean(self,args):\n",
    "        return sum(args) / len(args)\n",
    "\n",
    "    def variance(self,args):\n",
    "        re = 0\n",
    "        m = self.mean(args)\n",
    "        n = len(args)\n",
    "        \n",
    "        for i in args:\n",
    "            re+= (i - m) ** 2\n",
    "\n",
    "        return re/(n-1)\n",
    "\n",
    "\n",
    "    def stddev(self,args):\n",
    "        import math\n",
    "        return math.sqrt(self.variance(args))\n",
    "    \n",
    "stats = MyStats()\n",
    "\n",
    "x = [0.062, 0.071, 0.067, 0.068, 0.066, 0.062, 0.068, 0.067, 0.060, 0.065]\n",
    "\n",
    "print(stats.variance(x))"
   ]
  },
  {
   "cell_type": "code",
   "execution_count": 158,
   "metadata": {
    "collapsed": true
   },
   "outputs": [],
   "source": [
    "# 문제151. median 함수를 추가하시오\n",
    "\n",
    "class MyStats:\n",
    "    \n",
    "    def __init__(self):\n",
    "        pass\n",
    "\n",
    "    def mean(self,args):\n",
    "        return sum(args) / len(args)\n",
    "\n",
    "    def variance(self,args):\n",
    "        re = 0\n",
    "        m = self.mean(args)\n",
    "        n = len(args)\n",
    "        \n",
    "        for i in args:\n",
    "            re+= (i - m) ** 2\n",
    "\n",
    "        return re/(n-1)\n",
    "\n",
    "\n",
    "    def stddev(self,args):\n",
    "        import math\n",
    "        return math.sqrt(self.variance(args))\n",
    "    \n",
    "    def median(self,args):\n",
    "        import numpy as np\n",
    "        a = np.array(args)\n",
    "        return np.median(a)"
   ]
  },
  {
   "cell_type": "code",
   "execution_count": 161,
   "metadata": {
    "collapsed": true
   },
   "outputs": [],
   "source": [
    "# 문제152. 최빈값을 구하는 함수를 만들고 MyStats 클래스에 추가하시오\n",
    "\n",
    "class MyStats:\n",
    "    \n",
    "    def __init__(self):\n",
    "        pass\n",
    "\n",
    "    def mean(self,args):\n",
    "        return sum(args) / len(args)\n",
    "\n",
    "    def variance(self,args):\n",
    "        re = 0\n",
    "        m = self.mean(args)\n",
    "        n = len(args)\n",
    "        \n",
    "        for i in args:\n",
    "            re+= (i - m) ** 2\n",
    "\n",
    "        return re/(n-1)\n",
    "\n",
    "\n",
    "    def stddev(self,args):\n",
    "        import math\n",
    "        return math.sqrt(self.variance(args))\n",
    "    \n",
    "    def median(self,args):\n",
    "        import numpy as np\n",
    "        arr = np.array(args)\n",
    "        return np.median(arr)\n",
    "    \n",
    "    def mode(self,args):\n",
    "        from collections import Counter\n",
    "        arr = np.array(args)\n",
    "        cnt = Counter(arr)\n",
    "        return cnt.most_common()"
   ]
  },
  {
   "cell_type": "code",
   "execution_count": 162,
   "metadata": {},
   "outputs": [
    {
     "name": "stdout",
     "output_type": "stream",
     "text": [
      "[(0.062, 2), (0.067000000000000004, 2), (0.068000000000000005, 2), (0.070999999999999994, 1), (0.066000000000000003, 1), (0.059999999999999998, 1), (0.065000000000000002, 1)]\n"
     ]
    }
   ],
   "source": [
    "stats = MyStats()\n",
    "\n",
    "x = [0.062, 0.071, 0.067, 0.068, 0.066, 0.062, 0.068, 0.067, 0.060, 0.065]\n",
    "\n",
    "print(stats.mode(x))"
   ]
  },
  {
   "cell_type": "code",
   "execution_count": 164,
   "metadata": {},
   "outputs": [
    {
     "name": "stdout",
     "output_type": "stream",
     "text": [
      "0.010999999999999996\n"
     ]
    }
   ],
   "source": [
    "# 문제153. 범위를 구하는 함수를 생성하고 MyStats 클래스에 추가하시오\n",
    "class MyStats:\n",
    "    \n",
    "    def __init__(self):\n",
    "        pass\n",
    "\n",
    "    def mean(self,args):\n",
    "        return sum(args) / len(args)\n",
    "\n",
    "    def variance(self,args):\n",
    "        re = 0\n",
    "        m = self.mean(args)\n",
    "        n = len(args)\n",
    "        \n",
    "        for i in args:\n",
    "            re+= (i - m) ** 2\n",
    "\n",
    "        return re/(n-1)\n",
    "\n",
    "\n",
    "    def stddev(self,args):\n",
    "        import math\n",
    "        return math.sqrt(self.variance(args))\n",
    "    \n",
    "    def median(self,args):\n",
    "        import numpy as np\n",
    "        arr = np.array(args)\n",
    "        return np.median(arr)\n",
    "    \n",
    "    def mode(self,args):\n",
    "        from collections import Counter\n",
    "        arr = np.array(args)\n",
    "        cnt = Counter(arr)\n",
    "        return cnt.most_common()\n",
    "    \n",
    "    def my_range(self, args):\n",
    "        return max(args) - min(args)\n",
    "\n",
    "stats = MyStats()\n",
    "\n",
    "x = [0.062, 0.071, 0.067, 0.068, 0.066, 0.062, 0.068, 0.067, 0.060, 0.065]\n",
    "\n",
    "print(stats.my_range(x))"
   ]
  },
  {
   "cell_type": "code",
   "execution_count": null,
   "metadata": {
    "collapsed": true
   },
   "outputs": [],
   "source": [
    "# 문제154. 사분위수 범위를 구하는 함수를 생성하고 MyStats 클래스에 추가하시오\n",
    "class MyStats:\n",
    "    \n",
    "    def __init__(self):\n",
    "        pass\n",
    "\n",
    "    def mean(self,args):\n",
    "        return sum(args) / len(args)\n",
    "\n",
    "    def variance(self,args):\n",
    "        re = 0\n",
    "        m = self.mean(args)\n",
    "        n = len(args)\n",
    "        \n",
    "        for i in args:\n",
    "            re+= (i - m) ** 2\n",
    "\n",
    "        return re/(n-1)\n",
    "\n",
    "    def stddev(self,args):\n",
    "        import math\n",
    "        return math.sqrt(self.variance(args))\n",
    "    \n",
    "    def median(self,args):\n",
    "        import numpy as np\n",
    "        return np.median(args)\n",
    "    \n",
    "    def mode(self,args):\n",
    "        from collections import Counter\n",
    "        cnt = Counter(args)\n",
    "        return cnt.most_common()\n",
    "    \n",
    "    def my_range(self, args):\n",
    "        return max(args) - min(args)\n",
    "    \n",
    "    def box_range(args):\n",
    "        import numpy as np\n",
    "        return np.percentile(args, 75) - np.percentile(args, 25)\n",
    "\n",
    "stats = MyStats()\n",
    "\n",
    "x = [0.062, 0.071, 0.067, 0.068, 0.066, 0.062, 0.068, 0.067, 0.060, 0.065]\n",
    "\n",
    "print(stats.my_range(x))"
   ]
  },
  {
   "cell_type": "code",
   "execution_count": 165,
   "metadata": {},
   "outputs": [
    {
     "name": "stdout",
     "output_type": "stream",
     "text": [
      "0.010999999999999996\n"
     ]
    }
   ],
   "source": [
    "# 문제155. 통계 클래스를 모듈로 만들어서 아래와 같이 실행되게 하시오\n",
    "\n",
    "import MyStats\n",
    "\n",
    "stats = MyStats.MyStats()\n",
    "\n",
    "x = [0.062, 0.071, 0.067, 0.068, 0.066, 0.062, 0.068, 0.067, 0.060, 0.065]\n",
    "\n",
    "print(stats.my_range(x))"
   ]
  },
  {
   "cell_type": "markdown",
   "metadata": {},
   "source": [
    "■ 56. 예외처리하기 (try ~ exept)\n",
    "    \n",
    "    \"프로그램에서 에러가 발생했을 때, 에러를 핸들링하는 기술\"\n",
    "    "
   ]
  },
  {
   "cell_type": "code",
   "execution_count": 167,
   "metadata": {
    "scrolled": true
   },
   "outputs": [
    {
     "name": "stdout",
     "output_type": "stream",
     "text": [
      "분자10\n",
      "분모0\n"
     ]
    },
    {
     "ename": "ZeroDivisionError",
     "evalue": "division by zero",
     "output_type": "error",
     "traceback": [
      "\u001b[1;31m---------------------------------------------------------------------------\u001b[0m",
      "\u001b[1;31mZeroDivisionError\u001b[0m                         Traceback (most recent call last)",
      "\u001b[1;32m<ipython-input-167-f465103a9d54>\u001b[0m in \u001b[0;36m<module>\u001b[1;34m()\u001b[0m\n\u001b[0;32m      5\u001b[0m     \u001b[1;32mreturn\u001b[0m \u001b[0mx\u001b[0m \u001b[1;33m/\u001b[0m \u001b[0my\u001b[0m\u001b[1;33m\u001b[0m\u001b[0m\n\u001b[0;32m      6\u001b[0m \u001b[1;33m\u001b[0m\u001b[0m\n\u001b[1;32m----> 7\u001b[1;33m \u001b[0mprint\u001b[0m\u001b[1;33m(\u001b[0m\u001b[0mmy_divide\u001b[0m\u001b[1;33m(\u001b[0m\u001b[1;33m)\u001b[0m\u001b[1;33m)\u001b[0m\u001b[1;33m\u001b[0m\u001b[0m\n\u001b[0m",
      "\u001b[1;32m<ipython-input-167-f465103a9d54>\u001b[0m in \u001b[0;36mmy_divide\u001b[1;34m()\u001b[0m\n\u001b[0;32m      3\u001b[0m     \u001b[0mx\u001b[0m \u001b[1;33m=\u001b[0m \u001b[0mint\u001b[0m\u001b[1;33m(\u001b[0m\u001b[0minput\u001b[0m\u001b[1;33m(\u001b[0m\u001b[1;34m'분자'\u001b[0m\u001b[1;33m)\u001b[0m\u001b[1;33m)\u001b[0m\u001b[1;33m\u001b[0m\u001b[0m\n\u001b[0;32m      4\u001b[0m     \u001b[0my\u001b[0m \u001b[1;33m=\u001b[0m \u001b[0mint\u001b[0m\u001b[1;33m(\u001b[0m\u001b[0minput\u001b[0m\u001b[1;33m(\u001b[0m\u001b[1;34m'분모'\u001b[0m\u001b[1;33m)\u001b[0m\u001b[1;33m)\u001b[0m\u001b[1;33m\u001b[0m\u001b[0m\n\u001b[1;32m----> 5\u001b[1;33m     \u001b[1;32mreturn\u001b[0m \u001b[0mx\u001b[0m \u001b[1;33m/\u001b[0m \u001b[0my\u001b[0m\u001b[1;33m\u001b[0m\u001b[0m\n\u001b[0m\u001b[0;32m      6\u001b[0m \u001b[1;33m\u001b[0m\u001b[0m\n\u001b[0;32m      7\u001b[0m \u001b[0mprint\u001b[0m\u001b[1;33m(\u001b[0m\u001b[0mmy_divide\u001b[0m\u001b[1;33m(\u001b[0m\u001b[1;33m)\u001b[0m\u001b[1;33m)\u001b[0m\u001b[1;33m\u001b[0m\u001b[0m\n",
      "\u001b[1;31mZeroDivisionError\u001b[0m: division by zero"
     ]
    }
   ],
   "source": [
    "# 예:\n",
    "def my_divide():\n",
    "    x = int(input('분자'))\n",
    "    y = int(input('분모'))\n",
    "    return x / y\n",
    "\n",
    "print(my_divide())"
   ]
  },
  {
   "cell_type": "code",
   "execution_count": 168,
   "metadata": {},
   "outputs": [
    {
     "name": "stdout",
     "output_type": "stream",
     "text": [
      "분자10\n",
      "분모0\n",
      "나누기가 불가합니다.\n"
     ]
    }
   ],
   "source": [
    "# 문제156. division by zero 에 예외처리 코드를 작성하시오\n",
    "\n",
    "def my_divide():\n",
    "    try:\n",
    "        x = int(input('분자'))\n",
    "        y = int(input('분모'))\n",
    "        return x / y\n",
    "    except:\n",
    "        return '나누기가 불가합니다.'\n",
    "\n",
    "print(my_divide())"
   ]
  },
  {
   "cell_type": "code",
   "execution_count": 173,
   "metadata": {},
   "outputs": [
    {
     "name": "stdout",
     "output_type": "stream",
     "text": [
      "사원명 입력scott\n",
      "[3000]\n"
     ]
    }
   ],
   "source": [
    "# 문제157. 이름을 물어보게 하고 이름을 입력하면 해당 사원의 월급이 출력되는 함수를 생성하시오\n",
    "\n",
    "def find_sal():\n",
    "    import pandas as pd\n",
    "    emp = pd.DataFrame.from_csv(\"emp.csv\")\n",
    "    name =input('사원명 입력')\n",
    "    sal = emp[['sal']][emp['ename'] == name.upper()].values[0]\n",
    "    return sal\n",
    "\n",
    "print(find_sal())"
   ]
  },
  {
   "cell_type": "code",
   "execution_count": 174,
   "metadata": {},
   "outputs": [
    {
     "name": "stdout",
     "output_type": "stream",
     "text": [
      "사원명 입력emp\n",
      "해당사원은 없습니다.\n"
     ]
    }
   ],
   "source": [
    "# 문제158. 위의 코드를 수정해서 없는 사원명을 입력하면 해당사원은 없습니다. 라는 메세지가 출력되게 하시오\n",
    "\n",
    "def find_sal():\n",
    "    try:\n",
    "        import pandas as pd\n",
    "        emp = pd.DataFrame.from_csv(\"emp.csv\")\n",
    "        name =input('사원명 입력')\n",
    "        sal = emp[['sal']][emp['ename'] == name.upper()].values[0]\n",
    "        return sal\n",
    "    except:\n",
    "        return '해당사원은 없습니다.'\n",
    "    \n",
    "print(find_sal())"
   ]
  },
  {
   "cell_type": "code",
   "execution_count": 175,
   "metadata": {},
   "outputs": [
    {
     "name": "stdout",
     "output_type": "stream",
     "text": [
      "사원명 입력\n",
      "사원명 입력\n",
      "사원명 입력\n",
      "사원명 입력\n",
      "사원명 입력s\n",
      "해당사원은 없습니다.\n"
     ]
    }
   ],
   "source": [
    "# 문제159. while loop 문을 이용해서 이름을 물어봤을 때 아무것도 안넣그 그냥 엔터를 치면 계속 물어보게 하시오\n",
    "\n",
    "def find_sal():\n",
    "    try:\n",
    "        import pandas as pd\n",
    "        emp = pd.DataFrame.from_csv(\"emp.csv\")\n",
    "        name = ''\n",
    "        while name == '':\n",
    "            name =input('사원명 입력')\n",
    "        sal = emp[['sal']][emp['ename'] == name.upper()].values[0]\n",
    "        return sal\n",
    "    except:\n",
    "        return '해당사원은 없습니다.'\n",
    "    \n",
    "print(find_sal())"
   ]
  },
  {
   "cell_type": "markdown",
   "metadata": {},
   "source": [
    "■ 예외처리 이해하기2 (try ~ except ~ else)\n",
    "\n",
    "예:\n",
    "    try:\n",
    "        실행할 코드 블럭\n",
    "    except:\n",
    "        예외처리 코드 블럭\n",
    "    else:\n",
    "        except 절을 만나지 않았을 경우 실행하는 코드 블럭"
   ]
  },
  {
   "cell_type": "code",
   "execution_count": 179,
   "metadata": {},
   "outputs": [
    {
     "name": "stdout",
     "output_type": "stream",
     "text": [
      "사원명 입력scott\n",
      "['ANALYST 추출에 성공했습니다.']\n"
     ]
    }
   ],
   "source": [
    "# 예: 이름을 물어보게하고 해당 사원의 직업이 출력되게 하는데 이름이 없으면 해당 사원은 없습니다. 라는 메세지가 출력되게하고 이름이 있어서 데이터 추출에 성공했다면 직업 추출에 성공했습니다. 라는 메세지가 같이 출력되게 하시오\n",
    "\n",
    "\n",
    "def find_job():\n",
    "    try:\n",
    "        import pandas as pd\n",
    "        emp = pd.DataFrame.from_csv(\"emp.csv\")\n",
    "        name = ''\n",
    "        while name == '':\n",
    "            name =input('사원명 입력')\n",
    "        job = emp[['job']][emp['ename'] == name.upper()].values[0]\n",
    "    except:\n",
    "        return '해당사원은 없습니다.'\n",
    "    else:\n",
    "        return job + ' 추출에 성공했습니다.'\n",
    "    \n",
    "print(find_job())"
   ]
  },
  {
   "cell_type": "code",
   "execution_count": 180,
   "metadata": {},
   "outputs": [
    {
     "name": "stdout",
     "output_type": "stream",
     "text": [
      "분자10\n",
      "분모20\n",
      "결과:0.5\n"
     ]
    }
   ],
   "source": [
    "# 문제160. 두수를 물어보고 나눈 값을 출력하는 함수를 예외처리를 하여 작성하시오\n",
    "\n",
    "def my_divide():\n",
    "    try:\n",
    "        x = int(input('분자'))\n",
    "        y = int(input('분모'))\n",
    "    except:\n",
    "        return '나누기가 불가합니다.'\n",
    "    else:\n",
    "        return '결과:' + str(x / y)\n",
    "\n",
    "print(my_divide())"
   ]
  },
  {
   "cell_type": "code",
   "execution_count": 184,
   "metadata": {},
   "outputs": [
    {
     "name": "stdout",
     "output_type": "stream",
     "text": [
      "숫자를 입력하세요 24,21,22,32,21,43,21\n",
      "정상적으로 출력되었습니다.\n",
      "8.360906763309941\n"
     ]
    }
   ],
   "source": [
    "# 문제161. 숫자를 여러개 물어보게 하고 여러개 입력하면 해당 숫자의 표준 편차가 출력되는 함수를 생성하시오!\n",
    "# 예외: 숫자대신 문자 입력하는 경우 출력할 수 없음\n",
    "\n",
    "def mean(args):\n",
    "    return sum(args) / len(args)\n",
    "\n",
    "def variance(args):\n",
    "    re = 0\n",
    "    m = mean(args)\n",
    "    n = len(args)\n",
    "\n",
    "    for i in args:\n",
    "        re+= (i - m) ** 2\n",
    "\n",
    "    return re/(n-1)\n",
    "\n",
    "def stddev(args):\n",
    "    import math\n",
    "    return math.sqrt(variance(args))\n",
    "\n",
    "def my_stddev():\n",
    "    try:\n",
    "        arr = [int(x) for x in input('숫자를 입력하세요 ').split(',')]\n",
    "        \n",
    "    except:\n",
    "        return '출력할 수 없습니다.'\n",
    "    else:\n",
    "        return '정상적으로 출력되었습니다.\\n'+ str(stddev(arr))\n",
    "    \n",
    "print(my_stddev())\n"
   ]
  },
  {
   "cell_type": "markdown",
   "metadata": {},
   "source": [
    "■ 57.복수개의 except절 사용하기\n",
    "    \n",
    "    에러처리 여러개를 나열할 수 있다."
   ]
  },
  {
   "cell_type": "code",
   "execution_count": 187,
   "metadata": {},
   "outputs": [
    {
     "name": "stdout",
     "output_type": "stream",
     "text": [
      "분자 숫자를 입력하세요 1\n",
      "분모 숫자를 입력하세요 a\n",
      "나눌 수 없습니다.\n"
     ]
    }
   ],
   "source": [
    "# 예:\n",
    "\n",
    "def my_divide():\n",
    "    try:\n",
    "        x = input('분자 숫자를 입력하세요 ')\n",
    "        y = input('분모 숫자를 입력하세요 ')\n",
    "        return int(x) / int(y)\n",
    "    except ZeroDivisionError:\n",
    "        return '0으로 나눌 수 없습니다.'\n",
    "    except:\n",
    "        return '나눌 수 없습니다.'\n",
    "    \n",
    "print(my_divide())"
   ]
  },
  {
   "attachments": {
    "image.png": {
     "image/png": "[encoded data removed]"
    }
   },
   "cell_type": "markdown",
   "metadata": {},
   "source": [
    "![image.png](attachment:image.png)\n",
    "\n",
    "https://python.bakyeono.net/chapter-9-4.html"
   ]
  },
  {
   "cell_type": "code",
   "execution_count": 193,
   "metadata": {},
   "outputs": [
    {
     "name": "stdout",
     "output_type": "stream",
     "text": [
      "분자 숫자를 입력하세요 \n",
      "사용자에 의해 프로그램이 중단됩니다.\n"
     ]
    }
   ],
   "source": [
    "# 문제162. 위의 코드에 KeyboardInterrupt 예외를 추가해서 키보드 ctl + c를 누르면 에러메세지가 출력되게 하시오\n",
    "\n",
    "def my_divide():\n",
    "    try:\n",
    "        x = input('분자 숫자를 입력하세요 ')\n",
    "        y = input('분모 숫자를 입력하세요 ')\n",
    "        return int(x) / int(y)\n",
    "    except ZeroDivisionError:\n",
    "        return '0으로 나눌 수 없습니다.'\n",
    "    except KeyboardInterrupt:\n",
    "        return '사용자에 의해 프로그램이 중단됩니다.'\n",
    "    except:\n",
    "        return '나눌 수 없습니다.'\n",
    "    \n",
    "print(my_divide())\n"
   ]
  },
  {
   "cell_type": "markdown",
   "metadata": {},
   "source": [
    "■  59. 예외처리 이해하기 (try ~ except ~ finally )"
   ]
  },
  {
   "cell_type": "code",
   "execution_count": 209,
   "metadata": {},
   "outputs": [
    {
     "name": "stdout",
     "output_type": "stream",
     "text": [
      "사원명 입력 scott\n",
      "이용해주셔서 감사합니다\n",
      "3000\n"
     ]
    }
   ],
   "source": [
    "# 예: 이름을 물어보게하고 이름을 입력하면 월급이 출력되는 코드\n",
    "\n",
    "def find_sal():\n",
    "    try:\n",
    "        import pandas as pd\n",
    "        emp = pd.DataFrame.from_csv(\"emp.csv\")\n",
    "        name = ''\n",
    "        while name == '':\n",
    "            name =input('사원명 입력 ')\n",
    "        sal = emp[['sal']][emp['ename'] == name.upper()].values[0]\n",
    "        return sal[0]\n",
    "    except:\n",
    "        return '해당사원은 없습니다.'\n",
    "    finally:\n",
    "        print('이용해주셔서 감사합니다')\n",
    "    \n",
    "print(find_sal())"
   ]
  },
  {
   "cell_type": "code",
   "execution_count": 203,
   "metadata": {
    "scrolled": true
   },
   "outputs": [
    {
     "name": "stdout",
     "output_type": "stream",
     "text": [
      "분자 숫자를 입력하세요 1\n",
      "분모 숫자를 입력하세요 1\n",
      "으니가 만듬\n",
      "1.0\n"
     ]
    }
   ],
   "source": [
    "# 문제163. 두 숫자 물어보게 해서 두수를 나누는 함수가 실패하던 성공하던 아래의 메세지가 출력되게 하시오\n",
    "\n",
    "def my_divide():\n",
    "    try:\n",
    "        x = input('분자 숫자를 입력하세요 ')\n",
    "        y = input('분모 숫자를 입력하세요 ')\n",
    "        return int(x) / int(y)\n",
    "    except ZeroDivisionError:\n",
    "        return '0으로 나눌 수 없습니다.'\n",
    "    except KeyboardInterrupt:\n",
    "        return '사용자에 의해 프로그램이 중단됩니다.'\n",
    "    except:\n",
    "        return '나눌 수 없습니다.'\n",
    "    finally:\n",
    "        print('으니가 만듬')\n",
    "    \n",
    "print(my_divide())"
   ]
  },
  {
   "cell_type": "markdown",
   "metadata": {},
   "source": [
    "■ 60. 예외처리 이해하기 (try ~except Exception as e)\n",
    "\n",
    "try:\n",
    "   print (param)\n",
    "except exception as e:\n",
    "   print(e) #name 'param' is not defined 가 출력됨\n",
    "name 'param' is not defined <- 위의 코드가 실패한 이유를 보여줌\n",
    "설명 : 코드상의 오류를 출력할때 사용"
   ]
  },
  {
   "cell_type": "markdown",
   "metadata": {},
   "source": [
    "■ 61. 사용자 정의 예외 처리\n",
    "    \n",
    "    파이썬 입장에서 봤을 때 오류가 아닌데 픅로그래머가 이건 오류이다 라고 raise문을 사용해서 예외처리를 하는 경우\n",
    "    "
   ]
  },
  {
   "cell_type": "code",
   "execution_count": 217,
   "metadata": {
    "scrolled": true
   },
   "outputs": [
    {
     "name": "stdout",
     "output_type": "stream",
     "text": [
      "사원명 입력 scott\n"
     ]
    },
    {
     "ename": "Exception",
     "evalue": "해당 사원은 월급을 볼 수 없습니다.",
     "output_type": "error",
     "traceback": [
      "\u001b[1;31m---------------------------------------------------------------------------\u001b[0m",
      "\u001b[1;31mException\u001b[0m                                 Traceback (most recent call last)",
      "\u001b[1;32m<ipython-input-217-c7764668a5df>\u001b[0m in \u001b[0;36m<module>\u001b[1;34m()\u001b[0m\n\u001b[0;32m     13\u001b[0m \u001b[1;33m\u001b[0m\u001b[0m\n\u001b[0;32m     14\u001b[0m \u001b[1;33m\u001b[0m\u001b[0m\n\u001b[1;32m---> 15\u001b[1;33m \u001b[0mprint\u001b[0m\u001b[1;33m(\u001b[0m\u001b[0mfind_sal\u001b[0m\u001b[1;33m(\u001b[0m\u001b[1;33m)\u001b[0m\u001b[1;33m)\u001b[0m\u001b[1;33m\u001b[0m\u001b[0m\n\u001b[0m",
      "\u001b[1;32m<ipython-input-217-c7764668a5df>\u001b[0m in \u001b[0;36mfind_sal\u001b[1;34m()\u001b[0m\n\u001b[0;32m      8\u001b[0m     \u001b[0msal\u001b[0m \u001b[1;33m=\u001b[0m \u001b[0memp\u001b[0m\u001b[1;33m[\u001b[0m\u001b[1;33m[\u001b[0m\u001b[1;34m'sal'\u001b[0m\u001b[1;33m]\u001b[0m\u001b[1;33m]\u001b[0m\u001b[1;33m[\u001b[0m\u001b[0memp\u001b[0m\u001b[1;33m[\u001b[0m\u001b[1;34m'ename'\u001b[0m\u001b[1;33m]\u001b[0m \u001b[1;33m==\u001b[0m \u001b[0mname\u001b[0m\u001b[1;33m.\u001b[0m\u001b[0mupper\u001b[0m\u001b[1;33m(\u001b[0m\u001b[1;33m)\u001b[0m\u001b[1;33m]\u001b[0m\u001b[1;33m.\u001b[0m\u001b[0mvalues\u001b[0m\u001b[1;33m[\u001b[0m\u001b[1;36m0\u001b[0m\u001b[1;33m]\u001b[0m\u001b[1;33m\u001b[0m\u001b[0m\n\u001b[0;32m      9\u001b[0m     \u001b[1;32mif\u001b[0m \u001b[0msal\u001b[0m\u001b[1;33m[\u001b[0m\u001b[1;36m0\u001b[0m\u001b[1;33m]\u001b[0m \u001b[1;33m>=\u001b[0m \u001b[1;36m3000\u001b[0m\u001b[1;33m:\u001b[0m\u001b[1;33m\u001b[0m\u001b[0m\n\u001b[1;32m---> 10\u001b[1;33m         \u001b[1;32mraise\u001b[0m \u001b[0mException\u001b[0m\u001b[1;33m(\u001b[0m\u001b[1;34m\"해당 사원은 월급을 볼 수 없습니다.\"\u001b[0m\u001b[1;33m)\u001b[0m\u001b[1;33m\u001b[0m\u001b[0m\n\u001b[0m\u001b[0;32m     11\u001b[0m     \u001b[1;32melse\u001b[0m\u001b[1;33m:\u001b[0m\u001b[1;33m\u001b[0m\u001b[0m\n\u001b[0;32m     12\u001b[0m         \u001b[1;32mreturn\u001b[0m \u001b[0msal\u001b[0m\u001b[1;33m[\u001b[0m\u001b[1;36m0\u001b[0m\u001b[1;33m]\u001b[0m\u001b[1;33m\u001b[0m\u001b[0m\n",
      "\u001b[1;31mException\u001b[0m: 해당 사원은 월급을 볼 수 없습니다."
     ]
    }
   ],
   "source": [
    "# 문제164. 이름을 물어보게하고 이름을 입력하면 해당 사원의 월급이 출력되게 하는 파이썬 코드를 작성하는데 월급이 3000이상인 사원들은 아래의 메세지가 출력되게 하시오\n",
    "\n",
    "def find_sal():\n",
    "    try:\n",
    "        import pandas as pd\n",
    "        emp = pd.DataFrame.from_csv(\"emp.csv\")\n",
    "        name = ''\n",
    "        while name == '':\n",
    "            name =input('사원명 입력 ')\n",
    "        sal = emp[['sal']][emp['ename'] == name.upper()].values[0]\n",
    "        if sal[0] >= 3000:\n",
    "            raise Exception(\"해당 사원은 월급을 볼 수 없습니다.\")\n",
    "        else:\n",
    "            return sal[0]\n",
    "    except:\n",
    "        return '해당사원은 없습니다.'\n",
    "    finally:\n",
    "        print('이용해주셔서 감사합니다')\n",
    "    \n",
    "print(find_sal())"
   ]
  }
 ],
 "metadata": {
  "kernelspec": {
   "display_name": "Python 3",
   "language": "python",
   "name": "python3"
  },
  "language_info": {
   "codemirror_mode": {
    "name": "ipython",
    "version": 3
   },
   "file_extension": ".py",
   "mimetype": "text/x-python",
   "name": "python",
   "nbconvert_exporter": "python",
   "pygments_lexer": "ipython3",
   "version": "3.6.3"
  }
 },
 "nbformat": 4,
 "nbformat_minor": 2
}
