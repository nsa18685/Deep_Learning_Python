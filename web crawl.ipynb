{
 "cells": [
  {
   "cell_type": "markdown",
   "metadata": {},
   "source": [
    "웹 스크롤링을 하기 위해서 사용할 파이썬 모듈?\n",
    "    \n",
    "    \" BeautifulSoup 모듈 \"\n",
    "    \n",
    "    \n",
    "    ※ html 이란?\n",
    "        \n",
    "        HyperText Markup Language 의 약자로 여러개의 tag를 모아놓은 문서"
   ]
  },
  {
   "cell_type": "markdown",
   "metadata": {},
   "source": [
    "간단한 html 문서\n",
    "\n",
    "in index.html\n",
    "\n",
    "<!DOCTYPE>\n",
    "<html>\n",
    "    <head>\n",
    "        <title> 으니 </title>\n",
    "\t</head>\n",
    "    <body>\n",
    "        <p class=\"title\"><b><u><i> 으니는 오늘 매우 졸립니다. </i></u></b></p>\n",
    "\t\t<p class=\"content\"> 오늘의 날씨 38도.......... 미친것같다.. 그런데 학원은 너무 추워서 담요를 덮고 있는다.. </br>\n",
    "            <a href=\"https://everyday-deeplearning.tistory.com\" class=\"cafe\" id=\"link\"> 매일매일 딥러닝</a>\n",
    "\t\t</p>\n",
    "    </body>\n",
    "</html>\n"
   ]
  },
  {
   "cell_type": "code",
   "execution_count": 10,
   "metadata": {},
   "outputs": [
    {
     "name": "stdout",
     "output_type": "stream",
     "text": [
      "<title> 으니 </title>\n"
     ]
    }
   ],
   "source": [
    "# index.html 문서의 title을 검색하시오\n",
    "from bs4 import BeautifulSoup\n",
    "\n",
    "# 'cp949' codec can't decode byte 0xec in position 48: illegal multibyte sequence -> open 시 utf-8\n",
    "with open(\"index.html\", encoding='UTF-8') as a:\n",
    "    soup = BeautifulSoup(a,'html.parser',from_encoding='UTF-8')\n",
    "    \n",
    "print(soup.title)"
   ]
  }
 ],
 "metadata": {
  "kernelspec": {
   "display_name": "Python 3",
   "language": "python",
   "name": "python3"
  },
  "language_info": {
   "codemirror_mode": {
    "name": "ipython",
    "version": 3
   },
   "file_extension": ".py",
   "mimetype": "text/x-python",
   "name": "python",
   "nbconvert_exporter": "python",
   "pygments_lexer": "ipython3",
   "version": "3.6.3"
  }
 },
 "nbformat": 4,
 "nbformat_minor": 2
}
