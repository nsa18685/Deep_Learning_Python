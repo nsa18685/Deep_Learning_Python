{
 "cells": [
  {
   "cell_type": "markdown",
   "metadata": {},
   "source": [
    "■ 머신러닝의 종류 3가지\n",
    "    \n",
    "    1. 지도학습 -> 라벨이 있는 데이터를 학습해서 분류\n",
    "    2. 비지도 학습 -> 라벨이 없는 데이터를 분류\n",
    "    3. 강화학습 -> 상과 벌을 통해서 데이터를 만들어 내며 학습하는 방법"
   ]
  },
  {
   "cell_type": "markdown",
   "metadata": {},
   "source": [
    "■ 파이썬으로 ping pong 게임 구현\n",
    "\n",
    "    \" tkinter 라는 모듈을 사용해서 구현 \"\n",
    "    \n",
    "    ※ pingpong 게임을 하려면 필요한 것?\n",
    "        \n",
    "        1. 캔버스(canvas)   ->   게임 바탕\n",
    "        \n",
    "        2. 공 (ball) 클래스\n",
    "                \n",
    "            - init 함수 : 공의 색깔 & 크기 설정, 캔버스에서의 공의 시작위치를 설정\n",
    "            \n",
    "            - 공을 움직이게 하는 함수: 공이 캔버스 밖으로 나가지 않도록 하는 코드 구현\n",
    "            \n",
    "            - 패들에 공이 부딪히면 공이 튀기게 하는 함수\n",
    "            \n",
    "        3. 패들(paddle) 클래스\n",
    "        \n",
    "            - init 함수: 패들의 색깔 & 크기 설정, 캔버스에서의 패들의 시작위치를 설정\n",
    "            \n",
    "            - 패들을 움직이게 하는 함수: 패들이 캔버스 밖으로 나가지 않도록 하는 코드 구현\n",
    "            \n",
    "            - 패들을 왼쪽으로 움직이게 하는 함수\n",
    "            \n",
    "            - 패들을 오른쪽으로 움직이게 하는 함수"
   ]
  },
  {
   "cell_type": "code",
   "execution_count": 2,
   "metadata": {
    "collapsed": true
   },
   "outputs": [],
   "source": [
    "# 1. 캔버스 생성\n",
    "\n",
    "from tkinter import * \n",
    "import random\n",
    "import time\n",
    "\n",
    "tk = Tk()      # 1. tk 를 인스턴스화 한다.\n",
    "tk.title(\"Ping Pong Game\")  # 2. tk 객체의 title 메소드(함수)로 게임창에 제목을 부여한다.\n",
    "tk.resizable(0, 0) # 3. 게임창의 크기는 가로나 세로로 변경될수 없다라고 말하는것이다. \n",
    "tk.wm_attributes(\"-topmost\", 1) #4. 다른 모든 창들 앞에 캔버스를 가진 창이 위치할것을 tkinter 에게 알려준다. \n",
    "canvas = Canvas(tk, width=500, height=400, bd=0, highlightthickness=0) \n",
    "# bd=0,highlightthickness=0 은 캔버스 외곽에 둘러싼 \n",
    "# 외곽선이 없도록 하는것이다. (게임화면이 좀더 좋게)\n",
    "\n",
    "canvas.configure(background='white')  # 캔버스 색깔 변경하는 방법 \n",
    "canvas.pack()       # 앞의 코드에서 전달된 폭과 높이는 매개변수에 따라 크기를 맞추라고 캔버스에에 말해준다.                                                                     \n",
    "tk.update()   # tkinter 에게 게임에서의 애니메이션을 위해 자신을 초기화하라고 알려주는것이다.\n",
    "tk.mainloop()  # 창이 계속적으로 켜져있을 수 있도록 한다."
   ]
  },
  {
   "cell_type": "code",
   "execution_count": 2,
   "metadata": {},
   "outputs": [],
   "source": [
    "# 2. 볼 클래스 생성\n",
    "\n",
    "from tkinter import *\n",
    "\n",
    "import random\n",
    "import time\n",
    "\n",
    "class Ball:\n",
    "\n",
    "    def __init__(self, canvas, color):\n",
    "        \n",
    "        self.canvas = canvas\n",
    "        self.id = canvas.create_oval(10, 10, 25, 25, fill=color) # 공 크기 및 색깔 (oval : object 형태 타입)\n",
    "                               #        ↑   ↑  ↑    ↑\n",
    "      #좌측상단  구석에서 시작하는  with height  우측 상단 구석에서 시작하는 x y\n",
    "        self.canvas.move(self.id, 250, 0) # 공위치 설정  x, y\n",
    "\n",
    "    def draw(self):\n",
    "\n",
    "        pass\n",
    "\n",
    "\n",
    "# 캔버스 위에 볼 위치시키기\n",
    "\n",
    "tk = Tk()\n",
    "\n",
    "tk.title(\"Ping Pong Game\")\n",
    "\n",
    "tk.resizable(0, 0)\n",
    "\n",
    "tk.wm_attributes(\"-topmost\", 1)\n",
    "\n",
    "canvas = Canvas(tk, width=500, height=400, bd=0, highlightthickness=0)\n",
    "\n",
    "canvas.configure(background='white')\n",
    "\n",
    "canvas.pack()\n",
    "\n",
    "tk.update() \n",
    "\n",
    "ball = Ball(canvas,'Pink')\n",
    "\n",
    "tk.mainloop()\n",
    "\n",
    "# while 1:\n",
    "\n",
    "#     tk.update_idletasks()   # 우리가 창을 닫으라고 할때까지 계속해서 tkinter 에게 화면을 그리고 \n",
    "\n",
    "# #     tk.update() \n",
    "\n",
    "#     time.sleep(0.01)  # 공이 움직이는 것을 보이도록 한다."
   ]
  }
 ],
 "metadata": {
  "kernelspec": {
   "display_name": "Python 3",
   "language": "python",
   "name": "python3"
  },
  "language_info": {
   "codemirror_mode": {
    "name": "ipython",
    "version": 3
   },
   "file_extension": ".py",
   "mimetype": "text/x-python",
   "name": "python",
   "nbconvert_exporter": "python",
   "pygments_lexer": "ipython3",
   "version": "3.6.3"
  }
 },
 "nbformat": 4,
 "nbformat_minor": 2
}
