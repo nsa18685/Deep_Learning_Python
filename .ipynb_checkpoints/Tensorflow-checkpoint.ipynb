{
 "cells": [
  {
   "cell_type": "markdown",
   "metadata": {},
   "source": [
    "■ Tensorflow란?\n",
    "    \n",
    "    기계학습과 딥러닝을 위해 구글에서 만든 오픈소스 라이브러리이다."
   ]
  },
  {
   "cell_type": "markdown",
   "metadata": {},
   "source": [
    "■ Tensorflow의 특징?\n",
    "    \n",
    "    1. 데이터 그래프를 통한 풍부한 표현력\n",
    "    \n",
    "    데이터 플로우 그래프 방식으로 텐서보드를 사용하여 그래프를 시각화 할 수 있다.\n",
    "    \n",
    "    2. 코드 수정없이 CPU/GPU 모드로 동작 설정가능\n",
    "    \n",
    "    한국시간으로 2016.11에 Tensorflow v0.12.0 RCO이 업데이트 되었고\n",
    "    핵심 변경 사항은 Window에서 GPU버젼의 텐서플로우를 지원한다는 것이다.\n",
    "    "
   ]
  },
  {
   "cell_type": "markdown",
   "metadata": {},
   "source": [
    "■ Tensorflow 용어 설명\n",
    "    \n",
    "    1. 오퍼레이션 (Operation)\n",
    "        \n",
    "        그래프 상의 노드는 오퍼레이션(op)로 불린다.\n",
    "        오퍼레이션은 하나 이상의 텐서를 받을 수 있다.\n",
    "        오퍼레이션은 계산을 수행하고, 결과를 하나 이상의 텐서로 반환할 수 있다.\n",
    "        \n",
    "        \n",
    "    2. 텐서 (Tensor)\n",
    "    \n",
    "        내부적으로 모든 데이터는 텐서를 통해 표현된다.\n",
    "        텐서는 일종의 다차원 배열인데, 그래프(신경망) 내의 오퍼레이션간에 텐서가 전달된다.\n",
    "        \n",
    "        \n",
    "    3. 세션 (Session)\n",
    "    \n",
    "        그래프를 실행하기 위해서는 세션 객체가 필요하다.\n",
    "        세션은 오퍼레이션의 실행환경을 캡슐화 한 것이다.\n",
    "        \n",
    "    \n",
    "    4. 변수 (Variable)\n",
    "    \n",
    "        변수는 그래프의 실행시, 파라미터를 저장하고 갱신하는데 사용된다.\n",
    "        \n",
    "        메모리 상에서 텐서를 저장하는 버퍼 역활을 한다.\n",
    "        "
   ]
  },
  {
   "cell_type": "markdown",
   "metadata": {},
   "source": [
    "■ 텐써 플로우를 사용했을때의 이점 ?  \n",
    "     ↓\n",
    " \n",
    "  다차원 배열의 흐름 \n",
    "\n",
    "     - 코드가 간결해진다.  \n",
    "                          모델을 생성하는 부분 \n",
    "                                  - 오퍼레이션\n",
    "                                  - 변수 \n",
    "                          ---------------------\n",
    "                          모델을 실행하는 부분 \n",
    "                                  - 세션\n",
    "                                  \n",
    "\n",
    "       신경망 구현에 필요한 모든 함수들이 다 내장 되어있다.\n",
    "\n",
    "     - 속도가 빠르다. \n",
    "\n",
    "     - GPU 를 사용할 수 있다. "
   ]
  },
  {
   "cell_type": "markdown",
   "metadata": {},
   "source": [
    "■ 텐서플로우 gpu 버전 설치\n",
    "\n",
    "    1. CUDA Toolkit 9.0 설치\n",
    "        텐서플로우 GPU 버전을 설치하려면 먼저 CUDA Toolkit 9.0이 필요하다.\n",
    "\n",
    "        https://developer.nvidia.com/cuda-downloads\n",
    "        \n",
    "    2. cuDNN 7.1 설치\n",
    "        CUDA Toolkit을 설치 완료 했으면, 다음으로 cuDNN 7.1 버전을 설치해주어야만 한다.\n",
    "\n",
    "        https://developer.nvidia.com/cudnn\n",
    "        \n",
    "    3. Tensorflow-gpu 설치\n",
    "        \n",
    "        pip install --upgrade tensorflow-gpu"
   ]
  },
  {
   "cell_type": "code",
   "execution_count": 2,
   "metadata": {},
   "outputs": [
    {
     "name": "stdout",
     "output_type": "stream",
     "text": [
      "[name: \"/device:CPU:0\"\n",
      "device_type: \"CPU\"\n",
      "memory_limit: 268435456\n",
      "locality {\n",
      "}\n",
      "incarnation: 2976491750671267647\n",
      ", name: \"/device:GPU:0\"\n",
      "device_type: \"GPU\"\n",
      "locality {\n",
      "  bus_id: 1\n",
      "}\n",
      "incarnation: 16715992428707470163\n",
      "physical_device_desc: \"device: 0, name: GeForce 940MX, pci bus id: 0000:01:00.0, compute capability: 5.0\"\n",
      "]\n"
     ]
    }
   ],
   "source": [
    "from tensorflow.python.client import device_lib\n",
    "print(device_lib.list_local_devices())"
   ]
  },
  {
   "cell_type": "code",
   "execution_count": 13,
   "metadata": {},
   "outputs": [
    {
     "name": "stdout",
     "output_type": "stream",
     "text": [
      "b'Hello, Tensorflow!'\n",
      "Hello, Tensorflow!\n"
     ]
    }
   ],
   "source": [
    "# 텐서플로우 기본 실습1\n",
    "import tensorflow as tf\n",
    "\n",
    "sess = tf.Session() # 그래프를 실행할 세션 구성\n",
    "hello = tf.constant('Hello, Tensorflow!')\n",
    "print(sess.run(hello))\n",
    "print(str(sess.run(hello),encoding='utf-8'))"
   ]
  },
  {
   "cell_type": "code",
   "execution_count": 14,
   "metadata": {},
   "outputs": [
    {
     "name": "stdout",
     "output_type": "stream",
     "text": [
      "40\n"
     ]
    }
   ],
   "source": [
    "# 텐서플로우 기본 실습2\n",
    "import tensorflow as tf\n",
    "\n",
    "x=tf.constant(35, name='x') #x라는 상수값을 만들고 숫자 35를 지정. \n",
    "y=tf.Variable(x+5, name='y') #y라는 변수를 만들고 방정식 x+5로 정의함.\n",
    "\n",
    "model=tf.global_variables_initializer()\n",
    "#global_variables_initializer() 로 변수를 초기화 하겠다. \n",
    "with tf.Session() as sess: #값을 계산하기 위한 세션 생성 \n",
    "    sess.run(model) #위에서 초기화한 model 을 실행하겠다. \n",
    "    print(sess.run(y)) #변수 y를 실행하면서 현재값을 출력하겠다. "
   ]
  },
  {
   "cell_type": "code",
   "execution_count": 15,
   "metadata": {},
   "outputs": [
    {
     "name": "stdout",
     "output_type": "stream",
     "text": [
      "Tensor(\"LinSpace_1:0\", shape=(10,), dtype=float32)\n"
     ]
    }
   ],
   "source": [
    "# 텐서플로우 기본 실습3: 텐써 플로우는 빌딩 구조와 실행구조(session)이 분리되어 있음\n",
    "\n",
    "import tensorflow as tf\n",
    "\n",
    "x2 = tf.linspace(-1.0, 1.0, 10) # -1 ~ 1 사이에 숫자중에 10개를 랜덤으로 출력\n",
    "\n",
    "print(x2)"
   ]
  },
  {
   "cell_type": "code",
   "execution_count": 16,
   "metadata": {},
   "outputs": [
    {
     "name": "stdout",
     "output_type": "stream",
     "text": [
      "['Const', 'LinSpace/start', 'LinSpace/stop', 'LinSpace/num', 'LinSpace', 'x', 'add/y', 'add', 'y', 'y/Assign', 'y/read', 'init', 'x_1', 'add_1/y', 'add_1', 'y_1', 'y_1/Assign', 'y_1/read', 'init_1', 'x_2', 'add_2/y', 'add_2', 'y_2', 'y_2/Assign', 'y_2/read', 'init_2', 'Const_1', 'Const_2', 'Const_3', 'Add', 'Const_4', 'Const_5', 'Const_6', 'Add_1', 'Const_7', 'Const_8', 'Const_9', 'Add_2', 'Const_10', 'x_3', 'add_3/y', 'add_3', 'y_3', 'y_3/Assign', 'y_3/read', 'init_3', 'LinSpace_1/start', 'LinSpace_1/stop', 'LinSpace_1/num', 'LinSpace_1']\n",
      "[-1.         -0.7777778  -0.5555556  -0.3333333  -0.1111111   0.11111116\n",
      "  0.33333337  0.5555556   0.7777778   1.        ]\n"
     ]
    },
    {
     "data": {
      "text/plain": [
       "<bound method BaseSession.close of <tensorflow.python.client.session.Session object at 0x000001FA3690D940>>"
      ]
     },
     "execution_count": 16,
     "metadata": {},
     "output_type": "execute_result"
    }
   ],
   "source": [
    "# 텐서플로우 기본 실습3-2 모델 실행\n",
    "\n",
    "g = tf.get_default_graph()\n",
    "print([op.name for op in g.get_operations()])\n",
    "\n",
    "sess = tf.Session()\n",
    "\n",
    "print(sess.run(x2))\n",
    "sess.close"
   ]
  },
  {
   "cell_type": "code",
   "execution_count": 17,
   "metadata": {
    "scrolled": false
   },
   "outputs": [
    {
     "name": "stdout",
     "output_type": "stream",
     "text": [
      "Tensor(\"Const_11:0\", shape=(), dtype=string)\n",
      "Tensor(\"Add_3:0\", shape=(), dtype=int32)\n",
      "b'Hello, Tensorflow!'\n",
      "42\n",
      "Hello, Tensorflow!\n",
      "42\n"
     ]
    }
   ],
   "source": [
    "# 텐서플로우 기본 실습4\n",
    "\n",
    "import tensorflow as tf\n",
    "\n",
    "hello = tf.constant('Hello, Tensorflow!')\n",
    "print(hello)\n",
    "\n",
    "a = tf.constant(10)\n",
    "b = tf.constant(32)\n",
    "c = tf.add(a,b)\n",
    "print(c)\n",
    "\n",
    "# 방법1\n",
    "sess = tf.Session()\n",
    "\n",
    "print(sess.run(hello))\n",
    "print(sess.run(c))\n",
    "sess.close\n",
    "\n",
    "# 방법2\n",
    "with tf.Session() as sess:\n",
    "    print(str(sess.run(hello),encoding='utf-8'))\n",
    "    print(sess.run(c))"
   ]
  },
  {
   "cell_type": "markdown",
   "metadata": {},
   "source": [
    "■ 텐써 플로우 실행구조 \n",
    "\n",
    "     session 은 fetch 와 feed 2가지 방법으로 처리 \n",
    "\n",
    "     feed -->  placeholder 에 값을 넣어 실행하는 방법\n",
    "\n",
    "     fetch --> 연산 결과를 fetch(가져오는) 방법 "
   ]
  },
  {
   "cell_type": "code",
   "execution_count": 3,
   "metadata": {
    "scrolled": true
   },
   "outputs": [
    {
     "name": "stdout",
     "output_type": "stream",
     "text": [
      "12.0\n",
      "40.0\n"
     ]
    }
   ],
   "source": [
    "import tensorflow as tf\n",
    "\n",
    "a = tf.placeholder(\"float\")\n",
    "b = tf.placeholder(\"float\")\n",
    "\n",
    "y = tf.multiply(a,b)\n",
    "z = tf.add(y,y)\n",
    "\n",
    "with tf.Session() as sess:\n",
    "    sess.run(tf.global_variables_initializer())\n",
    "    print(sess.run(y, feed_dict={a:3, b:4}))\n",
    "    print(sess.run(z, feed_dict={a:4, b:5}))"
   ]
  },
  {
   "cell_type": "code",
   "execution_count": null,
   "metadata": {
    "collapsed": true
   },
   "outputs": [],
   "source": [
    "# 텐서플로우로 구구단 2단을 구현하시오\n",
    "import tensorflow as tf\n",
    "\n",
    "x = tf.Variable(0, name = 'x')\n",
    "model = tf.global_variables_initializer()\n",
    "\n",
    "with tf.Session() as sess:\n",
    "    for i in range(9):\n",
    "        sess.run(model)\n",
    "        x += 2\n",
    "        print('2 x', i+1, '=',sess.run(x))\n"
   ]
  },
  {
   "cell_type": "code",
   "execution_count": null,
   "metadata": {
    "collapsed": true
   },
   "outputs": [],
   "source": [
    "# 구구단 2단부터 9단까지 출력하시오\n",
    "\n",
    "import  tensorflow  as  tf\n",
    "\n",
    "x = tf.Variable(0,name='x')\n",
    "y = tf.Variable(0,name='y')\n",
    "z = tf.multiply(x,y,name='z')\n",
    "\n",
    "model = tf.global_variables_initializer()\n",
    "\n",
    "with  tf.Session()  as  sess:\n",
    "    sess.run(model)\n",
    "    for i in range(2,10):\n",
    "        for j in range(1,10):\n",
    "\n",
    "            print(i, ' x ', j , ' = ', sess.run(z, feed_dict={x:i,y:j}) )"
   ]
  },
  {
   "cell_type": "markdown",
   "metadata": {},
   "source": [
    "■ Tensorflow 의 실행에 feed 예시\n",
    "\n",
    " Session 은 feed 일 경우는 반드시 feed_dict 으로 처리값을 할당\n",
    " 해야한다. "
   ]
  },
  {
   "cell_type": "code",
   "execution_count": null,
   "metadata": {
    "collapsed": true
   },
   "outputs": [],
   "source": [
    "import  tensorflow  as  tf\n",
    "\n",
    "a = tf.placeholder(\"float\")\n",
    "b = tf.placeholder(\"float\")\n",
    "\n",
    "y = tf.multiply(a,b)\n",
    "z = tf.add(y,y)\n",
    "\n",
    "with  tf.Session() as sess:\n",
    "    sess.run(tf.global_variables_initializer() )\n",
    "    print ( sess.run( y, feed_dict={a:3, b:3} )  )\n",
    "    print ( sess.run( z, feed_dict={a:4, b:4} )  )"
   ]
  },
  {
   "attachments": {
    "image.png": {
     "image/png": "[encoded data removed]"
    }
   },
   "cell_type": "markdown",
   "metadata": {},
   "source": [
    "■ numpy 와 tensorflow의 차이\n",
    "![image.png](attachment:image.png)"
   ]
  },
  {
   "cell_type": "code",
   "execution_count": null,
   "metadata": {
    "collapsed": true
   },
   "outputs": [],
   "source": [
    "# 아래의 numpy 문법을 tensorflow 로 변경하시오 !\n",
    "\n",
    "# 1. numpy  \n",
    "\n",
    "import  numpy  as  np\n",
    "\n",
    "a = np.array([ i for i in range(144)])\n",
    "b = a.reshape(12,12)\n",
    "\n",
    "print (b.shape) \n",
    "\n",
    "# 2. tensorflow \n",
    "\n",
    "import  tensorflow  as  tf\n",
    "import  numpy  as  np\n",
    "\n",
    "a = np.array([ i for i in range(144)])\n",
    "b = tf.reshape(a,(12,12) )\n",
    "\n",
    "with  tf.Session()  as  sess:\n",
    "    print (sess.run(b))\n",
    "    print (b.get_shape())"
   ]
  },
  {
   "cell_type": "code",
   "execution_count": 2,
   "metadata": {},
   "outputs": [
    {
     "name": "stdout",
     "output_type": "stream",
     "text": [
      "[[0 1 2]\n",
      " [3 4 5]]\n",
      "[3 5 7]\n",
      "[3 5 7]\n"
     ]
    }
   ],
   "source": [
    "import numpy as np\n",
    "import tensorflow as tf\n",
    "\n",
    "x = np.arange(6).reshape(2,3)\n",
    "print(x)\n",
    "\n",
    "print(np.sum(x, axis=0))\n",
    "\n",
    "y=tf.reduce_sum(x,reduction_indices=[0])\n",
    "\n",
    "with tf.Session() as sess:\n",
    "    print(sess.run(y))"
   ]
  },
  {
   "cell_type": "code",
   "execution_count": 3,
   "metadata": {
    "scrolled": true
   },
   "outputs": [
    {
     "name": "stdout",
     "output_type": "stream",
     "text": [
      "[[ 1.  1.  1.]\n",
      " [ 1.  1.  1.]]\n"
     ]
    }
   ],
   "source": [
    "# 숫자 0으로 채워진 2x3 행렬을 만들고 숫자 1로 채워진 2x 3 행렬을 만들어 두행렬의 합을 출력하시오\n",
    "import tensorflow as tf\n",
    "\n",
    "a = tf.zeros([2,3])\n",
    "b = tf.ones([2,3],\"float\")\n",
    "result = tf.add(a,b)\n",
    "\n",
    "with tf.Session() as sess:\n",
    "    print(sess.run(result))"
   ]
  },
  {
   "cell_type": "code",
   "execution_count": null,
   "metadata": {
    "collapsed": true
   },
   "outputs": [],
   "source": [
    "# 숫자 2로 채워진 2x3 행렬을 x 라는 변수로 만들고\n",
    "# 숫자 3으로 채워진 3x2 행렬을 y 로 만든후에 x 행렬과 y 행렬의 내적을 구하시오 ! \n",
    "\n",
    "import  tensorflow  as  tf\n",
    "\n",
    "x = tf.placeholder(\"float\",[2,3])\n",
    "y = tf.placeholder(\"float\",[3,2])\n",
    "result = tf.matmul(x,y)\n",
    "\n",
    "sess = tf.Session()\n",
    "\n",
    "print ( sess.run( x, feed_dict={ x :[[2,2,2],[2,2,2]] } ))\n",
    "print ( sess.run( y, feed_dict={ y :[[3,3],[3,3],[3,3]] } ))\n",
    "\n",
    "print ( sess.run( result , feed_dict={ x :[[2,2,2],[2,2,2]] ,\n",
    "                                       y :[[3,3],[3,3],[3,3]] } ))  "
   ]
  },
  {
   "cell_type": "code",
   "execution_count": null,
   "metadata": {
    "collapsed": true
   },
   "outputs": [],
   "source": [
    "# 문제12.(텐써플로우의 cast 함수의 이해)\n",
    "#       아래의 배열의 True 를 1로 변경하고 False 를 0 으로 변경시키시오 ~\n",
    "\n",
    "import tensorflow as tf\n",
    "\n",
    "correct_prediction = [ True, False , True  ,True  ,True  ,True  ,True,  True  ,True  ,True  ,True  ,True\n",
    "  ,True  ,True  ,True, False , True  ,True, False , True  ,True  ,True  ,True  ,True\n",
    "  ,True  ,True  ,True  ,True  ,True  ,True  ,True  ,True  ,True  ,True  ,True  ,True\n",
    "  ,True  ,True  ,True  ,True  ,True  ,True  ,True  ,True  ,True  ,True  ,True  ,True,\n",
    "  True  ,True  ,True  ,True  ,True  ,True  ,True  ,True  ,True  ,True  ,True  ,True\n",
    "  ,True  ,True  ,True  ,True  ,True  ,True ,False , True  ,True  ,True  ,True  ,True\n",
    "  ,True  ,True, False , True, False , True  ,True  ,True  ,True  ,True  ,True  ,True\n",
    "  ,True  ,True  ,True  ,True  ,True  ,True  ,True  ,True  ,True  ,True  ,True  ,True\n",
    " ,False , True  ,True  ,True]\n",
    "\n",
    "sess = tf.Session()\n",
    "a = tf.cast(correct_prediction ,\"float\")\n",
    "print ( sess.run(a) )"
   ]
  },
  {
   "cell_type": "code",
   "execution_count": null,
   "metadata": {
    "collapsed": true
   },
   "outputs": [],
   "source": [
    "# 문제13. 위의 출력된 결과에서 전체의 갯수중에 1이 몇개나 되는지\n",
    "#         즉 정확도를 출력하시오!  (전부 더해서 전체 갯수로 나눈다)\n",
    "\n",
    "import tensorflow as tf\n",
    "\n",
    "correct_prediction = [ True, False , True  ,True  ,True  ,True  ,True,  True  ,True  ,True  ,True  ,True\n",
    "  ,True  ,True  ,True, False , True  ,True, False , True  ,True  ,True  ,True  ,True\n",
    "  ,True  ,True  ,True  ,True  ,True  ,True  ,True  ,True  ,True  ,True  ,True  ,True\n",
    "  ,True  ,True  ,True  ,True  ,True  ,True  ,True  ,True  ,True  ,True  ,True  ,True,\n",
    "  True  ,True  ,True  ,True  ,True  ,True  ,True  ,True  ,True  ,True  ,True  ,True\n",
    "  ,True  ,True  ,True  ,True  ,True  ,True ,False , True  ,True  ,True  ,True  ,True\n",
    "  ,True  ,True, False , True, False , True  ,True  ,True  ,True  ,True  ,True  ,True\n",
    "  ,True  ,True  ,True  ,True  ,True  ,True  ,True  ,True  ,True  ,True  ,True  ,True\n",
    " ,False , True  ,True  ,True]\n",
    "\n",
    "sess = tf.Session()\n",
    "a = tf.cast(correct_prediction ,\"float\")\n",
    "b = tf.reduce_mean(a) \n",
    "print ( sess.run(b) )"
   ]
  },
  {
   "cell_type": "markdown",
   "metadata": {},
   "source": [
    "■ mnist 데이터로 단층 신경망 구현하기 "
   ]
  },
  {
   "cell_type": "code",
   "execution_count": null,
   "metadata": {
    "collapsed": true
   },
   "outputs": [],
   "source": [
    "# 텐써 플로우에 기본적으로 내장되어 있는 mnist 데이터를 가져오시오 !\n",
    "import  tensorflow  as  tf\n",
    "from  tensorflow.examples.tutorials.mnist  import  input_data\n",
    "mnist = input_data.read_data_sets(\"MNIST_data/\",one_hot=True)\n",
    "\n",
    "batch_xs, batch_ys = mnist.train.next_batch(100)\n",
    "\n",
    "print (batch_xs.shape)\n",
    "print (batch_ys.shape) "
   ]
  },
  {
   "cell_type": "code",
   "execution_count": null,
   "metadata": {
    "collapsed": true
   },
   "outputs": [],
   "source": [
    "# 위의 mnist 데이터중에 train 데이터의 라벨을 one hot encoding 하지 말고\n",
    "# 숫자로 100개의 라벨을 가져오시오 ~  \n",
    "\n",
    "import  tensorflow  as  tf\n",
    "from  tensorflow.examples.tutorials.mnist  import  input_data\n",
    "mnist = input_data.read_data_sets(\"MNIST_data/\",one_hot=False)\n",
    "\n",
    "batch_xs, batch_ys = mnist.train.next_batch(100)\n",
    "\n",
    "print (batch_ys)"
   ]
  },
  {
   "cell_type": "code",
   "execution_count": null,
   "metadata": {
    "collapsed": true
   },
   "outputs": [],
   "source": [
    "# test  데이터와 test 데이터의 라벨 100개를 가져오는데 shape 만 출력하시오 ! \n",
    "\n",
    "from tensorflow.examples.tutorials.mnist import input_data\n",
    "\n",
    "mnist = input_data.read_data_sets('MNIST_data/', one_hot=False)\n",
    "\n",
    "batch_xs, batch_ys = mnist.train.next_batch(100)\n",
    "batch_xt, batch_yt = mnist.test.next_batch(100)\n",
    "print(batch_xt.shape, batch_yt.shape)"
   ]
  },
  {
   "cell_type": "code",
   "execution_count": null,
   "metadata": {
    "collapsed": true
   },
   "outputs": [],
   "source": [
    "# None 의 의미: \" 앞의 행의 갯수가 몇개로 들어오던 관계 없다는 뜻이다 \"\n",
    "\n",
    "import  tensorflow  as  tf\n",
    "\n",
    "x = tf.placeholder(\"float\",[None,3])\n",
    "           \n",
    "sess = tf.Session()\n",
    "print (sess.run( x, feed_dict={ x : [[2,2,2],[2,2,2]] } ))                  \n",
    "print (sess.run( x, feed_dict={ x : [[2,2,2],[2,2,2],[2,2,2]] } ))      "
   ]
  },
  {
   "cell_type": "code",
   "execution_count": null,
   "metadata": {
    "collapsed": true
   },
   "outputs": [],
   "source": [
    "# Mnist 데이터 784(28x28) 개의 맞게 x 변수를 선언하고 \n",
    "# 배치로 입력될 데이터의 갯수는 None 으로 변수를 만들고\n",
    "# Mnist 데이터를 x 변수에 100개를 담고 출력해보시오 !\n",
    "\n",
    "import  tensorflow  as  tf \n",
    "from tensorflow.examples.tutorials.mnist import input_data\n",
    "mnist = input_data.read_data_sets('MNIST_data/', one_hot=False)\n",
    "\n",
    "x = tf.placeholder(\"float\",[None,784])\n",
    "\n",
    "batch_xs, batch_ys = mnist.train.next_batch(100)\n",
    "# 훈련 데이터셋에서 무작위로 100개를 추출 \n",
    "\n",
    "sess = tf.Session() # 텐써플로우 그래프 연산을 시작하겠금 세션 객체를 생성\n",
    "\n",
    "print ( sess.run( x, feed_dict = { x : batch_xs } ).shape ) "
   ]
  },
  {
   "cell_type": "code",
   "execution_count": null,
   "metadata": {
    "collapsed": true
   },
   "outputs": [],
   "source": [
    "# 2x3 행렬로 -1 에서 1 사이의 난수를 생성하는 변수를 W 로 생성하고 실행하시오 !\n",
    "\n",
    "import tensorflow as tf\n",
    "\n",
    "W = tf.Variable(tf.random_uniform([2,3], -1,1) , name=\"W\")\n",
    "init = tf.global_variables_initializer()\n",
    "\n",
    "sess = tf.Session()\n",
    "sess.run(init) \n",
    "print (sess.run(W)) "
   ]
  },
  {
   "cell_type": "code",
   "execution_count": null,
   "metadata": {
    "collapsed": true
   },
   "outputs": [],
   "source": [
    "# 위에서 만든 입력값(100x784) 와 가중치 (785x50) 행렬과 내적을 한 결과를 출력하시오 !\n",
    "\n",
    "import tensorflow as tf\n",
    "from tensorflow.examples.tutorials.mnist import input_data\n",
    "mnist = input_data.read_data_sets(\"MNIST_data/\",one_hot=False)\n",
    "\n",
    "x = tf.placeholder(\"float\",[None,784])\n",
    "W = tf.Variable(tf.random_uniform([784,50],-1,1), name=\"W\")\n",
    "y = tf.matmul(x,W)\n",
    "\n",
    "var = tf.global_variables_initializer()\n",
    "\n",
    "with tf.Session() as sess:\n",
    "\n",
    "    sess.run(var)\n",
    "    batch_xs, batch_ys = mnist.train.next_batch(100)\n",
    "\n",
    "    print (sess.run(y, feed_dict={x:batch_xs})"
   ]
  },
  {
   "cell_type": "code",
   "execution_count": null,
   "metadata": {
    "collapsed": true
   },
   "outputs": [],
   "source": [
    "# 1x50 으로 bias 를 생성하는데 변수를 b 로 해서 생성하고 숫자를 다 1로 채우시오 ~\n",
    "\n",
    "import  tensorflow  as  tf\n",
    "\n",
    "b = tf.Variable( tf.ones([50]) )\n",
    "\n",
    "init = tf.global_variables_initializer()\n",
    "\n",
    "sess = tf.Session()\n",
    "sess.run(init)\n",
    "\n",
    "print(sess.run(b)) "
   ]
  },
  {
   "cell_type": "code",
   "execution_count": null,
   "metadata": {
    "collapsed": true
   },
   "outputs": [],
   "source": [
    "# 두 행렬의 내적과 지금 방금 생성한 바이어스의 합의 결과인 y 값을\n",
    "# 시그모이드 함수에 입력해서 출력한 결과를 출력하시오 !\n",
    "\n",
    "import tensorflow as tf\n",
    "from tensorflow.examples.tutorials.mnist import input_data\n",
    "mnist = input_data.read_data_sets(\"MNIST_data/\",one_hot=False)\n",
    "\n",
    "x = tf.placeholder(\"float\",[None,784])\n",
    "W = tf.Variable(tf.random_uniform([784,50],-1,1), name=\"W\")\n",
    "b = tf.Variable(tf.ones([50]))\n",
    "y = tf.matmul(x,W) + b\n",
    "y_hat = tf.nn.sigmoid(y) \n",
    "\n",
    "var = tf.global_variables_initializer()\n",
    "\n",
    "with tf.Session() as sess:\n",
    "\n",
    "    sess.run(var)\n",
    "    batch_xs, batch_ys = mnist.train.next_batch(100)\n",
    "\n",
    "    print (sess.run(y_hat, feed_dict={x:batch_xs}))"
   ]
  },
  {
   "cell_type": "code",
   "execution_count": null,
   "metadata": {
    "collapsed": true
   },
   "outputs": [],
   "source": [
    "# 위의 활성화 함수를 Relu 로 변경해 보시오 !\n",
    "\n",
    "import tensorflow as tf\n",
    "from tensorflow.examples.tutorials.mnist import input_data\n",
    "mnist = input_data.read_data_sets(\"MNIST_data/\",one_hot=False)\n",
    "\n",
    "x = tf.placeholder(\"float\",[None,784])\n",
    "W = tf.Variable(tf.random_uniform([784,50],-1,1), name=\"W\")\n",
    "b = tf.Variable(tf.ones([50]))\n",
    "y = tf.matmul(x,W) + b\n",
    "y_hat = tf.nn.relu(y)\n",
    "\n",
    "var = tf.global_variables_initializer()\n",
    "\n",
    "with tf.Session() as sess:\n",
    "\n",
    "    sess.run(var)\n",
    "    batch_xs, batch_ys = mnist.train.next_batch(100)\n",
    "\n",
    "    print (sess.run(y_hat, feed_dict={x:batch_xs}))"
   ]
  },
  {
   "cell_type": "code",
   "execution_count": null,
   "metadata": {
    "collapsed": true
   },
   "outputs": [],
   "source": [
    "# 위에서 출력한 y_hat 의 결과를 softmax 함수를 통과 시킨 결과가 어떻게 되는지 출력하시오 !\n",
    "# ( 10개짜리 확률백터가 출력됨이 예상)\n",
    "\n",
    "import tensorflow as tf\n",
    "from tensorflow.examples.tutorials.mnist import input_data\n",
    "mnist = input_data.read_data_sets(\"MNIST_data/\",one_hot=False)\n",
    "\n",
    "x = tf.placeholder(\"float\",[None,784])\n",
    "W = tf.Variable(tf.random_uniform([784,10],-1,1), name=\"W\")\n",
    "b = tf.Variable(tf.ones([10]))\n",
    "y = tf.matmul(x,W) + b\n",
    "y_hat = tf.nn.softmax(y) \n",
    "\n",
    "var = tf.global_variables_initializer()\n",
    "\n",
    "with tf.Session() as sess:\n",
    "\n",
    "    sess.run(var)\n",
    "    batch_xs, batch_ys = mnist.train.next_batch(100)\n",
    "\n",
    "    print (sess.run(y_hat, feed_dict={x:batch_xs}))"
   ]
  },
  {
   "cell_type": "code",
   "execution_count": null,
   "metadata": {
    "collapsed": true
   },
   "outputs": [],
   "source": [
    "# 텐써플로우의 argmax 함수를 이용해서 \n",
    "# 위에서 출력된 100x10 확률백터들의 최대요소 인덱스 번호를 100개 출력하시오 !\n",
    "\n",
    "import tensorflow as tf\n",
    "from tensorflow.examples.tutorials.mnist import input_data\n",
    "mnist = input_data.read_data_sets(\"MNIST_data/\",one_hot=False)\n",
    "\n",
    "x = tf.placeholder(\"float\",[None,784])\n",
    "W = tf.Variable(tf.random_uniform([784,10],-1,1), name=\"W\")\n",
    "b = tf.Variable(tf.ones([10]))\n",
    "y = tf.matmul(x,W) + b\n",
    "y_hat = tf.nn.softmax(y) \n",
    "y_predict = tf.argmax(y_hat, axis =  1 )\n",
    "\n",
    "var = tf.global_variables_initializer()\n",
    "\n",
    "with tf.Session() as sess:\n",
    "\n",
    "    sess.run(var)\n",
    "    batch_xs, batch_ys = mnist.train.next_batch(100)\n",
    "\n",
    "    print (sess.run(y_predict , feed_dict={x:batch_xs}))"
   ]
  },
  {
   "cell_type": "code",
   "execution_count": null,
   "metadata": {
    "collapsed": true
   },
   "outputs": [],
   "source": [
    "# 의 코드에 라벨을 가져오는 코드를 추가해서 정확도를 출력하시오 ! \n",
    "# ( 예상 숫자 100개와 라벨 숫자 100개를 비교해서 정확도 출력) \n",
    "\n",
    "# 힌트 :  correct_prediction = tf.equal(y_predict, y_label) \n",
    "\n",
    "import tensorflow as tf\n",
    "from tensorflow.examples.tutorials.mnist import input_data\n",
    "mnist = input_data.read_data_sets(\"MNIST_data/\",one_hot=True)\n",
    "\n",
    "x = tf.placeholder(\"float\",[None,784])\n",
    "W = tf.Variable(tf.random_uniform([784,10],-1,1), name=\"W\")\n",
    "b = tf.Variable(tf.ones([10]))\n",
    "y = tf.matmul(x,W) + b\n",
    "y_hat = tf.nn.softmax( y )\n",
    "y_predict = tf.argmax(y_hat, axis = 1  )\n",
    "\n",
    "y_onehot = tf.placeholder(\"float\",[None,10])\n",
    "y_label = tf.argmax(y_onehot, axis = 1)\n",
    "\n",
    "correct_prediction = tf.equal(y_predict, y_label)\n",
    "\n",
    "accuracy = tf.reduce_mean(tf.cast(correct_prediction,\"float\"))\n",
    "\n",
    "\n",
    "init = tf.global_variables_initializer()\n",
    "\n",
    "sess = tf.Session()\n",
    "sess.run(init)\n",
    "\n",
    "batch_xs, batch_ys = mnist.train.next_batch(100)\n",
    "\n",
    "print(sess.run(y_predict, feed_dict={x:batch_xs}))\n",
    "print(sess.run(y_label, feed_dict={y_onehot:batch_ys}))\n",
    "\n",
    "print(sess.run(accuracy, feed_dict={x:batch_xs,y_onehot:batch_ys}))\n",
    "\n",
    "sess.close()"
   ]
  },
  {
   "cell_type": "markdown",
   "metadata": {},
   "source": [
    "■ 텐써 플로우로 구현하는 비용 함수 \n",
    "\n",
    " 1. 최소 제곱 오차 함수 (mean square error)\n",
    "\n",
    "   loss = tf.square(y_predict, y_label)\n",
    "\n",
    " 2. 교차 엔트로피 오차 함수 (cross entropy error)\n",
    "\n",
    "   loss = -tf.reduce_sum(y_onehot * tf.log(y_hat), axis=1)"
   ]
  },
  {
   "cell_type": "code",
   "execution_count": null,
   "metadata": {
    "collapsed": true
   },
   "outputs": [],
   "source": [
    "# 교차엔트로피 함수를 코드에 추가하고 loss 을 출력하시오 ! \n",
    "\n",
    "import tensorflow as tf\n",
    "from tensorflow.examples.tutorials.mnist import input_data\n",
    "mnist = input_data.read_data_sets(\"MNIST_data/\",one_hot=True)\n",
    "\n",
    "# 계층 생성해서 예측값 출력하는 코드 \n",
    "x = tf.placeholder(\"float\",[None,784])\n",
    "W = tf.Variable(tf.random_uniform([784,10],-1,1), name=\"W\")\n",
    "b = tf.Variable(tf.ones([10]))\n",
    "y = tf.matmul(x,W) + b\n",
    "y_hat = tf.nn.softmax( y )\n",
    "y_predict = tf.argmax(y_hat, axis = 1  )\n",
    "\n",
    "# 라벨을 원핫 인코딩해서 담을 변수를 생성 \n",
    "y_onehot = tf.placeholder(\"float\",[None,10])\n",
    "\n",
    "# 라벨을 숫자로 출력\n",
    "y_label = tf.argmax(y_onehot, axis = 1)\n",
    "\n",
    "# 손실 함수 \n",
    "loss = -tf.reduce_sum(y_onehot*tf.log(y_hat), axis=1)\n",
    "\n",
    "# 정확도를 출력하기 위한 코드 \n",
    "correct_prediction = tf.equal(y_predict, y_label)\n",
    "accuracy = tf.reduce_mean(tf.cast(correct_prediction,\"float\"))\n",
    "\n",
    "init = tf.global_variables_initializer()\n",
    "\n",
    "sess = tf.Session()\n",
    "sess.run(init)\n",
    "\n",
    "batch_xs, batch_ys = mnist.train.next_batch(100)\n",
    "\n",
    "print(sess.run(y_predict, feed_dict={x:batch_xs}))\n",
    "print(sess.run(y_label, feed_dict={y_onehot:batch_ys}))\n",
    "\n",
    "print(sess.run(accuracy, feed_dict={x:batch_xs,y_onehot:batch_ys}))\n",
    "print(sess.run(loss))\n",
    "sess.close()"
   ]
  },
  {
   "cell_type": "markdown",
   "metadata": {},
   "source": [
    "■ 경사하강법을 텐써 플로우로 구현하는 방법 \n",
    "\n",
    "optimizer = tf.train.GradientDescentOptimizer(learning_rate=0.01)\n",
    " \n",
    "**SGD :** \n",
    " 미니배치만큼 랜덤으로 데이터를 추출해서 확률적으로 경사를 감소하여\n",
    " global minima 로 찾아가는 방법 \n",
    "\n",
    "단점 :  Local minima 에 잘 빠진다. \n",
    "\n",
    "**optimizer = tf.train.AdagradOptimizer(learning_rate=0.01)**\n",
    "\n",
    "러닝 레이트가 학습되면서 자동 조절되는 경사감소법 \n",
    "\n",
    "**optimizer = tf.train.MomentumOptimizer(learning_rate=0.01)**\n",
    "\n",
    "관성을 이용해서 local minima 에 안빠지게 하는 경사감소법 \n",
    "\n",
    "**optimizer = tf.train.AdamOptimizer(learning_rate=0.01)**\n",
    "\n",
    "Adagrade 의 장점 + Momentum 의 장점 "
   ]
  },
  {
   "cell_type": "code",
   "execution_count": null,
   "metadata": {
    "collapsed": true
   },
   "outputs": [],
   "source": [
    "# SGD 경사감소법 코드를 적용해서 학습이 되게 구현하시오 !\n",
    "\n",
    "import tensorflow as tf\n",
    "from tensorflow.examples.tutorials.mnist import input_data\n",
    "mnist = input_data.read_data_sets(\"MNIST_data/\",one_hot=True)\n",
    "\n",
    "# 계층 생성해서 예측값 출력하는 코드 \n",
    "x = tf.placeholder(\"float\",[None,784])\n",
    "W = tf.Variable(tf.random_uniform([784,10],-1,1), name=\"W\")\n",
    "b = tf.Variable(tf.ones([10]))\n",
    "y = tf.matmul(x,W) + b\n",
    "y_hat = tf.nn.softmax( y )\n",
    "y_predict = tf.argmax(y_hat, axis = 1  )\n",
    "\n",
    "# 라벨을 원핫 인코딩해서 담을 변수를 생성 \n",
    "y_onehot = tf.placeholder(\"float\",[None,10])\n",
    "\n",
    "# 라벨을 숫자로 출력\n",
    "y_label = tf.argmax(y_onehot, axis = 1)\n",
    "\n",
    "# 손실 함수 \n",
    "loss = -tf.reduce_sum(y_onehot*tf.log(y_hat), axis=1)\n",
    "\n",
    "# SGD 경사 감소법 구현 \n",
    "optimizer = tf.train.GradientDescentOptimizer(learning_rate=0.01)\n",
    "\n",
    "# 학습 오퍼레이션 정의\n",
    "train = optimizer.minimize(loss)\n",
    "\n",
    "# 정확도를 출력하기 위한 코드 \n",
    "correct_prediction = tf.equal(y_predict, y_label)\n",
    "accuracy = tf.reduce_mean(tf.cast(correct_prediction,\"float\"))\n",
    "\n",
    "init = tf.global_variables_initializer()\n",
    "\n",
    "sess = tf.Session()\n",
    "sess.run(init)\n",
    "\n",
    "batch_xs, batch_ys = mnist.train.next_batch(100)\n",
    "\n",
    "sess.run( train, feed_dict={x: batch_xs, y_onehot: batch_ys} ) \n",
    "print (sess.run(accuracy, feed_dict={x:batch_xs,y_onehot:batch_ys}))"
   ]
  },
  {
   "cell_type": "code",
   "execution_count": null,
   "metadata": {
    "collapsed": true
   },
   "outputs": [],
   "source": [
    "# 위의 코드중 아래의 3개의 코드를 for loop 문을 이용해서 반복수행해서 1 에폭 돌게 구성하시오 ! \n",
    "\n",
    "import tensorflow as tf\n",
    "from tensorflow.examples.tutorials.mnist import input_data\n",
    "mnist = input_data.read_data_sets(\"MNIST_data/\",one_hot=True)\n",
    "\n",
    "# 계층 생성해서 예측값 출력하는 코드 \n",
    "x = tf.placeholder(\"float\",[None,784])\n",
    "W = tf.Variable(tf.random_uniform([784,10],-1,1), name=\"W\")\n",
    "b = tf.Variable(tf.ones([10]))\n",
    "y = tf.matmul(x,W) + b\n",
    "y_hat = tf.nn.softmax( y )\n",
    "y_predict = tf.argmax(y_hat, axis = 1  )\n",
    "\n",
    "# 라벨을 원핫 인코딩해서 담을 변수를 생성 \n",
    "y_onehot = tf.placeholder(\"float\",[None,10])\n",
    "\n",
    "# 라벨을 숫자로 출력\n",
    "y_label = tf.argmax(y_onehot, axis = 1)\n",
    "\n",
    "# 손실 함수 \n",
    "loss = -tf.reduce_sum(y_onehot*tf.log(y_hat), axis=1)\n",
    "\n",
    "#SGD 경사 감소법 구현 \n",
    "optimizer = tf.train.GradientDescentOptimizer(learning_rate=0.01)\n",
    "\n",
    "#학습 오퍼레이션 정의 \n",
    "train = optimizer.minimize(loss)\n",
    "\n",
    "# 정확도를 출력하기 위한 코드 \n",
    "correct_prediction = tf.equal(y_predict, y_label)\n",
    "accuracy = tf.reduce_mean(tf.cast(correct_prediction,\"float\"))\n",
    "\n",
    "init = tf.global_variables_initializer()\n",
    "\n",
    "sess = tf.Session()\n",
    "sess.run(init)\n",
    "\n",
    "\n",
    "# print (sess.run(y_predict, feed_dict={x:batch_xs}))\n",
    "# print (sess.run(y_label, feed_dict={y_onehot:batch_ys}))\n",
    "\n",
    "for i in range(1,601):\n",
    "    batch_xs, batch_ys = mnist.train.next_batch(100)\n",
    "    sess.run(train,feed_dict={x: batch_xs,y_onehot:batch_ys})\n",
    "    sess.run(accuracy, feed_dict={x:batch_xs,y_onehot:batch_ys})\n",
    "\n",
    "print(sess.run(accuracy, feed_dict={x:batch_xs,y_onehot:batch_ys}))"
   ]
  },
  {
   "cell_type": "markdown",
   "metadata": {},
   "source": [
    "■ 텐써플로우 가중치 초기화하는 방법 \n",
    "\n",
    " W = tf.Variable(tf.random_uniform([784,10], -1, 1)) # [784,10] 형상을 가진 -1~1 사이의 균등분포 어레이\n",
    " \n",
    " W = tf.get_variable(name=\"W\", shape=[784, 10], initializer=tf.contrib.layers.xavier_initializer()) # xavier 초기값\n",
    " \n",
    " W = tf.get_variable(name='W', shape=[784, 10], initializer=tf.contrib.layers.variance_scaling_initializer()) # he 초기값"
   ]
  },
  {
   "cell_type": "markdown",
   "metadata": {},
   "source": [
    "※ 가중치 초기화 시 주의사항\n",
    "\n",
    "tf.reset_default_graph()를 넣어 그래프를 갱신해주어야 한다."
   ]
  },
  {
   "cell_type": "code",
   "execution_count": 8,
   "metadata": {},
   "outputs": [
    {
     "name": "stdout",
     "output_type": "stream",
     "text": [
      "Extracting MNIST_data/train-images-idx3-ubyte.gz\n",
      "Extracting MNIST_data/train-labels-idx1-ubyte.gz\n",
      "Extracting MNIST_data/t10k-images-idx3-ubyte.gz\n",
      "Extracting MNIST_data/t10k-labels-idx1-ubyte.gz\n",
      "1.0 ecpo acc: 0.08\n",
      "2.0 ecpo acc: 0.87\n",
      "3.0 ecpo acc: 0.94\n",
      "4.0 ecpo acc: 0.91\n",
      "5.0 ecpo acc: 0.92\n",
      "6.0 ecpo acc: 0.94\n",
      "7.0 ecpo acc: 0.95\n",
      "8.0 ecpo acc: 0.93\n",
      "9.0 ecpo acc: 0.96\n",
      "10.0 ecpo acc: 0.94\n",
      "11.0 ecpo acc: 0.96\n",
      "12.0 ecpo acc: 0.94\n",
      "13.0 ecpo acc: 0.94\n",
      "14.0 ecpo acc: 0.94\n",
      "15.0 ecpo acc: 0.95\n",
      "16.0 ecpo acc: 0.92\n",
      "17.0 ecpo acc: 0.92\n"
     ]
    }
   ],
   "source": [
    "# 러닝 레이트를 0.05 로 하고 경사 감소법을 Adam 으로 변경하고 he초기화를 사용해서 학습 시키고 정확도를 확인하시오!\n",
    "import tensorflow as tf\n",
    "from tensorflow.examples.tutorials.mnist import input_data\n",
    "\n",
    "tf.reset_default_graph()\n",
    "\n",
    "mnist = input_data.read_data_sets('MNIST_data/', one_hot = True)\n",
    "\n",
    "# 계층 생성\n",
    "x = tf.placeholder(\"float\",[None,784])\n",
    "W = tf.get_variable(name='W', shape=[784, 10], initializer=tf.contrib.layers.variance_scaling_initializer()) # he 초기값\n",
    "b = tf.Variable(tf.ones([10]))\n",
    "y = tf.matmul(x,W) + b\n",
    "y_hat = tf.nn.softmax(y)\n",
    "y_predict = tf.argmax(y_hat, axis = 1)\n",
    "\n",
    "# 라벨을 저장하기 위한 변수 생성\n",
    "y_onehot = tf.placeholder(\"float\",[None,10])\n",
    "y_label = tf.argmax(y_onehot, axis = 1)\n",
    "\n",
    "# 정확도를 출력하기 위한 변수 생성\n",
    "correct_prediction = tf.equal(y_predict, y_label)\n",
    "acc = tf.reduce_mean(tf.cast(correct_prediction,\"float\"))\n",
    "\n",
    "# 교차 엔트로피 오차 함수\n",
    "loss = -tf.reduce_sum(y_onehot * tf.log(y_hat), axis = 1)\n",
    "\n",
    "# SGD 경사 감소법\n",
    "# optimizer = tf.train.GradientDescentOptimizer(learning_rate=0.01)\n",
    "\n",
    "# Adam 경사 감소법\n",
    "optimizer = tf.train.AdamOptimizer(learning_rate=0.001)\n",
    "\n",
    "# 학습 오퍼레이션 정의\n",
    "Train = optimizer.minimize(loss)\n",
    "\n",
    "# 변수 초기화\n",
    "init = tf.global_variables_initializer()\n",
    "\n",
    "with tf.Session() as sess:\n",
    "\n",
    "    sess.run(init)\n",
    "\n",
    "    for i in range(10000):\n",
    "\n",
    "        batch_xs, batch_ys = mnist.train.next_batch(100)\n",
    "\n",
    "        sess.run(Train, feed_dict={x : batch_xs, y_onehot : batch_ys})\n",
    "\n",
    "        if i % 600 == 0:\n",
    "            \n",
    "            print(i / 600 + 1,'ecpo acc:', sess.run(acc, feed_dict={x:batch_xs, y_onehot: batch_ys}))\n"
   ]
  },
  {
   "cell_type": "code",
   "execution_count": 13,
   "metadata": {},
   "outputs": [
    {
     "name": "stdout",
     "output_type": "stream",
     "text": [
      "Extracting MNIST_data/train-images-idx3-ubyte.gz\n",
      "Extracting MNIST_data/train-labels-idx1-ubyte.gz\n",
      "Extracting MNIST_data/t10k-images-idx3-ubyte.gz\n",
      "Extracting MNIST_data/t10k-labels-idx1-ubyte.gz\n",
      "1.0 ecpo acc: 0.09\n",
      "2.0 ecpo acc: 0.93\n",
      "3.0 ecpo acc: 0.92\n",
      "4.0 ecpo acc: 0.96\n",
      "5.0 ecpo acc: 0.96\n",
      "6.0 ecpo acc: 0.99\n",
      "7.0 ecpo acc: 0.99\n",
      "8.0 ecpo acc: 0.99\n",
      "9.0 ecpo acc: 0.97\n",
      "10.0 ecpo acc: 0.97\n",
      "11.0 ecpo acc: 0.99\n",
      "12.0 ecpo acc: 0.98\n",
      "13.0 ecpo acc: 0.99\n",
      "14.0 ecpo acc: 1.0\n",
      "15.0 ecpo acc: 1.0\n",
      "16.0 ecpo acc: 0.96\n",
      "17.0 ecpo acc: 0.99\n"
     ]
    }
   ],
   "source": [
    "# 위의 코드를 다층으로 변경하시오\n",
    "import tensorflow as tf\n",
    "from tensorflow.examples.tutorials.mnist import input_data\n",
    "\n",
    "tf.reset_default_graph()\n",
    "\n",
    "mnist = input_data.read_data_sets('MNIST_data/', one_hot = True)\n",
    "\n",
    "# 계층 생성\n",
    "x = tf.placeholder(\"float\",[None,784])\n",
    "# 은닉1층\n",
    "W = tf.get_variable(name='W', shape=[784, 50], initializer=tf.contrib.layers.variance_scaling_initializer()) # he 초기값\n",
    "b = tf.Variable(tf.ones([50]))\n",
    "y = tf.matmul(x,W) + b\n",
    "y_hat = tf.nn.relu(y)\n",
    "\n",
    "# 2층\n",
    "W2 = tf.get_variable(name='W2', shape=[50,10], initializer=tf.contrib.layers.variance_scaling_initializer()) # he 초기값\n",
    "b2 = tf.Variable(tf.ones([10]))\n",
    "z = tf.matmul(y_hat,W2) + b2\n",
    "z_hat = tf.nn.softmax(z)\n",
    "z_predict = tf.argmax(z_hat, axis = 1)\n",
    "\n",
    "# 라벨을 저장하기 위한 변수 생성\n",
    "y_onehot = tf.placeholder(\"float\",[None,10])\n",
    "y_label = tf.argmax(y_onehot, axis = 1)\n",
    "\n",
    "# 정확도를 출력하기 위한 변수 생성\n",
    "correct_prediction = tf.equal(z_predict, y_label)\n",
    "acc = tf.reduce_mean(tf.cast(correct_prediction,\"float\"))\n",
    "\n",
    "# 교차 엔트로피 오차 함수\n",
    "loss = -tf.reduce_sum(y_onehot * tf.log(z_hat), axis = 1)\n",
    "\n",
    "# SGD 경사 감소법\n",
    "# optimizer = tf.train.GradientDescentOptimizer(learning_rate=0.01)\n",
    "\n",
    "# Adam 경사 감소법\n",
    "optimizer = tf.train.AdamOptimizer(learning_rate=0.001)\n",
    "\n",
    "# 학습 오퍼레이션 정의\n",
    "Train = optimizer.minimize(loss)\n",
    "\n",
    "# 변수 초기화\n",
    "init = tf.global_variables_initializer()\n",
    "\n",
    "with tf.Session() as sess:\n",
    "\n",
    "    sess.run(init)\n",
    "\n",
    "    for i in range(10000):\n",
    "\n",
    "        batch_xs, batch_ys = mnist.train.next_batch(100)\n",
    "\n",
    "        sess.run(Train, feed_dict={x : batch_xs, y_onehot : batch_ys})\n",
    "\n",
    "        if i % 600 == 0:\n",
    "            \n",
    "            print(i / 600 + 1,'ecpo acc:', sess.run(acc, feed_dict={x:batch_xs, y_onehot: batch_ys}))\n"
   ]
  },
  {
   "cell_type": "markdown",
   "metadata": {},
   "source": [
    "■ 텐서플로우로 배치정규화 구현하기\n",
    "\n",
    "배치정규화? 신경망 학습시 가중치의 값의 데이터가 골고루 분산될 수 있도록 하는 것을 강제하는 장치\n",
    "\n",
    "구현코드\n",
    "\n",
    "batch_z1 = tf.contrib.layers.batch_norm(z1,True)"
   ]
  },
  {
   "cell_type": "code",
   "execution_count": 16,
   "metadata": {
    "scrolled": false
   },
   "outputs": [
    {
     "name": "stdout",
     "output_type": "stream",
     "text": [
      "Extracting MNIST_data/train-images-idx3-ubyte.gz\n",
      "Extracting MNIST_data/train-labels-idx1-ubyte.gz\n",
      "Extracting MNIST_data/t10k-images-idx3-ubyte.gz\n",
      "Extracting MNIST_data/t10k-labels-idx1-ubyte.gz\n",
      "1.0 ecpo acc: 0.13\n",
      "2.0 ecpo acc: 0.84\n",
      "3.0 ecpo acc: 0.9\n",
      "4.0 ecpo acc: 0.88\n",
      "5.0 ecpo acc: 0.91\n",
      "6.0 ecpo acc: 0.92\n",
      "7.0 ecpo acc: 0.98\n",
      "8.0 ecpo acc: 0.9\n",
      "9.0 ecpo acc: 0.94\n",
      "10.0 ecpo acc: 0.95\n",
      "11.0 ecpo acc: 0.92\n",
      "12.0 ecpo acc: 0.95\n",
      "13.0 ecpo acc: 0.95\n",
      "14.0 ecpo acc: 0.97\n",
      "15.0 ecpo acc: 0.94\n",
      "16.0 ecpo acc: 0.96\n",
      "17.0 ecpo acc: 0.96\n"
     ]
    }
   ],
   "source": [
    "# 텐서플로우로 배치정규화 구현하기\n",
    "import tensorflow as tf\n",
    "from tensorflow.examples.tutorials.mnist import input_data\n",
    "\n",
    "tf.reset_default_graph()\n",
    "\n",
    "mnist = input_data.read_data_sets('MNIST_data/', one_hot = True)\n",
    "\n",
    "# 계층 생성\n",
    "# 입력층(0층)\n",
    "x = tf.placeholder(\"float\",[None,784])\n",
    "\n",
    "# 은닉1층\n",
    "W = tf.get_variable(name='W', shape=[784, 50], initializer=tf.contrib.layers.variance_scaling_initializer()) # he 초기값\n",
    "b = tf.Variable(tf.ones([50]))\n",
    "y = tf.matmul(x,W) + b\n",
    "batch_y = tf.contrib.layers.batch_norm(y,True)\n",
    "y_hat = tf.nn.relu(batch_y)\n",
    "\n",
    "# 출력 (2층)\n",
    "W2 = tf.get_variable(name='W2', shape=[50,10], initializer=tf.contrib.layers.variance_scaling_initializer()) # he 초기값\n",
    "b2 = tf.Variable(tf.ones([10]))\n",
    "z = tf.matmul(y_hat,W2) + b2\n",
    "batch_z = tf.contrib.layers.batch_norm(z,True)\n",
    "z_hat = tf.nn.softmax(batch_z)\n",
    "z_predict = tf.argmax(z_hat, axis = 1)\n",
    "\n",
    "# 라벨을 저장하기 위한 변수 생성\n",
    "y_onehot = tf.placeholder(\"float\",[None,10])\n",
    "y_label = tf.argmax(y_onehot, axis = 1)\n",
    "\n",
    "# 정확도를 출력하기 위한 변수 생성\n",
    "correct_prediction = tf.equal(z_predict, y_label)\n",
    "acc = tf.reduce_mean(tf.cast(correct_prediction,\"float\"))\n",
    "\n",
    "# 교차 엔트로피 오차 함수\n",
    "loss = -tf.reduce_sum(y_onehot * tf.log(z_hat), axis = 1)\n",
    "\n",
    "# SGD 경사 감소법\n",
    "# optimizer = tf.train.GradientDescentOptimizer(learning_rate=0.01)\n",
    "\n",
    "# Adam 경사 감소법\n",
    "optimizer = tf.train.AdamOptimizer(learning_rate=0.0001)\n",
    "\n",
    "# 학습 오퍼레이션 정의\n",
    "Train = optimizer.minimize(loss)\n",
    "\n",
    "# 변수 초기화\n",
    "init = tf.global_variables_initializer()\n",
    "\n",
    "with tf.Session() as sess:\n",
    "\n",
    "    sess.run(init)\n",
    "\n",
    "    for i in range(10000):\n",
    "\n",
    "        batch_xs, batch_ys = mnist.train.next_batch(100)\n",
    "\n",
    "        sess.run(Train, feed_dict={x : batch_xs, y_onehot : batch_ys})\n",
    "\n",
    "        if i % 600 == 0:\n",
    "            \n",
    "            print(i / 600 + 1,'ecpo acc:', sess.run(acc, feed_dict={x:batch_xs, y_onehot: batch_ys}))\n"
   ]
  },
  {
   "cell_type": "markdown",
   "metadata": {},
   "source": [
    "※ 훈련할때 만들었던 최적의 감마와 베타를 테스트 할때 적용하는 코드 \n",
    "\n",
    "  \n",
    "  update_ops = tf.get_collection(tf.GraphKeys.UPDATE_OPS)\n",
    "  with tf.control_dependencies(update_ops):\n",
    "    train_op = optimizer.minimize(loss)\n",
    "\n",
    "\n",
    " 훈련할때 학습되면서 배치 정규화의 최적의 감마와 베타를 생성한다"
   ]
  },
  {
   "cell_type": "code",
   "execution_count": 18,
   "metadata": {},
   "outputs": [
    {
     "name": "stdout",
     "output_type": "stream",
     "text": [
      "Extracting MNIST_data/train-images-idx3-ubyte.gz\n",
      "Extracting MNIST_data/train-labels-idx1-ubyte.gz\n",
      "Extracting MNIST_data/t10k-images-idx3-ubyte.gz\n",
      "Extracting MNIST_data/t10k-labels-idx1-ubyte.gz\n",
      "1.0 ecpo acc: 0.08\n",
      "1.0 ecpo acc: 0.11\n",
      "2.0 ecpo acc: 0.92\n",
      "2.0 ecpo acc: 0.86\n",
      "3.0 ecpo acc: 0.9\n",
      "3.0 ecpo acc: 0.91\n",
      "4.0 ecpo acc: 0.93\n",
      "4.0 ecpo acc: 0.95\n",
      "5.0 ecpo acc: 0.93\n",
      "5.0 ecpo acc: 0.95\n",
      "6.0 ecpo acc: 0.95\n",
      "6.0 ecpo acc: 0.94\n",
      "7.0 ecpo acc: 0.92\n",
      "7.0 ecpo acc: 0.91\n",
      "8.0 ecpo acc: 0.93\n",
      "8.0 ecpo acc: 0.95\n",
      "9.0 ecpo acc: 0.95\n",
      "9.0 ecpo acc: 0.93\n",
      "10.0 ecpo acc: 0.97\n",
      "10.0 ecpo acc: 0.92\n",
      "11.0 ecpo acc: 0.93\n",
      "11.0 ecpo acc: 0.91\n",
      "12.0 ecpo acc: 0.96\n",
      "12.0 ecpo acc: 0.97\n",
      "13.0 ecpo acc: 0.96\n",
      "13.0 ecpo acc: 0.96\n",
      "14.0 ecpo acc: 0.97\n",
      "14.0 ecpo acc: 0.94\n",
      "15.0 ecpo acc: 0.95\n",
      "15.0 ecpo acc: 0.96\n",
      "16.0 ecpo acc: 0.94\n",
      "16.0 ecpo acc: 0.92\n",
      "17.0 ecpo acc: 0.96\n",
      "17.0 ecpo acc: 0.96\n"
     ]
    }
   ],
   "source": [
    "# 최적의 감마와 베타 찾기\n",
    "import tensorflow as tf\n",
    "from tensorflow.examples.tutorials.mnist import input_data\n",
    "\n",
    "tf.reset_default_graph()\n",
    "\n",
    "mnist = input_data.read_data_sets('MNIST_data/', one_hot = True)\n",
    "\n",
    "# 계층 생성\n",
    "# 입력층(0층)\n",
    "x = tf.placeholder(\"float\",[None,784])\n",
    "\n",
    "# 은닉1층\n",
    "W = tf.get_variable(name='W', shape=[784, 50], initializer=tf.contrib.layers.variance_scaling_initializer()) # he 초기값\n",
    "b = tf.Variable(tf.ones([50]))\n",
    "y = tf.matmul(x,W) + b\n",
    "batch_y = tf.contrib.layers.batch_norm(y,True)\n",
    "y_hat = tf.nn.relu(batch_y)\n",
    "\n",
    "# 출력 (2층)\n",
    "W2 = tf.get_variable(name='W2', shape=[50,10], initializer=tf.contrib.layers.variance_scaling_initializer()) # he 초기값\n",
    "b2 = tf.Variable(tf.ones([10]))\n",
    "z = tf.matmul(y_hat,W2) + b2\n",
    "batch_z = tf.contrib.layers.batch_norm(z,True)\n",
    "z_hat = tf.nn.softmax(batch_z)\n",
    "z_predict = tf.argmax(z_hat, axis = 1)\n",
    "\n",
    "# 라벨을 저장하기 위한 변수 생성\n",
    "y_onehot = tf.placeholder(\"float\",[None,10])\n",
    "y_label = tf.argmax(y_onehot, axis = 1)\n",
    "\n",
    "# 정확도를 출력하기 위한 변수 생성\n",
    "correct_prediction = tf.equal(z_predict, y_label)\n",
    "acc = tf.reduce_mean(tf.cast(correct_prediction,\"float\"))\n",
    "\n",
    "# 교차 엔트로피 오차 함수\n",
    "loss = -tf.reduce_sum(y_onehot * tf.log(z_hat), axis = 1)\n",
    "\n",
    "# SGD 경사 감소법\n",
    "# optimizer = tf.train.GradientDescentOptimizer(learning_rate=0.01)\n",
    "\n",
    "# Adam 경사 감소법\n",
    "optimizer = tf.train.AdamOptimizer(learning_rate=0.0001)\n",
    "\n",
    "# 학습 오퍼레이션 정의\n",
    "Train = optimizer.minimize(loss)\n",
    "\n",
    "# 변수 초기화\n",
    "init = tf.global_variables_initializer()\n",
    "\n",
    "with tf.Session() as sess:\n",
    "\n",
    "    sess.run(init)\n",
    "\n",
    "    for i in range(10000):\n",
    "\n",
    "        train_xs, train_ys = mnist.train.next_batch(100)\n",
    "        test_xs, test_ys = mnist.test.next_batch(100)\n",
    "\n",
    "        sess.run(Train, feed_dict={x : train_xs, y_onehot : train_ys})\n",
    "\n",
    "        if i % 600 == 0:\n",
    "            \n",
    "            print(i / 600 + 1,'ecpo acc:', sess.run(acc, feed_dict={x:train_xs, y_onehot: train_ys}))\n",
    "            print(i / 600 + 1,'ecpo acc:', sess.run(acc, feed_dict={x:test_xs, y_onehot: test_ys}))\n"
   ]
  },
  {
   "cell_type": "code",
   "execution_count": 44,
   "metadata": {
    "scrolled": true
   },
   "outputs": [
    {
     "name": "stdout",
     "output_type": "stream",
     "text": [
      "Extracting MNIST_data/train-images-idx3-ubyte.gz\n",
      "Extracting MNIST_data/train-labels-idx1-ubyte.gz\n",
      "Extracting MNIST_data/t10k-images-idx3-ubyte.gz\n",
      "Extracting MNIST_data/t10k-labels-idx1-ubyte.gz\n",
      "1.0 ecpo train acc: 0.12 ecpo test acc: 0.1\n",
      "===============================================================================\n",
      "2.0 ecpo train acc: 0.93 ecpo test acc: 0.96\n",
      "===============================================================================\n",
      "3.0 ecpo train acc: 0.93 ecpo test acc: 0.94\n",
      "===============================================================================\n",
      "4.0 ecpo train acc: 0.94 ecpo test acc: 0.96\n",
      "===============================================================================\n",
      "5.0 ecpo train acc: 0.94 ecpo test acc: 0.98\n",
      "===============================================================================\n",
      "6.0 ecpo train acc: 1.0 ecpo test acc: 0.97\n",
      "===============================================================================\n",
      "7.0 ecpo train acc: 0.98 ecpo test acc: 0.97\n",
      "===============================================================================\n",
      "8.0 ecpo train acc: 0.98 ecpo test acc: 0.99\n",
      "===============================================================================\n",
      "9.0 ecpo train acc: 0.99 ecpo test acc: 0.96\n",
      "===============================================================================\n",
      "10.0 ecpo train acc: 0.96 ecpo test acc: 0.96\n",
      "===============================================================================\n",
      "11.0 ecpo train acc: 1.0 ecpo test acc: 0.97\n",
      "===============================================================================\n",
      "12.0 ecpo train acc: 1.0 ecpo test acc: 0.99\n",
      "===============================================================================\n",
      "13.0 ecpo train acc: 1.0 ecpo test acc: 0.98\n",
      "===============================================================================\n",
      "14.0 ecpo train acc: 0.99 ecpo test acc: 0.98\n",
      "===============================================================================\n",
      "15.0 ecpo train acc: 1.0 ecpo test acc: 0.94\n",
      "===============================================================================\n",
      "16.0 ecpo train acc: 0.98 ecpo test acc: 0.99\n",
      "===============================================================================\n",
      "17.0 ecpo train acc: 0.99 ecpo test acc: 0.96\n",
      "===============================================================================\n"
     ]
    },
    {
     "data": {
      "image/png": "[encoded data removed]",
      "text/plain": [
       "<matplotlib.figure.Figure at 0x1e7c7dd8898>"
      ]
     },
     "metadata": {
      "needs_background": "light"
     },
     "output_type": "display_data"
    }
   ],
   "source": [
    "# 시각화하세요\n",
    "import tensorflow as tf\n",
    "from tensorflow.examples.tutorials.mnist import input_data\n",
    "import matplotlib.pyplot as plt\n",
    "import numpy as np\n",
    "\n",
    "tf.reset_default_graph()\n",
    "\n",
    "mnist = input_data.read_data_sets('MNIST_data/', one_hot = True)\n",
    "\n",
    "# 계층 생성\n",
    "x = tf.placeholder(\"float\" ,[None, 784])\n",
    "W1 = tf.get_variable(name='W1', shape=[784, 50], initializer=tf.contrib.layers.variance_scaling_initializer())\n",
    "b1 = tf.Variable(tf.ones([50]))\n",
    "W2 = tf.get_variable(name='W2', shape=[50, 10], initializer=tf.contrib.layers.variance_scaling_initializer())\n",
    "b2 = tf.Variable(tf.ones([10]))\n",
    "\n",
    "z1 = tf.matmul(x, W1) + b1\n",
    "batch_z1 = tf.contrib.layers.batch_norm(z1, True)\n",
    "r1 = tf.nn.relu(batch_z1)\n",
    "\n",
    "z2 = tf.matmul(r1, W2) + b2\n",
    "y_hat = tf.nn.softmax(z2)\n",
    "y_predict = tf.argmax(y_hat, axis=1)\n",
    "\n",
    "# 라벨을 저장하기 위한 변수 생성\n",
    "y_onehot = tf.placeholder(\"float\", [None, 10])\n",
    "y_label = tf.argmax(y_onehot, axis=1)\n",
    "\n",
    "# 정확도를 출력하기 위한 변수 생성\n",
    "correct_prediction = tf.equal(y_predict, y_label)\n",
    "acc = tf.reduce_mean(tf.cast(correct_prediction, \"float\"))\n",
    "\n",
    "# 교차 엔트로피 오차 함수\n",
    "loss = -tf.reduce_sum(y_onehot * tf.log(y_hat), axis=1)\n",
    "\n",
    "# SGD 경사 감소법\n",
    "# optimizer = tf.train.GradientDescentOptimizer(learning_rate=0.05)\n",
    "\n",
    "# Adam 경사 감소법\n",
    "optimizer = tf.train.AdamOptimizer(learning_rate=0.001)\n",
    "\n",
    "# 학습 오퍼레이션 정의\n",
    "Train = optimizer.minimize(loss)\n",
    "\n",
    "# 변수 초기화\n",
    "init = tf.global_variables_initializer()\n",
    "train_acc_list=[]\n",
    "test_acc_list =[]\n",
    "\n",
    "with tf.Session() as sess:\n",
    "    sess.run(init)\n",
    "\n",
    "    for i in range(10000):\n",
    "\n",
    "        train_xs, train_ys = mnist.train.next_batch(100)\n",
    "        test_xs, test_ys = mnist.test.next_batch(100)\n",
    "\n",
    "        sess.run(Train, feed_dict={x: train_xs, y_onehot: train_ys})\n",
    "\n",
    "        if i % 600 == 0:\n",
    "            train_acc = sess.run(acc, feed_dict={x: train_xs, y_onehot: train_ys})\n",
    "            test_acc = sess.run(acc, feed_dict={x: test_xs, y_onehot: test_ys})\n",
    "\n",
    "            print(i / 600 + 1, 'ecpo train acc:', train_acc, 'ecpo test acc:', test_acc)\n",
    "\n",
    "            train_acc_list.append(train_acc)  # 10000/600 개  16개 # 정확도가 점점 올라감\n",
    "            test_acc_list.append(test_acc)  # 10000/600 개 16개 # 정확도가 점점 올라감\n",
    "\n",
    "            print(\"===============================================================================\")\n",
    "\n",
    "# 그래프 그리기\n",
    "markers = {'train': 'o', 'test': 's'}\n",
    "x = np.arange(len(train_acc_list))\n",
    "plt.plot(x, train_acc_list, label='train acc')\n",
    "plt.plot(x, test_acc_list, label='test acc', linestyle='--')\n",
    "plt.xlabel(\"epochs\")\n",
    "plt.ylabel(\"accuracy\")\n",
    "plt.ylim(0, 1.0)\n",
    "plt.legend(loc='lower right')\n",
    "plt.show()"
   ]
  },
  {
   "cell_type": "code",
   "execution_count": 51,
   "metadata": {
    "scrolled": true
   },
   "outputs": [
    {
     "name": "stdout",
     "output_type": "stream",
     "text": [
      "Extracting MNIST_data/train-images-idx3-ubyte.gz\n",
      "Extracting MNIST_data/train-labels-idx1-ubyte.gz\n",
      "Extracting MNIST_data/t10k-images-idx3-ubyte.gz\n",
      "Extracting MNIST_data/t10k-labels-idx1-ubyte.gz\n",
      "1.0 ecpo train acc: 0.29 ecpo test acc: 0.25\n",
      "2.0 ecpo train acc: 0.94 ecpo test acc: 0.94\n",
      "3.0 ecpo train acc: 0.95 ecpo test acc: 0.93\n",
      "4.0 ecpo train acc: 0.94 ecpo test acc: 0.93\n",
      "5.0 ecpo train acc: 0.94 ecpo test acc: 0.98\n",
      "6.0 ecpo train acc: 0.97 ecpo test acc: 0.94\n",
      "7.0 ecpo train acc: 0.91 ecpo test acc: 0.93\n",
      "8.0 ecpo train acc: 0.96 ecpo test acc: 0.98\n",
      "9.0 ecpo train acc: 0.97 ecpo test acc: 0.96\n",
      "10.0 ecpo train acc: 0.98 ecpo test acc: 0.97\n",
      "11.0 ecpo train acc: 0.98 ecpo test acc: 0.97\n",
      "12.0 ecpo train acc: 0.98 ecpo test acc: 0.94\n",
      "13.0 ecpo train acc: 0.97 ecpo test acc: 1.0\n",
      "14.0 ecpo train acc: 0.96 ecpo test acc: 0.97\n",
      "15.0 ecpo train acc: 0.96 ecpo test acc: 0.97\n",
      "16.0 ecpo train acc: 0.98 ecpo test acc: 0.94\n",
      "17.0 ecpo train acc: 0.97 ecpo test acc: 0.95\n"
     ]
    },
    {
     "data": {
      "image/png": "[encoded data removed]",
      "text/plain": [
       "<matplotlib.figure.Figure at 0x1e81f9249e8>"
      ]
     },
     "metadata": {
      "needs_background": "light"
     },
     "output_type": "display_data"
    }
   ],
   "source": [
    "# overfitting발생 -> dropout구현\n",
    "import tensorflow as tf\n",
    "from tensorflow.examples.tutorials.mnist import input_data\n",
    "import matplotlib.pyplot as plt\n",
    "import numpy as np\n",
    "\n",
    "tf.reset_default_graph()\n",
    "mnist = input_data.read_data_sets(\"MNIST_data/\",one_hot=True)\n",
    "\n",
    "# 계층 생성해서 예측값 출력하는 코드\n",
    "# 1층\n",
    "x = tf.placeholder(\"float\",[None,784])\n",
    "W = tf.get_variable(name='W', shape=[784, 50],\n",
    "                    initializer=tf.contrib.layers.variance_scaling_initializer()) # he 초기값\n",
    "# W = tf.Variable(tf.random_uniform([784,10],-1,1), name=\"W\")\n",
    "b = tf.Variable(tf.ones([50]))\n",
    "y = tf.matmul(x,W) + b\n",
    "batch_y1 = tf.contrib.layers.batch_norm(y, True)    # 배치정규화\n",
    "y_hat1 = tf.nn.relu(batch_y1)\n",
    "\n",
    "# 2층\n",
    "keep_prob = tf.placeholder(tf.float32)\n",
    "dropout = tf.nn.dropout(y_hat1, keep_prob)\n",
    "W2 = tf.get_variable(name='W2', shape=[50, 10], initializer=tf.contrib.layers.variance_scaling_initializer()) # he 초기값\n",
    "b2 = tf.Variable(tf.ones([10]))\n",
    "y2 = tf.matmul(dropout, W2) + b2\n",
    "y_hat = tf.nn.softmax( y2 )\n",
    "y_predict = tf.argmax(y_hat, axis = 1)\n",
    "\n",
    "\n",
    "# 라벨을 원핫 인코딩해서 담을 변수를 생성\n",
    "y_onehot = tf.placeholder(\"float\",[None,10])\n",
    "\n",
    "# 라벨을 숫자로 출력\n",
    "y_label = tf.argmax(y_onehot, axis = 1)\n",
    "\n",
    "# 손실 함수\n",
    "loss = -tf.reduce_sum(y_onehot*tf.log(y_hat), axis=1)\n",
    "\n",
    "# SGD 경사감소법 구현\n",
    "optimizer = tf.train.GradientDescentOptimizer(learning_rate=0.001)\n",
    "\n",
    "# 학습 오퍼레이션 정의\n",
    "train = optimizer.minimize(loss)\n",
    "\n",
    "# 정확도를 출력하기 위한 코드\n",
    "correct_prediction = tf.equal(y_predict, y_label)\n",
    "accuracy = tf.reduce_mean(tf.cast(correct_prediction,\"float\"))\n",
    "\n",
    "init = tf.global_variables_initializer()    # 메모리를 한 번 정리.\n",
    "\n",
    "sess = tf.Session()\n",
    "sess.run(init)\n",
    "\n",
    "x_list = []\n",
    "train_acc_list = []\n",
    "test_acc_list = []\n",
    "for i in range(10000):\n",
    "    batch_xs, batch_ys = mnist.train.next_batch(100)\n",
    "    batch_xt, batch_yt = mnist.test.next_batch(100)\n",
    "    \n",
    "    sess.run(train, feed_dict={x: batch_xs, y_onehot: batch_ys, keep_prob:0.8})\n",
    "    \n",
    "    if i%600 == 0:\n",
    "        train_acc = sess.run(accuracy, feed_dict={x: batch_xs, y_onehot: batch_ys, keep_prob:0.8})\n",
    "        test_acc = sess.run(accuracy, feed_dict={x: batch_xt, y_onehot: batch_yt, keep_prob:1})\n",
    "        \n",
    "        print(i / 600 + 1, 'ecpo train acc:', train_acc, 'ecpo test acc:', test_acc)\n",
    "        \n",
    "        # 그래프 그리기 위한 밑작업\n",
    "        x_list.append(i)\n",
    "        train_acc_list.append(train_acc)  # 10000/600 개  16개 # 정확도가 점점 올라감\n",
    "        test_acc_list.append(test_acc)  # 10000/600 개 16개 # 정확도가 점점 올라감\n",
    "        \n",
    "plt.plot(x_list, train_acc_list, label='train')\n",
    "plt.plot(x_list, test_acc_list, label='test')\n",
    "plt.legend(loc = 'lower right')\n",
    "plt.show()"
   ]
  },
  {
   "cell_type": "markdown",
   "metadata": {},
   "source": [
    "※ 배치정규화는 훈련시에만 사용하고 테스트시에서는 사용하지 않는다.\n",
    "    -> 최적의 감마와 베타 값은 훈련시 만든 것으로 사용"
   ]
  }
 ],
 "metadata": {
  "kernelspec": {
   "display_name": "Python 3",
   "language": "python",
   "name": "python3"
  },
  "language_info": {
   "codemirror_mode": {
    "name": "ipython",
    "version": 3
   },
   "file_extension": ".py",
   "mimetype": "text/x-python",
   "name": "python",
   "nbconvert_exporter": "python",
   "pygments_lexer": "ipython3",
   "version": "3.6.3"
  }
 },
 "nbformat": 4,
 "nbformat_minor": 2
}
