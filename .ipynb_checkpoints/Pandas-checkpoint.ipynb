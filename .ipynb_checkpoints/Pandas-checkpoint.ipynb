{
 "cells": [
  {
   "cell_type": "markdown",
   "metadata": {},
   "source": [
    "■ 62. Pandas\n",
    "\n",
    "    1. 판다스는 데이터 분석을 위한 파이썬 패키지\n",
    "    2. 엑셀의 스프레드 시트와 관계형 데이터 베이스 데이터 처리능력이 뛰어나다.\n",
    "    3. 판다스는 DataFrame이라는 기본 자료구조를 사용한다."
   ]
  },
  {
   "cell_type": "code",
   "execution_count": 3,
   "metadata": {},
   "outputs": [
    {
     "name": "stdout",
     "output_type": "stream",
     "text": [
      "    empno   ename        job     mgr    hiredate   sal    comm  deptno\n",
      "0    7839    KING  PRESIDENT     NaN  1981-11-17  5000     NaN      10\n",
      "1    7698   BLAKE    MANAGER  7839.0  1981-05-01  2850     NaN      30\n",
      "2    7782   CLARK    MANAGER  7839.0  1981-05-09  2450     NaN      10\n",
      "3    7566   JONES    MANAGER  7839.0  1981-04-01  2975     NaN      20\n",
      "4    7654  MARTIN   SALESMAN  7698.0  1981-09-10  1250  1400.0      30\n",
      "5    7499   ALLEN   SALESMAN  7698.0  1981-02-11  1600   300.0      30\n",
      "6    7844  TURNER   SALESMAN  7698.0  1981-08-21  1500     0.0      30\n",
      "7    7900   JAMES      CLERK  7698.0  1981-12-11   950     NaN      30\n",
      "8    7521    WARD   SALESMAN  7698.0  1981-02-23  1250   500.0      30\n",
      "9    7902    FORD    ANALYST  7566.0  1981-12-11  3000     NaN      20\n",
      "10   7369   SMITH      CLERK  7902.0  1980-12-09   800     NaN      20\n",
      "11   7788   SCOTT    ANALYST  7566.0  1982-12-22  3000     NaN      20\n",
      "12   7876   ADAMS      CLERK  7788.0  1983-01-15  1100     NaN      20\n",
      "13   7934  MILLER      CLERK  7782.0  1982-01-11  1300     NaN      10\n"
     ]
    }
   ],
   "source": [
    "# 문제165. Pandas 모듈을 이용해서 사원 테이블 전체를 출력하시오\n",
    "\n",
    "import pandas as pd\n",
    "emp = pd.read_csv(\"emp.csv\")\n",
    "print(emp)"
   ]
  },
  {
   "cell_type": "code",
   "execution_count": 5,
   "metadata": {
    "scrolled": true
   },
   "outputs": [
    {
     "name": "stdout",
     "output_type": "stream",
     "text": [
      "     ename   sal\n",
      "0     KING  5000\n",
      "1    BLAKE  2850\n",
      "2    CLARK  2450\n",
      "3    JONES  2975\n",
      "4   MARTIN  1250\n",
      "5    ALLEN  1600\n",
      "6   TURNER  1500\n",
      "7    JAMES   950\n",
      "8     WARD  1250\n",
      "9     FORD  3000\n",
      "10   SMITH   800\n",
      "11   SCOTT  3000\n",
      "12   ADAMS  1100\n",
      "13  MILLER  1300\n"
     ]
    }
   ],
   "source": [
    "# 문제166. 이름과 월급을 출력하시오\n",
    "\n",
    "print(emp[['ename','sal']])"
   ]
  },
  {
   "cell_type": "markdown",
   "metadata": {},
   "source": [
    "■ 63. Pandas 조건절 사용 데이터 검색방법"
   ]
  },
  {
   "cell_type": "code",
   "execution_count": 6,
   "metadata": {
    "scrolled": true
   },
   "outputs": [
    {
     "name": "stdout",
     "output_type": "stream",
     "text": [
      "    ename   sal\n",
      "4  MARTIN  1250\n",
      "5   ALLEN  1600\n",
      "6  TURNER  1500\n",
      "8    WARD  1250\n"
     ]
    }
   ],
   "source": [
    "# 문제167. 직업이 SALESMAN인 사원들의 이름과 직업을 출력하시오\n",
    "\n",
    "print(emp[['ename','sal']][emp['job'] == 'SALESMAN'])"
   ]
  },
  {
   "cell_type": "code",
   "execution_count": 9,
   "metadata": {},
   "outputs": [
    {
     "name": "stdout",
     "output_type": "stream",
     "text": [
      "   ename  age\n",
      "11   장은희   24\n"
     ]
    }
   ],
   "source": [
    "# 문제168. 이름이 장은희인 학생의 이름과 나이를 출력하시오\n",
    "import pandas as pd\n",
    "emp = pd.read_csv(\"emp_class.csv\")\n",
    "# print(emp)\n",
    "print(emp[['ename','age']][emp['ename'] == '장은희'])"
   ]
  },
  {
   "attachments": {
    "image.png": {
     "image/png": "[encoded data removed]"
    }
   },
   "cell_type": "markdown",
   "metadata": {},
   "source": [
    "■ 64. Pandas 함수\n",
    "\n",
    "![image.png](attachment:image.png)"
   ]
  },
  {
   "cell_type": "code",
   "execution_count": 14,
   "metadata": {},
   "outputs": [
    {
     "name": "stdout",
     "output_type": "stream",
     "text": [
      "   ename  age\n",
      "0    윤진민   27\n",
      "1    송윤호   27\n",
      "3    김영토   28\n",
      "5    김지우   27\n",
      "6    정인중   27\n",
      "7    이유진   25\n",
      "8    백광흠   26\n",
      "9    김원섭   26\n",
      "10   김광록   27\n",
      "12   지윤철   28\n",
      "13   이상민   26\n",
      "14   윤동환   25\n",
      "15   이한새   25\n",
      "16   방승준   26\n",
      "17   신영근   25\n",
      "19   유혜린   26\n",
      "20   김건태   28\n",
      "21   신현수   27\n",
      "22   이근호   28\n",
      "23   김대경   27\n",
      "24   김동윤   28\n",
      "25    도웅   28\n",
      "26   이찬중   28\n",
      "27   차호성   28\n",
      "29   이광훈   25\n"
     ]
    }
   ],
   "source": [
    "# 문제169. 나이가 25에서 28 사이인 학생들의 이름과 나이를 출력하시오\n",
    "\n",
    "print(emp[['ename','age']][emp['age'].between(25,28)])"
   ]
  },
  {
   "cell_type": "code",
   "execution_count": 18,
   "metadata": {
    "scrolled": false
   },
   "outputs": [
    {
     "name": "stdout",
     "output_type": "stream",
     "text": [
      "   ename  age\n",
      "2    은해찬   29\n",
      "4    정호진   32\n",
      "11   장은희   24\n",
      "18   김근아   24\n",
      "28   한지윤   24\n"
     ]
    }
   ],
   "source": [
    "# 문제170. 나이가 25에서 28 사이가 아닌 학생들의 이름과 나이를 출력하시오\n",
    "\n",
    "print(emp[['ename','age']][~emp['age'].between(25,28)])"
   ]
  },
  {
   "cell_type": "code",
   "execution_count": 22,
   "metadata": {},
   "outputs": [
    {
     "name": "stdout",
     "output_type": "stream",
     "text": [
      "   ename  age\n",
      "20   김건태   28\n",
      "26   이찬중   28\n"
     ]
    }
   ],
   "source": [
    "# 문제171. 전공이 환경공학, 신학인 학생들의 이름과 전공을 출력하시오\n",
    "\n",
    "print(emp[['ename','age']][emp['major'].isin(['신학','환경공학'])])"
   ]
  },
  {
   "cell_type": "code",
   "execution_count": 26,
   "metadata": {},
   "outputs": [
    {
     "name": "stdout",
     "output_type": "stream",
     "text": [
      "   ename  age\n",
      "3    김영토   28\n",
      "5    김지우   27\n",
      "9    김원섭   26\n",
      "10   김광록   27\n",
      "18   김근아   24\n",
      "20   김건태   28\n",
      "23   김대경   27\n",
      "24   김동윤   28\n"
     ]
    }
   ],
   "source": [
    "# 문제172. 성이 김씨인 학생들의 이름과 나이를 출력하시오\n",
    "\n",
    "print(emp[['ename','age']][emp['ename'].apply(lambda x:x[0]=='김')])"
   ]
  },
  {
   "cell_type": "markdown",
   "metadata": {},
   "source": [
    "■ 65. Pandas를 이용한 조인"
   ]
  },
  {
   "cell_type": "code",
   "execution_count": 30,
   "metadata": {},
   "outputs": [
    {
     "name": "stdout",
     "output_type": "stream",
     "text": [
      "     ename       loc\n",
      "0     KING  NEW YORK\n",
      "1    CLARK  NEW YORK\n",
      "2   MILLER  NEW YORK\n",
      "3    BLAKE   CHICAGO\n",
      "4   MARTIN   CHICAGO\n",
      "5    ALLEN   CHICAGO\n",
      "6   TURNER   CHICAGO\n",
      "7    JAMES   CHICAGO\n",
      "8     WARD   CHICAGO\n",
      "9    JONES    DALLAS\n",
      "10    FORD    DALLAS\n",
      "11   SMITH    DALLAS\n",
      "12   SCOTT    DALLAS\n",
      "13   ADAMS    DALLAS\n"
     ]
    }
   ],
   "source": [
    "# 문제173. Pandas를 이용해서 이름과 부서위치를 출력하시오\n",
    "\n",
    "import pandas as pd\n",
    "\n",
    "emp = pd.read_csv(\"emp.csv\")\n",
    "dept = pd.read_csv(\"dept.csv\")\n",
    "\n",
    "result = pd.merge(emp, dept, on='deptno')\n",
    "\n",
    "print(result[['ename','loc']])"
   ]
  },
  {
   "cell_type": "code",
   "execution_count": 31,
   "metadata": {
    "scrolled": true
   },
   "outputs": [
    {
     "name": "stdout",
     "output_type": "stream",
     "text": [
      "    ename     loc\n",
      "9   JONES  DALLAS\n",
      "10   FORD  DALLAS\n",
      "11  SMITH  DALLAS\n",
      "12  SCOTT  DALLAS\n",
      "13  ADAMS  DALLAS\n"
     ]
    }
   ],
   "source": [
    "# 문제174. 부서위치가 DALLAS인 사원들의 이름과 부서위치를 출력하시오\n",
    "\n",
    "print(result[['ename','loc']][result['loc'] == 'DALLAS'])"
   ]
  },
  {
   "cell_type": "code",
   "execution_count": 32,
   "metadata": {},
   "outputs": [
    {
     "data": {
      "text/html": [
       "<div>\n",
       "<style>\n",
       "    .dataframe thead tr:only-child th {\n",
       "        text-align: right;\n",
       "    }\n",
       "\n",
       "    .dataframe thead th {\n",
       "        text-align: left;\n",
       "    }\n",
       "\n",
       "    .dataframe tbody tr th {\n",
       "        vertical-align: top;\n",
       "    }\n",
       "</style>\n",
       "<table border=\"1\" class=\"dataframe\">\n",
       "  <thead>\n",
       "    <tr style=\"text-align: right;\">\n",
       "      <th></th>\n",
       "      <th>ename</th>\n",
       "      <th>loc</th>\n",
       "    </tr>\n",
       "  </thead>\n",
       "  <tbody>\n",
       "    <tr>\n",
       "      <th>0</th>\n",
       "      <td>KING</td>\n",
       "      <td>NEW YORK</td>\n",
       "    </tr>\n",
       "    <tr>\n",
       "      <th>1</th>\n",
       "      <td>CLARK</td>\n",
       "      <td>NEW YORK</td>\n",
       "    </tr>\n",
       "    <tr>\n",
       "      <th>2</th>\n",
       "      <td>MILLER</td>\n",
       "      <td>NEW YORK</td>\n",
       "    </tr>\n",
       "    <tr>\n",
       "      <th>3</th>\n",
       "      <td>BLAKE</td>\n",
       "      <td>CHICAGO</td>\n",
       "    </tr>\n",
       "    <tr>\n",
       "      <th>4</th>\n",
       "      <td>MARTIN</td>\n",
       "      <td>CHICAGO</td>\n",
       "    </tr>\n",
       "    <tr>\n",
       "      <th>5</th>\n",
       "      <td>ALLEN</td>\n",
       "      <td>CHICAGO</td>\n",
       "    </tr>\n",
       "    <tr>\n",
       "      <th>6</th>\n",
       "      <td>TURNER</td>\n",
       "      <td>CHICAGO</td>\n",
       "    </tr>\n",
       "    <tr>\n",
       "      <th>7</th>\n",
       "      <td>JAMES</td>\n",
       "      <td>CHICAGO</td>\n",
       "    </tr>\n",
       "    <tr>\n",
       "      <th>8</th>\n",
       "      <td>WARD</td>\n",
       "      <td>CHICAGO</td>\n",
       "    </tr>\n",
       "    <tr>\n",
       "      <th>9</th>\n",
       "      <td>JONES</td>\n",
       "      <td>DALLAS</td>\n",
       "    </tr>\n",
       "    <tr>\n",
       "      <th>10</th>\n",
       "      <td>FORD</td>\n",
       "      <td>DALLAS</td>\n",
       "    </tr>\n",
       "    <tr>\n",
       "      <th>11</th>\n",
       "      <td>SMITH</td>\n",
       "      <td>DALLAS</td>\n",
       "    </tr>\n",
       "    <tr>\n",
       "      <th>12</th>\n",
       "      <td>SCOTT</td>\n",
       "      <td>DALLAS</td>\n",
       "    </tr>\n",
       "    <tr>\n",
       "      <th>13</th>\n",
       "      <td>ADAMS</td>\n",
       "      <td>DALLAS</td>\n",
       "    </tr>\n",
       "    <tr>\n",
       "      <th>14</th>\n",
       "      <td>NaN</td>\n",
       "      <td>BOSTON</td>\n",
       "    </tr>\n",
       "  </tbody>\n",
       "</table>\n",
       "</div>"
      ],
      "text/plain": [
       "     ename       loc\n",
       "0     KING  NEW YORK\n",
       "1    CLARK  NEW YORK\n",
       "2   MILLER  NEW YORK\n",
       "3    BLAKE   CHICAGO\n",
       "4   MARTIN   CHICAGO\n",
       "5    ALLEN   CHICAGO\n",
       "6   TURNER   CHICAGO\n",
       "7    JAMES   CHICAGO\n",
       "8     WARD   CHICAGO\n",
       "9    JONES    DALLAS\n",
       "10    FORD    DALLAS\n",
       "11   SMITH    DALLAS\n",
       "12   SCOTT    DALLAS\n",
       "13   ADAMS    DALLAS\n",
       "14     NaN    BOSTON"
      ]
     },
     "execution_count": 32,
     "metadata": {},
     "output_type": "execute_result"
    }
   ],
   "source": [
    "# 문제175. 이름과 부서위치를 출력하는데 SQL 의 outerjoin 의 결과가 출력되게 하시오\n",
    "\n",
    "result = pd.merge(emp, dept, on='deptno', how='right')\n",
    "result[['ename','loc']]"
   ]
  },
  {
   "cell_type": "code",
   "execution_count": 33,
   "metadata": {},
   "outputs": [
    {
     "data": {
      "text/html": [
       "<div>\n",
       "<style>\n",
       "    .dataframe thead tr:only-child th {\n",
       "        text-align: right;\n",
       "    }\n",
       "\n",
       "    .dataframe thead th {\n",
       "        text-align: left;\n",
       "    }\n",
       "\n",
       "    .dataframe tbody tr th {\n",
       "        vertical-align: top;\n",
       "    }\n",
       "</style>\n",
       "<table border=\"1\" class=\"dataframe\">\n",
       "  <thead>\n",
       "    <tr style=\"text-align: right;\">\n",
       "      <th></th>\n",
       "      <th>ename</th>\n",
       "      <th>loc</th>\n",
       "    </tr>\n",
       "  </thead>\n",
       "  <tbody>\n",
       "    <tr>\n",
       "      <th>0</th>\n",
       "      <td>KING</td>\n",
       "      <td>NEW YORK</td>\n",
       "    </tr>\n",
       "    <tr>\n",
       "      <th>1</th>\n",
       "      <td>CLARK</td>\n",
       "      <td>NEW YORK</td>\n",
       "    </tr>\n",
       "    <tr>\n",
       "      <th>2</th>\n",
       "      <td>MILLER</td>\n",
       "      <td>NEW YORK</td>\n",
       "    </tr>\n",
       "    <tr>\n",
       "      <th>3</th>\n",
       "      <td>BLAKE</td>\n",
       "      <td>CHICAGO</td>\n",
       "    </tr>\n",
       "    <tr>\n",
       "      <th>4</th>\n",
       "      <td>MARTIN</td>\n",
       "      <td>CHICAGO</td>\n",
       "    </tr>\n",
       "    <tr>\n",
       "      <th>5</th>\n",
       "      <td>ALLEN</td>\n",
       "      <td>CHICAGO</td>\n",
       "    </tr>\n",
       "    <tr>\n",
       "      <th>6</th>\n",
       "      <td>TURNER</td>\n",
       "      <td>CHICAGO</td>\n",
       "    </tr>\n",
       "    <tr>\n",
       "      <th>7</th>\n",
       "      <td>JAMES</td>\n",
       "      <td>CHICAGO</td>\n",
       "    </tr>\n",
       "    <tr>\n",
       "      <th>8</th>\n",
       "      <td>WARD</td>\n",
       "      <td>CHICAGO</td>\n",
       "    </tr>\n",
       "    <tr>\n",
       "      <th>9</th>\n",
       "      <td>JONES</td>\n",
       "      <td>DALLAS</td>\n",
       "    </tr>\n",
       "    <tr>\n",
       "      <th>10</th>\n",
       "      <td>FORD</td>\n",
       "      <td>DALLAS</td>\n",
       "    </tr>\n",
       "    <tr>\n",
       "      <th>11</th>\n",
       "      <td>SMITH</td>\n",
       "      <td>DALLAS</td>\n",
       "    </tr>\n",
       "    <tr>\n",
       "      <th>12</th>\n",
       "      <td>SCOTT</td>\n",
       "      <td>DALLAS</td>\n",
       "    </tr>\n",
       "    <tr>\n",
       "      <th>13</th>\n",
       "      <td>ADAMS</td>\n",
       "      <td>DALLAS</td>\n",
       "    </tr>\n",
       "    <tr>\n",
       "      <th>14</th>\n",
       "      <td>NaN</td>\n",
       "      <td>BOSTON</td>\n",
       "    </tr>\n",
       "  </tbody>\n",
       "</table>\n",
       "</div>"
      ],
      "text/plain": [
       "     ename       loc\n",
       "0     KING  NEW YORK\n",
       "1    CLARK  NEW YORK\n",
       "2   MILLER  NEW YORK\n",
       "3    BLAKE   CHICAGO\n",
       "4   MARTIN   CHICAGO\n",
       "5    ALLEN   CHICAGO\n",
       "6   TURNER   CHICAGO\n",
       "7    JAMES   CHICAGO\n",
       "8     WARD   CHICAGO\n",
       "9    JONES    DALLAS\n",
       "10    FORD    DALLAS\n",
       "11   SMITH    DALLAS\n",
       "12   SCOTT    DALLAS\n",
       "13   ADAMS    DALLAS\n",
       "14     NaN    BOSTON"
      ]
     },
     "execution_count": 33,
     "metadata": {},
     "output_type": "execute_result"
    }
   ],
   "source": [
    "# 문제176. full outer join을 pandas로 구현하시오\n",
    "\n",
    "result = pd.merge(emp, dept, on='deptno', how='outer')\n",
    "result[['ename','loc']]"
   ]
  },
  {
   "cell_type": "code",
   "execution_count": 37,
   "metadata": {},
   "outputs": [
    {
     "data": {
      "text/html": [
       "<div>\n",
       "<style>\n",
       "    .dataframe thead tr:only-child th {\n",
       "        text-align: right;\n",
       "    }\n",
       "\n",
       "    .dataframe thead th {\n",
       "        text-align: left;\n",
       "    }\n",
       "\n",
       "    .dataframe tbody tr th {\n",
       "        vertical-align: top;\n",
       "    }\n",
       "</style>\n",
       "<table border=\"1\" class=\"dataframe\">\n",
       "  <thead>\n",
       "    <tr style=\"text-align: right;\">\n",
       "      <th></th>\n",
       "      <th>ename</th>\n",
       "      <th>sal</th>\n",
       "    </tr>\n",
       "  </thead>\n",
       "  <tbody>\n",
       "    <tr>\n",
       "      <th>0</th>\n",
       "      <td>KING</td>\n",
       "      <td>5000</td>\n",
       "    </tr>\n",
       "    <tr>\n",
       "      <th>1</th>\n",
       "      <td>CLARK</td>\n",
       "      <td>2450</td>\n",
       "    </tr>\n",
       "    <tr>\n",
       "      <th>3</th>\n",
       "      <td>BLAKE</td>\n",
       "      <td>2850</td>\n",
       "    </tr>\n",
       "    <tr>\n",
       "      <th>9</th>\n",
       "      <td>JONES</td>\n",
       "      <td>2975</td>\n",
       "    </tr>\n",
       "    <tr>\n",
       "      <th>11</th>\n",
       "      <td>SMITH</td>\n",
       "      <td>800</td>\n",
       "    </tr>\n",
       "  </tbody>\n",
       "</table>\n",
       "</div>"
      ],
      "text/plain": [
       "    ename   sal\n",
       "0    KING  5000\n",
       "1   CLARK  2450\n",
       "3   BLAKE  2850\n",
       "9   JONES  2975\n",
       "11  SMITH   800"
      ]
     },
     "execution_count": 37,
     "metadata": {},
     "output_type": "execute_result"
    }
   ],
   "source": [
    "# 문제177. JONES보다 더 많은 월급을 받는 사원들의 이름과 월급을 출력하시오\n",
    "\n",
    "result = pd.merge(emp, dept, on='deptno')\n",
    "t_sal = result[['sal']][emp['ename'] == 'JONES'].values[0][0]\n",
    "\n",
    "result[['ename','sal']][emp['sal'] >= t_sal]"
   ]
  },
  {
   "cell_type": "code",
   "execution_count": 40,
   "metadata": {},
   "outputs": [
    {
     "data": {
      "text/html": [
       "<div>\n",
       "<style>\n",
       "    .dataframe thead tr:only-child th {\n",
       "        text-align: right;\n",
       "    }\n",
       "\n",
       "    .dataframe thead th {\n",
       "        text-align: left;\n",
       "    }\n",
       "\n",
       "    .dataframe tbody tr th {\n",
       "        vertical-align: top;\n",
       "    }\n",
       "</style>\n",
       "<table border=\"1\" class=\"dataframe\">\n",
       "  <thead>\n",
       "    <tr style=\"text-align: right;\">\n",
       "      <th></th>\n",
       "      <th>ename</th>\n",
       "    </tr>\n",
       "  </thead>\n",
       "  <tbody>\n",
       "    <tr>\n",
       "      <th>9</th>\n",
       "      <td>JONES</td>\n",
       "    </tr>\n",
       "  </tbody>\n",
       "</table>\n",
       "</div>"
      ],
      "text/plain": [
       "   ename\n",
       "9  JONES"
      ]
     },
     "execution_count": 40,
     "metadata": {},
     "output_type": "execute_result"
    }
   ],
   "source": [
    "# 문제178. SCOTT의 직속상사의 이름을 출력하시오\n",
    "\n",
    "result = pd.merge(emp, dept, on='deptno')\n",
    "mgr = result[['mgr']][emp['ename'] == 'SCOTT'].values[0][0]\n",
    "\n",
    "result[['ename']][emp['empno'] == mgr]"
   ]
  },
  {
   "cell_type": "code",
   "execution_count": 52,
   "metadata": {
    "scrolled": true
   },
   "outputs": [
    {
     "data": {
      "text/html": [
       "<div>\n",
       "<style>\n",
       "    .dataframe thead tr:only-child th {\n",
       "        text-align: right;\n",
       "    }\n",
       "\n",
       "    .dataframe thead th {\n",
       "        text-align: left;\n",
       "    }\n",
       "\n",
       "    .dataframe tbody tr th {\n",
       "        vertical-align: top;\n",
       "    }\n",
       "</style>\n",
       "<table border=\"1\" class=\"dataframe\">\n",
       "  <thead>\n",
       "    <tr style=\"text-align: right;\">\n",
       "      <th></th>\n",
       "      <th>ename</th>\n",
       "    </tr>\n",
       "  </thead>\n",
       "  <tbody>\n",
       "    <tr>\n",
       "      <th>0</th>\n",
       "      <td>KING</td>\n",
       "    </tr>\n",
       "    <tr>\n",
       "      <th>1</th>\n",
       "      <td>CLARK</td>\n",
       "    </tr>\n",
       "    <tr>\n",
       "      <th>2</th>\n",
       "      <td>MILLER</td>\n",
       "    </tr>\n",
       "    <tr>\n",
       "      <th>3</th>\n",
       "      <td>BLAKE</td>\n",
       "    </tr>\n",
       "    <tr>\n",
       "      <th>9</th>\n",
       "      <td>JONES</td>\n",
       "    </tr>\n",
       "    <tr>\n",
       "      <th>11</th>\n",
       "      <td>SMITH</td>\n",
       "    </tr>\n",
       "  </tbody>\n",
       "</table>\n",
       "</div>"
      ],
      "text/plain": [
       "     ename\n",
       "0     KING\n",
       "1    CLARK\n",
       "2   MILLER\n",
       "3    BLAKE\n",
       "9    JONES\n",
       "11   SMITH"
      ]
     },
     "execution_count": 52,
     "metadata": {},
     "output_type": "execute_result"
    }
   ],
   "source": [
    "# 문제179. 관리자인 사원들의 이름을 출력하시오\n",
    "\n",
    "result[['ename']][emp['empno'].isin(emp['mgr'])]"
   ]
  },
  {
   "cell_type": "code",
   "execution_count": 54,
   "metadata": {
    "scrolled": true
   },
   "outputs": [
    {
     "data": {
      "text/html": [
       "<div>\n",
       "<style>\n",
       "    .dataframe thead tr:only-child th {\n",
       "        text-align: right;\n",
       "    }\n",
       "\n",
       "    .dataframe thead th {\n",
       "        text-align: left;\n",
       "    }\n",
       "\n",
       "    .dataframe tbody tr th {\n",
       "        vertical-align: top;\n",
       "    }\n",
       "</style>\n",
       "<table border=\"1\" class=\"dataframe\">\n",
       "  <thead>\n",
       "    <tr style=\"text-align: right;\">\n",
       "      <th></th>\n",
       "      <th>ename</th>\n",
       "    </tr>\n",
       "  </thead>\n",
       "  <tbody>\n",
       "    <tr>\n",
       "      <th>4</th>\n",
       "      <td>MARTIN</td>\n",
       "    </tr>\n",
       "    <tr>\n",
       "      <th>5</th>\n",
       "      <td>ALLEN</td>\n",
       "    </tr>\n",
       "    <tr>\n",
       "      <th>6</th>\n",
       "      <td>TURNER</td>\n",
       "    </tr>\n",
       "    <tr>\n",
       "      <th>7</th>\n",
       "      <td>JAMES</td>\n",
       "    </tr>\n",
       "    <tr>\n",
       "      <th>8</th>\n",
       "      <td>WARD</td>\n",
       "    </tr>\n",
       "    <tr>\n",
       "      <th>10</th>\n",
       "      <td>FORD</td>\n",
       "    </tr>\n",
       "    <tr>\n",
       "      <th>12</th>\n",
       "      <td>SCOTT</td>\n",
       "    </tr>\n",
       "    <tr>\n",
       "      <th>13</th>\n",
       "      <td>ADAMS</td>\n",
       "    </tr>\n",
       "  </tbody>\n",
       "</table>\n",
       "</div>"
      ],
      "text/plain": [
       "     ename\n",
       "4   MARTIN\n",
       "5    ALLEN\n",
       "6   TURNER\n",
       "7    JAMES\n",
       "8     WARD\n",
       "10    FORD\n",
       "12   SCOTT\n",
       "13   ADAMS"
      ]
     },
     "execution_count": 54,
     "metadata": {},
     "output_type": "execute_result"
    }
   ],
   "source": [
    "# 문제180. 관리자가 아닌 사원들의 이름을 출력하시오\n",
    "\n",
    "result[['ename']][~emp['empno'].isin(emp['mgr'])]"
   ]
  },
  {
   "cell_type": "code",
   "execution_count": 55,
   "metadata": {},
   "outputs": [
    {
     "data": {
      "text/html": [
       "<div>\n",
       "<style>\n",
       "    .dataframe thead tr:only-child th {\n",
       "        text-align: right;\n",
       "    }\n",
       "\n",
       "    .dataframe thead th {\n",
       "        text-align: left;\n",
       "    }\n",
       "\n",
       "    .dataframe tbody tr th {\n",
       "        vertical-align: top;\n",
       "    }\n",
       "</style>\n",
       "<table border=\"1\" class=\"dataframe\">\n",
       "  <thead>\n",
       "    <tr style=\"text-align: right;\">\n",
       "      <th></th>\n",
       "      <th>ename</th>\n",
       "    </tr>\n",
       "  </thead>\n",
       "  <tbody>\n",
       "    <tr>\n",
       "      <th>0</th>\n",
       "      <td>KING</td>\n",
       "    </tr>\n",
       "  </tbody>\n",
       "</table>\n",
       "</div>"
      ],
      "text/plain": [
       "  ename\n",
       "0  KING"
      ]
     },
     "execution_count": 55,
     "metadata": {},
     "output_type": "execute_result"
    }
   ],
   "source": [
    "# 문제181. 최대값을 받는 사원들의 이름과 월급을 출력하시오\n",
    "\n",
    "result[['ename']][emp['sal']== max(emp['sal'])]"
   ]
  },
  {
   "cell_type": "code",
   "execution_count": 75,
   "metadata": {},
   "outputs": [
    {
     "data": {
      "text/html": [
       "<div>\n",
       "<style>\n",
       "    .dataframe thead tr:only-child th {\n",
       "        text-align: right;\n",
       "    }\n",
       "\n",
       "    .dataframe thead th {\n",
       "        text-align: left;\n",
       "    }\n",
       "\n",
       "    .dataframe tbody tr th {\n",
       "        vertical-align: top;\n",
       "    }\n",
       "</style>\n",
       "<table border=\"1\" class=\"dataframe\">\n",
       "  <thead>\n",
       "    <tr style=\"text-align: right;\">\n",
       "      <th></th>\n",
       "      <th>고객번호</th>\n",
       "      <th>성별</th>\n",
       "      <th>거주지역</th>\n",
       "      <th>가입년월</th>\n",
       "    </tr>\n",
       "  </thead>\n",
       "  <tbody>\n",
       "    <tr>\n",
       "      <th>0</th>\n",
       "      <td>11</td>\n",
       "      <td>1</td>\n",
       "      <td>100.0</td>\n",
       "      <td>201512</td>\n",
       "    </tr>\n",
       "    <tr>\n",
       "      <th>1</th>\n",
       "      <td>21</td>\n",
       "      <td>1</td>\n",
       "      <td>55.0</td>\n",
       "      <td>201506</td>\n",
       "    </tr>\n",
       "    <tr>\n",
       "      <th>2</th>\n",
       "      <td>37</td>\n",
       "      <td>2</td>\n",
       "      <td>16.0</td>\n",
       "      <td>201306</td>\n",
       "    </tr>\n",
       "    <tr>\n",
       "      <th>3</th>\n",
       "      <td>43</td>\n",
       "      <td>2</td>\n",
       "      <td>100.0</td>\n",
       "      <td>201403</td>\n",
       "    </tr>\n",
       "    <tr>\n",
       "      <th>4</th>\n",
       "      <td>44</td>\n",
       "      <td>2</td>\n",
       "      <td>55.0</td>\n",
       "      <td>201411</td>\n",
       "    </tr>\n",
       "    <tr>\n",
       "      <th>5</th>\n",
       "      <td>61</td>\n",
       "      <td>2</td>\n",
       "      <td>55.0</td>\n",
       "      <td>201312</td>\n",
       "    </tr>\n",
       "    <tr>\n",
       "      <th>6</th>\n",
       "      <td>65</td>\n",
       "      <td>2</td>\n",
       "      <td>55.0</td>\n",
       "      <td>201506</td>\n",
       "    </tr>\n",
       "    <tr>\n",
       "      <th>7</th>\n",
       "      <td>69</td>\n",
       "      <td>2</td>\n",
       "      <td>100.0</td>\n",
       "      <td>201404</td>\n",
       "    </tr>\n",
       "    <tr>\n",
       "      <th>8</th>\n",
       "      <td>76</td>\n",
       "      <td>2</td>\n",
       "      <td>100.0</td>\n",
       "      <td>201406</td>\n",
       "    </tr>\n",
       "    <tr>\n",
       "      <th>9</th>\n",
       "      <td>79</td>\n",
       "      <td>2</td>\n",
       "      <td>55.0</td>\n",
       "      <td>201311</td>\n",
       "    </tr>\n",
       "  </tbody>\n",
       "</table>\n",
       "</div>"
      ],
      "text/plain": [
       "   고객번호  성별   거주지역    가입년월\n",
       "0    11   1  100.0  201512\n",
       "1    21   1   55.0  201506\n",
       "2    37   2   16.0  201306\n",
       "3    43   2  100.0  201403\n",
       "4    44   2   55.0  201411\n",
       "5    61   2   55.0  201312\n",
       "6    65   2   55.0  201506\n",
       "7    69   2  100.0  201404\n",
       "8    76   2  100.0  201406\n",
       "9    79   2   55.0  201311"
      ]
     },
     "execution_count": 75,
     "metadata": {},
     "output_type": "execute_result"
    }
   ],
   "source": [
    "# 문제182. 멤버쉽에 가입한 고객의 고객번호, 성별, 거주지, 가입년월을 출력하시오\n",
    "\n",
    "import pandas as pd\n",
    "\n",
    "cust = pd.read_csv('1cust.txt', encoding = 'CP949')\n",
    "memb = pd.read_csv('5memb.txt', encoding = 'CP949')\n",
    "# print(cust)\n",
    "# print(memb)\n",
    "\n",
    "result = pd.merge(cust, memb, on='고객번호')\n",
    "\n",
    "result[['고객번호','성별','거주지역','가입년월']].head(10)"
   ]
  }
 ],
 "metadata": {
  "kernelspec": {
   "display_name": "Python 3",
   "language": "python",
   "name": "python3"
  },
  "language_info": {
   "codemirror_mode": {
    "name": "ipython",
    "version": 3
   },
   "file_extension": ".py",
   "mimetype": "text/x-python",
   "name": "python",
   "nbconvert_exporter": "python",
   "pygments_lexer": "ipython3",
   "version": "3.6.3"
  }
 },
 "nbformat": 4,
 "nbformat_minor": 2
}
