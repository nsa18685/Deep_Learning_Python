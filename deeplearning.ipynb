{
 "cells": [
  {
   "cell_type": "markdown",
   "metadata": {},
   "source": [
    "■ 딥러닝 수업\n",
    "    \n",
    "    인공지능의 눈? cnn\n",
    "    \n",
    "        사진 속에 사람, 동물 등을 구별할 수 있다.\n",
    "        \n",
    "        다음 카카오 로드뷰에 사람 얼굴이나 차 번호등을 개인정보 보호법상 반드시 모자이크 처리를 해야하는데 이것이 사람이 일일이 할 수 없다.\n",
    "\n",
    "    \n",
    "    데이터를 분석하는 목적?\n",
    "        \n",
    "        1. 회사에 돈을 벌어준다.\n",
    "        2. 의료데이터 분석 -> 환자를 살린다."
   ]
  },
  {
   "cell_type": "code",
   "execution_count": null,
   "metadata": {
    "collapsed": true
   },
   "outputs": [],
   "source": []
  }
 ],
 "metadata": {
  "kernelspec": {
   "display_name": "Python 3",
   "language": "python",
   "name": "python3"
  },
  "language_info": {
   "codemirror_mode": {
    "name": "ipython",
    "version": 3
   },
   "file_extension": ".py",
   "mimetype": "text/x-python",
   "name": "python",
   "nbconvert_exporter": "python",
   "pygments_lexer": "ipython3",
   "version": "3.6.3"
  }
 },
 "nbformat": 4,
 "nbformat_minor": 2
}
